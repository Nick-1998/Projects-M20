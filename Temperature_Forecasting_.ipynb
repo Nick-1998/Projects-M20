{
  "nbformat": 4,
  "nbformat_minor": 0,
  "metadata": {
    "colab": {
      "name": "Temperature Forecasting .ipynb",
      "provenance": [],
      "collapsed_sections": []
    },
    "kernelspec": {
      "name": "python3",
      "display_name": "Python 3"
    }
  },
  "cells": [
    {
      "cell_type": "code",
      "metadata": {
        "id": "s9chEQhNVsnJ"
      },
      "source": [
        "# Importing libareries\n",
        "import pandas as pd\n",
        "import numpy as np\n",
        "import matplotlib.pyplot as plt\n",
        "from sklearn.linear_model import LogisticRegression\n",
        "from sklearn.ensemble import RandomForestRegressor\n",
        "from sklearn import preprocessing, svm\n",
        "from sklearn.metrics import mean_squared_log_error\n",
        "import lightgbm as lgb\n",
        "from math import sqrt \n",
        "import seaborn as sns\n",
        "import warnings\n",
        "warnings.filterwarnings('ignore')"
      ],
      "execution_count": 45,
      "outputs": []
    },
    {
      "cell_type": "code",
      "metadata": {
        "id": "YZlIGzT6VzY_",
        "outputId": "c5e77b41-9778-4adc-c167-8fa048cf743d",
        "colab": {
          "resources": {
            "http://localhost:8080/nbextensions/google.colab/files.js": {
              "data": "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",
              "ok": true,
              "headers": [
                [
                  "content-type",
                  "application/javascript"
                ]
              ],
              "status": 200,
              "status_text": ""
            }
          },
          "base_uri": "https://localhost:8080/",
          "height": 73
        }
      },
      "source": [
        "# importing data\n",
        "from google.colab import files\n",
        "uploaded = files.upload()"
      ],
      "execution_count": 46,
      "outputs": [
        {
          "output_type": "display_data",
          "data": {
            "text/html": [
              "\n",
              "     <input type=\"file\" id=\"files-bf9bfb4b-dfc9-4552-a037-9c37a865bbf2\" name=\"files[]\" multiple disabled\n",
              "        style=\"border:none\" />\n",
              "     <output id=\"result-bf9bfb4b-dfc9-4552-a037-9c37a865bbf2\">\n",
              "      Upload widget is only available when the cell has been executed in the\n",
              "      current browser session. Please rerun this cell to enable.\n",
              "      </output>\n",
              "      <script src=\"/nbextensions/google.colab/files.js\"></script> "
            ],
            "text/plain": [
              "<IPython.core.display.HTML object>"
            ]
          },
          "metadata": {
            "tags": []
          }
        },
        {
          "output_type": "stream",
          "text": [
            "Saving Bias_correction_ucl.csv to Bias_correction_ucl (1).csv\n"
          ],
          "name": "stdout"
        }
      ]
    },
    {
      "cell_type": "code",
      "metadata": {
        "id": "8u1Xn_aVV54H",
        "outputId": "ed8262a6-d11c-4d1c-87db-778f602f3dc5",
        "colab": {
          "base_uri": "https://localhost:8080/",
          "height": 343
        }
      },
      "source": [
        "# Read the data\n",
        "df = pd.read_csv('Bias_correction_ucl.csv')\n",
        "display(df.head())\n",
        "display(df.shape)"
      ],
      "execution_count": 47,
      "outputs": [
        {
          "output_type": "display_data",
          "data": {
            "text/html": [
              "<div>\n",
              "<style scoped>\n",
              "    .dataframe tbody tr th:only-of-type {\n",
              "        vertical-align: middle;\n",
              "    }\n",
              "\n",
              "    .dataframe tbody tr th {\n",
              "        vertical-align: top;\n",
              "    }\n",
              "\n",
              "    .dataframe thead th {\n",
              "        text-align: right;\n",
              "    }\n",
              "</style>\n",
              "<table border=\"1\" class=\"dataframe\">\n",
              "  <thead>\n",
              "    <tr style=\"text-align: right;\">\n",
              "      <th></th>\n",
              "      <th>station</th>\n",
              "      <th>Date</th>\n",
              "      <th>Present_Tmax</th>\n",
              "      <th>Present_Tmin</th>\n",
              "      <th>LDAPS_RHmin</th>\n",
              "      <th>LDAPS_RHmax</th>\n",
              "      <th>LDAPS_Tmax_lapse</th>\n",
              "      <th>LDAPS_Tmin_lapse</th>\n",
              "      <th>LDAPS_WS</th>\n",
              "      <th>LDAPS_LH</th>\n",
              "      <th>LDAPS_CC1</th>\n",
              "      <th>LDAPS_CC2</th>\n",
              "      <th>LDAPS_CC3</th>\n",
              "      <th>LDAPS_CC4</th>\n",
              "      <th>LDAPS_PPT1</th>\n",
              "      <th>LDAPS_PPT2</th>\n",
              "      <th>LDAPS_PPT3</th>\n",
              "      <th>LDAPS_PPT4</th>\n",
              "      <th>lat</th>\n",
              "      <th>lon</th>\n",
              "      <th>DEM</th>\n",
              "      <th>Slope</th>\n",
              "      <th>Solar radiation</th>\n",
              "      <th>Next_Tmax</th>\n",
              "      <th>Next_Tmin</th>\n",
              "    </tr>\n",
              "  </thead>\n",
              "  <tbody>\n",
              "    <tr>\n",
              "      <th>0</th>\n",
              "      <td>1.0</td>\n",
              "      <td>2013-06-30</td>\n",
              "      <td>28.7</td>\n",
              "      <td>21.4</td>\n",
              "      <td>58.255688</td>\n",
              "      <td>91.116364</td>\n",
              "      <td>28.074101</td>\n",
              "      <td>23.006936</td>\n",
              "      <td>6.818887</td>\n",
              "      <td>69.451805</td>\n",
              "      <td>0.233947</td>\n",
              "      <td>0.203896</td>\n",
              "      <td>0.161697</td>\n",
              "      <td>0.130928</td>\n",
              "      <td>0.0</td>\n",
              "      <td>0.0</td>\n",
              "      <td>0.0</td>\n",
              "      <td>0.0</td>\n",
              "      <td>37.6046</td>\n",
              "      <td>126.991</td>\n",
              "      <td>212.3350</td>\n",
              "      <td>2.7850</td>\n",
              "      <td>5992.895996</td>\n",
              "      <td>29.1</td>\n",
              "      <td>21.2</td>\n",
              "    </tr>\n",
              "    <tr>\n",
              "      <th>1</th>\n",
              "      <td>2.0</td>\n",
              "      <td>2013-06-30</td>\n",
              "      <td>31.9</td>\n",
              "      <td>21.6</td>\n",
              "      <td>52.263397</td>\n",
              "      <td>90.604721</td>\n",
              "      <td>29.850689</td>\n",
              "      <td>24.035009</td>\n",
              "      <td>5.691890</td>\n",
              "      <td>51.937448</td>\n",
              "      <td>0.225508</td>\n",
              "      <td>0.251771</td>\n",
              "      <td>0.159444</td>\n",
              "      <td>0.127727</td>\n",
              "      <td>0.0</td>\n",
              "      <td>0.0</td>\n",
              "      <td>0.0</td>\n",
              "      <td>0.0</td>\n",
              "      <td>37.6046</td>\n",
              "      <td>127.032</td>\n",
              "      <td>44.7624</td>\n",
              "      <td>0.5141</td>\n",
              "      <td>5869.312500</td>\n",
              "      <td>30.5</td>\n",
              "      <td>22.5</td>\n",
              "    </tr>\n",
              "    <tr>\n",
              "      <th>2</th>\n",
              "      <td>3.0</td>\n",
              "      <td>2013-06-30</td>\n",
              "      <td>31.6</td>\n",
              "      <td>23.3</td>\n",
              "      <td>48.690479</td>\n",
              "      <td>83.973587</td>\n",
              "      <td>30.091292</td>\n",
              "      <td>24.565633</td>\n",
              "      <td>6.138224</td>\n",
              "      <td>20.573050</td>\n",
              "      <td>0.209344</td>\n",
              "      <td>0.257469</td>\n",
              "      <td>0.204091</td>\n",
              "      <td>0.142125</td>\n",
              "      <td>0.0</td>\n",
              "      <td>0.0</td>\n",
              "      <td>0.0</td>\n",
              "      <td>0.0</td>\n",
              "      <td>37.5776</td>\n",
              "      <td>127.058</td>\n",
              "      <td>33.3068</td>\n",
              "      <td>0.2661</td>\n",
              "      <td>5863.555664</td>\n",
              "      <td>31.1</td>\n",
              "      <td>23.9</td>\n",
              "    </tr>\n",
              "    <tr>\n",
              "      <th>3</th>\n",
              "      <td>4.0</td>\n",
              "      <td>2013-06-30</td>\n",
              "      <td>32.0</td>\n",
              "      <td>23.4</td>\n",
              "      <td>58.239788</td>\n",
              "      <td>96.483688</td>\n",
              "      <td>29.704629</td>\n",
              "      <td>23.326177</td>\n",
              "      <td>5.650050</td>\n",
              "      <td>65.727144</td>\n",
              "      <td>0.216372</td>\n",
              "      <td>0.226002</td>\n",
              "      <td>0.161157</td>\n",
              "      <td>0.134249</td>\n",
              "      <td>0.0</td>\n",
              "      <td>0.0</td>\n",
              "      <td>0.0</td>\n",
              "      <td>0.0</td>\n",
              "      <td>37.6450</td>\n",
              "      <td>127.022</td>\n",
              "      <td>45.7160</td>\n",
              "      <td>2.5348</td>\n",
              "      <td>5856.964844</td>\n",
              "      <td>31.7</td>\n",
              "      <td>24.3</td>\n",
              "    </tr>\n",
              "    <tr>\n",
              "      <th>4</th>\n",
              "      <td>5.0</td>\n",
              "      <td>2013-06-30</td>\n",
              "      <td>31.4</td>\n",
              "      <td>21.9</td>\n",
              "      <td>56.174095</td>\n",
              "      <td>90.155128</td>\n",
              "      <td>29.113934</td>\n",
              "      <td>23.486480</td>\n",
              "      <td>5.735004</td>\n",
              "      <td>107.965535</td>\n",
              "      <td>0.151407</td>\n",
              "      <td>0.249995</td>\n",
              "      <td>0.178892</td>\n",
              "      <td>0.170021</td>\n",
              "      <td>0.0</td>\n",
              "      <td>0.0</td>\n",
              "      <td>0.0</td>\n",
              "      <td>0.0</td>\n",
              "      <td>37.5507</td>\n",
              "      <td>127.135</td>\n",
              "      <td>35.0380</td>\n",
              "      <td>0.5055</td>\n",
              "      <td>5859.552246</td>\n",
              "      <td>31.2</td>\n",
              "      <td>22.5</td>\n",
              "    </tr>\n",
              "  </tbody>\n",
              "</table>\n",
              "</div>"
            ],
            "text/plain": [
              "   station        Date  Present_Tmax  ...  Solar radiation  Next_Tmax  Next_Tmin\n",
              "0      1.0  2013-06-30          28.7  ...      5992.895996       29.1       21.2\n",
              "1      2.0  2013-06-30          31.9  ...      5869.312500       30.5       22.5\n",
              "2      3.0  2013-06-30          31.6  ...      5863.555664       31.1       23.9\n",
              "3      4.0  2013-06-30          32.0  ...      5856.964844       31.7       24.3\n",
              "4      5.0  2013-06-30          31.4  ...      5859.552246       31.2       22.5\n",
              "\n",
              "[5 rows x 25 columns]"
            ]
          },
          "metadata": {
            "tags": []
          }
        },
        {
          "output_type": "display_data",
          "data": {
            "text/plain": [
              "(7752, 25)"
            ]
          },
          "metadata": {
            "tags": []
          }
        }
      ]
    },
    {
      "cell_type": "code",
      "metadata": {
        "id": "mZc3LvQNWFij",
        "outputId": "62f5d2a3-c6ec-4813-ed50-c0d373206ab9",
        "colab": {
          "base_uri": "https://localhost:8080/"
        }
      },
      "source": [
        "# Check the missing values\n",
        "df.isnull().sum()"
      ],
      "execution_count": 48,
      "outputs": [
        {
          "output_type": "execute_result",
          "data": {
            "text/plain": [
              "station              2\n",
              "Date                 2\n",
              "Present_Tmax        70\n",
              "Present_Tmin        70\n",
              "LDAPS_RHmin         75\n",
              "LDAPS_RHmax         75\n",
              "LDAPS_Tmax_lapse    75\n",
              "LDAPS_Tmin_lapse    75\n",
              "LDAPS_WS            75\n",
              "LDAPS_LH            75\n",
              "LDAPS_CC1           75\n",
              "LDAPS_CC2           75\n",
              "LDAPS_CC3           75\n",
              "LDAPS_CC4           75\n",
              "LDAPS_PPT1          75\n",
              "LDAPS_PPT2          75\n",
              "LDAPS_PPT3          75\n",
              "LDAPS_PPT4          75\n",
              "lat                  0\n",
              "lon                  0\n",
              "DEM                  0\n",
              "Slope                0\n",
              "Solar radiation      0\n",
              "Next_Tmax           27\n",
              "Next_Tmin           27\n",
              "dtype: int64"
            ]
          },
          "metadata": {
            "tags": []
          },
          "execution_count": 48
        }
      ]
    },
    {
      "cell_type": "code",
      "metadata": {
        "id": "dd9HgqktWK1L"
      },
      "source": [
        "# Remove missing vaules\n",
        "df = df.dropna(how='any')"
      ],
      "execution_count": 49,
      "outputs": []
    },
    {
      "cell_type": "code",
      "metadata": {
        "id": "_vV4NZAqWNGe",
        "outputId": "ced0396d-ff77-4f6f-f298-b90dee94fb73",
        "colab": {
          "base_uri": "https://localhost:8080/"
        }
      },
      "source": [
        "# Check the missing values again after treating \n",
        "df.isnull().sum()"
      ],
      "execution_count": 50,
      "outputs": [
        {
          "output_type": "execute_result",
          "data": {
            "text/plain": [
              "station             0\n",
              "Date                0\n",
              "Present_Tmax        0\n",
              "Present_Tmin        0\n",
              "LDAPS_RHmin         0\n",
              "LDAPS_RHmax         0\n",
              "LDAPS_Tmax_lapse    0\n",
              "LDAPS_Tmin_lapse    0\n",
              "LDAPS_WS            0\n",
              "LDAPS_LH            0\n",
              "LDAPS_CC1           0\n",
              "LDAPS_CC2           0\n",
              "LDAPS_CC3           0\n",
              "LDAPS_CC4           0\n",
              "LDAPS_PPT1          0\n",
              "LDAPS_PPT2          0\n",
              "LDAPS_PPT3          0\n",
              "LDAPS_PPT4          0\n",
              "lat                 0\n",
              "lon                 0\n",
              "DEM                 0\n",
              "Slope               0\n",
              "Solar radiation     0\n",
              "Next_Tmax           0\n",
              "Next_Tmin           0\n",
              "dtype: int64"
            ]
          },
          "metadata": {
            "tags": []
          },
          "execution_count": 50
        }
      ]
    },
    {
      "cell_type": "markdown",
      "metadata": {
        "id": "VTOlW4BZWUVb"
      },
      "source": [
        "'No more missing values are present in dataset '"
      ]
    },
    {
      "cell_type": "code",
      "metadata": {
        "id": "fxqtdgTqWSiU",
        "outputId": "2fa37dff-3fdf-409a-9af8-5ae06dd0a236",
        "colab": {
          "base_uri": "https://localhost:8080/"
        }
      },
      "source": [
        "# Check the skewness \n",
        "df.skew()"
      ],
      "execution_count": 51,
      "outputs": [
        {
          "output_type": "execute_result",
          "data": {
            "text/plain": [
              "station            -0.004178\n",
              "Present_Tmax       -0.257069\n",
              "Present_Tmin       -0.353822\n",
              "LDAPS_RHmin         0.301396\n",
              "LDAPS_RHmax        -0.845264\n",
              "LDAPS_Tmax_lapse   -0.222349\n",
              "LDAPS_Tmin_lapse   -0.574035\n",
              "LDAPS_WS            1.553926\n",
              "LDAPS_LH            0.662971\n",
              "LDAPS_CC1           0.456716\n",
              "LDAPS_CC2           0.473929\n",
              "LDAPS_CC3           0.639649\n",
              "LDAPS_CC4           0.663815\n",
              "LDAPS_PPT1          5.305906\n",
              "LDAPS_PPT2          5.710360\n",
              "LDAPS_PPT3          6.356670\n",
              "LDAPS_PPT4          6.681256\n",
              "lat                 0.085377\n",
              "lon                -0.289048\n",
              "DEM                 1.721617\n",
              "Slope               1.559050\n",
              "Solar radiation    -0.524325\n",
              "Next_Tmax          -0.334842\n",
              "Next_Tmin          -0.393662\n",
              "dtype: float64"
            ]
          },
          "metadata": {
            "tags": []
          },
          "execution_count": 51
        }
      ]
    },
    {
      "cell_type": "code",
      "metadata": {
        "id": "B6o54181WblU"
      },
      "source": [
        "# Treating skewnness\n",
        "skew = ('LDAPS_CC3','LDAPS_CC4','LDAPS_PPT1','LDAPS_PPT2','LDAPS_PPT3','LDAPS_PPT4')\n",
        "for col in skew:\n",
        "    if df.skew().loc[col]>0.55:\n",
        "        df[col] = np.log1p(df[col])"
      ],
      "execution_count": 52,
      "outputs": []
    },
    {
      "cell_type": "code",
      "metadata": {
        "id": "QhR2zWbZWr2T",
        "outputId": "14c93a5a-12c0-4d38-fe73-a7da33815be1",
        "colab": {
          "base_uri": "https://localhost:8080/"
        }
      },
      "source": [
        "df.skew()"
      ],
      "execution_count": 53,
      "outputs": [
        {
          "output_type": "execute_result",
          "data": {
            "text/plain": [
              "station            -0.004178\n",
              "Present_Tmax       -0.257069\n",
              "Present_Tmin       -0.353822\n",
              "LDAPS_RHmin         0.301396\n",
              "LDAPS_RHmax        -0.845264\n",
              "LDAPS_Tmax_lapse   -0.222349\n",
              "LDAPS_Tmin_lapse   -0.574035\n",
              "LDAPS_WS            1.553926\n",
              "LDAPS_LH            0.662971\n",
              "LDAPS_CC1           0.456716\n",
              "LDAPS_CC2           0.473929\n",
              "LDAPS_CC3           0.388007\n",
              "LDAPS_CC4           0.441501\n",
              "LDAPS_PPT1          2.742772\n",
              "LDAPS_PPT2          3.176107\n",
              "LDAPS_PPT3          3.998494\n",
              "LDAPS_PPT4          4.196452\n",
              "lat                 0.085377\n",
              "lon                -0.289048\n",
              "DEM                 1.721617\n",
              "Slope               1.559050\n",
              "Solar radiation    -0.524325\n",
              "Next_Tmax          -0.334842\n",
              "Next_Tmin          -0.393662\n",
              "dtype: float64"
            ]
          },
          "metadata": {
            "tags": []
          },
          "execution_count": 53
        }
      ]
    },
    {
      "cell_type": "code",
      "metadata": {
        "id": "d-du8YzxWx_5",
        "outputId": "3e6bccb2-ea82-4447-b456-17faa325c4ff",
        "colab": {
          "base_uri": "https://localhost:8080/",
          "height": 334
        }
      },
      "source": [
        "# Summary statistics\n",
        "df.describe()"
      ],
      "execution_count": 54,
      "outputs": [
        {
          "output_type": "execute_result",
          "data": {
            "text/html": [
              "<div>\n",
              "<style scoped>\n",
              "    .dataframe tbody tr th:only-of-type {\n",
              "        vertical-align: middle;\n",
              "    }\n",
              "\n",
              "    .dataframe tbody tr th {\n",
              "        vertical-align: top;\n",
              "    }\n",
              "\n",
              "    .dataframe thead th {\n",
              "        text-align: right;\n",
              "    }\n",
              "</style>\n",
              "<table border=\"1\" class=\"dataframe\">\n",
              "  <thead>\n",
              "    <tr style=\"text-align: right;\">\n",
              "      <th></th>\n",
              "      <th>station</th>\n",
              "      <th>Present_Tmax</th>\n",
              "      <th>Present_Tmin</th>\n",
              "      <th>LDAPS_RHmin</th>\n",
              "      <th>LDAPS_RHmax</th>\n",
              "      <th>LDAPS_Tmax_lapse</th>\n",
              "      <th>LDAPS_Tmin_lapse</th>\n",
              "      <th>LDAPS_WS</th>\n",
              "      <th>LDAPS_LH</th>\n",
              "      <th>LDAPS_CC1</th>\n",
              "      <th>LDAPS_CC2</th>\n",
              "      <th>LDAPS_CC3</th>\n",
              "      <th>LDAPS_CC4</th>\n",
              "      <th>LDAPS_PPT1</th>\n",
              "      <th>LDAPS_PPT2</th>\n",
              "      <th>LDAPS_PPT3</th>\n",
              "      <th>LDAPS_PPT4</th>\n",
              "      <th>lat</th>\n",
              "      <th>lon</th>\n",
              "      <th>DEM</th>\n",
              "      <th>Slope</th>\n",
              "      <th>Solar radiation</th>\n",
              "      <th>Next_Tmax</th>\n",
              "      <th>Next_Tmin</th>\n",
              "    </tr>\n",
              "  </thead>\n",
              "  <tbody>\n",
              "    <tr>\n",
              "      <th>count</th>\n",
              "      <td>7588.000000</td>\n",
              "      <td>7588.000000</td>\n",
              "      <td>7588.000000</td>\n",
              "      <td>7588.000000</td>\n",
              "      <td>7588.000000</td>\n",
              "      <td>7588.000000</td>\n",
              "      <td>7588.000000</td>\n",
              "      <td>7588.000000</td>\n",
              "      <td>7588.000000</td>\n",
              "      <td>7588.000000</td>\n",
              "      <td>7588.000000</td>\n",
              "      <td>7588.000000</td>\n",
              "      <td>7588.000000</td>\n",
              "      <td>7588.000000</td>\n",
              "      <td>7588.000000</td>\n",
              "      <td>7588.000000</td>\n",
              "      <td>7588.000000</td>\n",
              "      <td>7588.000000</td>\n",
              "      <td>7588.00000</td>\n",
              "      <td>7588.000000</td>\n",
              "      <td>7588.000000</td>\n",
              "      <td>7588.000000</td>\n",
              "      <td>7588.000000</td>\n",
              "      <td>7588.000000</td>\n",
              "    </tr>\n",
              "    <tr>\n",
              "      <th>mean</th>\n",
              "      <td>13.014101</td>\n",
              "      <td>29.748366</td>\n",
              "      <td>23.195809</td>\n",
              "      <td>56.724969</td>\n",
              "      <td>88.360823</td>\n",
              "      <td>29.620128</td>\n",
              "      <td>23.511786</td>\n",
              "      <td>7.094097</td>\n",
              "      <td>62.492606</td>\n",
              "      <td>0.368510</td>\n",
              "      <td>0.355528</td>\n",
              "      <td>0.258596</td>\n",
              "      <td>0.242934</td>\n",
              "      <td>0.225954</td>\n",
              "      <td>0.183721</td>\n",
              "      <td>0.121442</td>\n",
              "      <td>0.112957</td>\n",
              "      <td>37.544792</td>\n",
              "      <td>126.99142</td>\n",
              "      <td>61.918136</td>\n",
              "      <td>1.259755</td>\n",
              "      <td>5343.724208</td>\n",
              "      <td>30.241526</td>\n",
              "      <td>22.910820</td>\n",
              "    </tr>\n",
              "    <tr>\n",
              "      <th>std</th>\n",
              "      <td>7.217858</td>\n",
              "      <td>2.967401</td>\n",
              "      <td>2.400880</td>\n",
              "      <td>14.626559</td>\n",
              "      <td>7.199456</td>\n",
              "      <td>2.943496</td>\n",
              "      <td>2.342579</td>\n",
              "      <td>2.177034</td>\n",
              "      <td>33.686158</td>\n",
              "      <td>0.262260</td>\n",
              "      <td>0.257922</td>\n",
              "      <td>0.183447</td>\n",
              "      <td>0.187984</td>\n",
              "      <td>0.532927</td>\n",
              "      <td>0.489404</td>\n",
              "      <td>0.372989</td>\n",
              "      <td>0.369068</td>\n",
              "      <td>0.050428</td>\n",
              "      <td>0.07922</td>\n",
              "      <td>54.323529</td>\n",
              "      <td>1.372748</td>\n",
              "      <td>429.782561</td>\n",
              "      <td>3.111807</td>\n",
              "      <td>2.482256</td>\n",
              "    </tr>\n",
              "    <tr>\n",
              "      <th>min</th>\n",
              "      <td>1.000000</td>\n",
              "      <td>20.000000</td>\n",
              "      <td>11.300000</td>\n",
              "      <td>19.794666</td>\n",
              "      <td>58.936283</td>\n",
              "      <td>17.624954</td>\n",
              "      <td>14.272646</td>\n",
              "      <td>2.882580</td>\n",
              "      <td>-13.603212</td>\n",
              "      <td>0.000000</td>\n",
              "      <td>0.000000</td>\n",
              "      <td>0.000000</td>\n",
              "      <td>0.000000</td>\n",
              "      <td>0.000000</td>\n",
              "      <td>0.000000</td>\n",
              "      <td>0.000000</td>\n",
              "      <td>0.000000</td>\n",
              "      <td>37.456200</td>\n",
              "      <td>126.82600</td>\n",
              "      <td>12.370000</td>\n",
              "      <td>0.098500</td>\n",
              "      <td>4329.520508</td>\n",
              "      <td>17.400000</td>\n",
              "      <td>11.300000</td>\n",
              "    </tr>\n",
              "    <tr>\n",
              "      <th>25%</th>\n",
              "      <td>7.000000</td>\n",
              "      <td>27.800000</td>\n",
              "      <td>21.600000</td>\n",
              "      <td>45.960243</td>\n",
              "      <td>84.203724</td>\n",
              "      <td>27.673756</td>\n",
              "      <td>22.086820</td>\n",
              "      <td>5.675358</td>\n",
              "      <td>37.206201</td>\n",
              "      <td>0.146546</td>\n",
              "      <td>0.140324</td>\n",
              "      <td>0.096173</td>\n",
              "      <td>0.078344</td>\n",
              "      <td>0.000000</td>\n",
              "      <td>0.000000</td>\n",
              "      <td>0.000000</td>\n",
              "      <td>0.000000</td>\n",
              "      <td>37.510200</td>\n",
              "      <td>126.93700</td>\n",
              "      <td>28.700000</td>\n",
              "      <td>0.271300</td>\n",
              "      <td>5001.485717</td>\n",
              "      <td>28.200000</td>\n",
              "      <td>21.300000</td>\n",
              "    </tr>\n",
              "    <tr>\n",
              "      <th>50%</th>\n",
              "      <td>13.000000</td>\n",
              "      <td>29.900000</td>\n",
              "      <td>23.400000</td>\n",
              "      <td>55.023199</td>\n",
              "      <td>89.784122</td>\n",
              "      <td>29.709537</td>\n",
              "      <td>23.758249</td>\n",
              "      <td>6.547838</td>\n",
              "      <td>56.898324</td>\n",
              "      <td>0.315706</td>\n",
              "      <td>0.311676</td>\n",
              "      <td>0.232535</td>\n",
              "      <td>0.204946</td>\n",
              "      <td>0.000000</td>\n",
              "      <td>0.000000</td>\n",
              "      <td>0.000000</td>\n",
              "      <td>0.000000</td>\n",
              "      <td>37.550700</td>\n",
              "      <td>126.99500</td>\n",
              "      <td>45.716000</td>\n",
              "      <td>0.618000</td>\n",
              "      <td>5441.987305</td>\n",
              "      <td>30.400000</td>\n",
              "      <td>23.100000</td>\n",
              "    </tr>\n",
              "    <tr>\n",
              "      <th>75%</th>\n",
              "      <td>19.000000</td>\n",
              "      <td>32.000000</td>\n",
              "      <td>24.800000</td>\n",
              "      <td>67.115099</td>\n",
              "      <td>93.742725</td>\n",
              "      <td>31.711109</td>\n",
              "      <td>25.155660</td>\n",
              "      <td>8.028960</td>\n",
              "      <td>84.235666</td>\n",
              "      <td>0.574174</td>\n",
              "      <td>0.557164</td>\n",
              "      <td>0.403092</td>\n",
              "      <td>0.404215</td>\n",
              "      <td>0.051258</td>\n",
              "      <td>0.017580</td>\n",
              "      <td>0.007824</td>\n",
              "      <td>0.000017</td>\n",
              "      <td>37.577600</td>\n",
              "      <td>127.04200</td>\n",
              "      <td>59.832400</td>\n",
              "      <td>1.767800</td>\n",
              "      <td>5729.485840</td>\n",
              "      <td>32.600000</td>\n",
              "      <td>24.600000</td>\n",
              "    </tr>\n",
              "    <tr>\n",
              "      <th>max</th>\n",
              "      <td>25.000000</td>\n",
              "      <td>37.600000</td>\n",
              "      <td>29.900000</td>\n",
              "      <td>98.524734</td>\n",
              "      <td>100.000153</td>\n",
              "      <td>38.542255</td>\n",
              "      <td>29.619342</td>\n",
              "      <td>21.857621</td>\n",
              "      <td>213.414006</td>\n",
              "      <td>0.967277</td>\n",
              "      <td>0.968353</td>\n",
              "      <td>0.685009</td>\n",
              "      <td>0.680421</td>\n",
              "      <td>3.206866</td>\n",
              "      <td>3.118908</td>\n",
              "      <td>2.823830</td>\n",
              "      <td>2.871046</td>\n",
              "      <td>37.645000</td>\n",
              "      <td>127.13500</td>\n",
              "      <td>212.335000</td>\n",
              "      <td>5.178200</td>\n",
              "      <td>5992.895996</td>\n",
              "      <td>38.900000</td>\n",
              "      <td>29.800000</td>\n",
              "    </tr>\n",
              "  </tbody>\n",
              "</table>\n",
              "</div>"
            ],
            "text/plain": [
              "           station  Present_Tmax  ...    Next_Tmax    Next_Tmin\n",
              "count  7588.000000   7588.000000  ...  7588.000000  7588.000000\n",
              "mean     13.014101     29.748366  ...    30.241526    22.910820\n",
              "std       7.217858      2.967401  ...     3.111807     2.482256\n",
              "min       1.000000     20.000000  ...    17.400000    11.300000\n",
              "25%       7.000000     27.800000  ...    28.200000    21.300000\n",
              "50%      13.000000     29.900000  ...    30.400000    23.100000\n",
              "75%      19.000000     32.000000  ...    32.600000    24.600000\n",
              "max      25.000000     37.600000  ...    38.900000    29.800000\n",
              "\n",
              "[8 rows x 24 columns]"
            ]
          },
          "metadata": {
            "tags": []
          },
          "execution_count": 54
        }
      ]
    },
    {
      "cell_type": "code",
      "metadata": {
        "id": "tf4WRlyRW0Xe",
        "outputId": "44910f91-743a-4d67-f555-7c75f8cc7c63",
        "colab": {
          "base_uri": "https://localhost:8080/"
        }
      },
      "source": [
        "# Check the info\n",
        "df.info()"
      ],
      "execution_count": 55,
      "outputs": [
        {
          "output_type": "stream",
          "text": [
            "<class 'pandas.core.frame.DataFrame'>\n",
            "Int64Index: 7588 entries, 0 to 7749\n",
            "Data columns (total 25 columns):\n",
            " #   Column            Non-Null Count  Dtype  \n",
            "---  ------            --------------  -----  \n",
            " 0   station           7588 non-null   float64\n",
            " 1   Date              7588 non-null   object \n",
            " 2   Present_Tmax      7588 non-null   float64\n",
            " 3   Present_Tmin      7588 non-null   float64\n",
            " 4   LDAPS_RHmin       7588 non-null   float64\n",
            " 5   LDAPS_RHmax       7588 non-null   float64\n",
            " 6   LDAPS_Tmax_lapse  7588 non-null   float64\n",
            " 7   LDAPS_Tmin_lapse  7588 non-null   float64\n",
            " 8   LDAPS_WS          7588 non-null   float64\n",
            " 9   LDAPS_LH          7588 non-null   float64\n",
            " 10  LDAPS_CC1         7588 non-null   float64\n",
            " 11  LDAPS_CC2         7588 non-null   float64\n",
            " 12  LDAPS_CC3         7588 non-null   float64\n",
            " 13  LDAPS_CC4         7588 non-null   float64\n",
            " 14  LDAPS_PPT1        7588 non-null   float64\n",
            " 15  LDAPS_PPT2        7588 non-null   float64\n",
            " 16  LDAPS_PPT3        7588 non-null   float64\n",
            " 17  LDAPS_PPT4        7588 non-null   float64\n",
            " 18  lat               7588 non-null   float64\n",
            " 19  lon               7588 non-null   float64\n",
            " 20  DEM               7588 non-null   float64\n",
            " 21  Slope             7588 non-null   float64\n",
            " 22  Solar radiation   7588 non-null   float64\n",
            " 23  Next_Tmax         7588 non-null   float64\n",
            " 24  Next_Tmin         7588 non-null   float64\n",
            "dtypes: float64(24), object(1)\n",
            "memory usage: 1.5+ MB\n"
          ],
          "name": "stdout"
        }
      ]
    },
    {
      "cell_type": "code",
      "metadata": {
        "id": "oa9lPWw6Zftp",
        "outputId": "3d04b827-70a9-4c61-e6c5-3ccffa4f3079",
        "colab": {
          "base_uri": "https://localhost:8080/",
          "height": 456
        }
      },
      "source": [
        "df = df.drop(columns=['Date'])\n",
        "df"
      ],
      "execution_count": 56,
      "outputs": [
        {
          "output_type": "execute_result",
          "data": {
            "text/html": [
              "<div>\n",
              "<style scoped>\n",
              "    .dataframe tbody tr th:only-of-type {\n",
              "        vertical-align: middle;\n",
              "    }\n",
              "\n",
              "    .dataframe tbody tr th {\n",
              "        vertical-align: top;\n",
              "    }\n",
              "\n",
              "    .dataframe thead th {\n",
              "        text-align: right;\n",
              "    }\n",
              "</style>\n",
              "<table border=\"1\" class=\"dataframe\">\n",
              "  <thead>\n",
              "    <tr style=\"text-align: right;\">\n",
              "      <th></th>\n",
              "      <th>station</th>\n",
              "      <th>Present_Tmax</th>\n",
              "      <th>Present_Tmin</th>\n",
              "      <th>LDAPS_RHmin</th>\n",
              "      <th>LDAPS_RHmax</th>\n",
              "      <th>LDAPS_Tmax_lapse</th>\n",
              "      <th>LDAPS_Tmin_lapse</th>\n",
              "      <th>LDAPS_WS</th>\n",
              "      <th>LDAPS_LH</th>\n",
              "      <th>LDAPS_CC1</th>\n",
              "      <th>LDAPS_CC2</th>\n",
              "      <th>LDAPS_CC3</th>\n",
              "      <th>LDAPS_CC4</th>\n",
              "      <th>LDAPS_PPT1</th>\n",
              "      <th>LDAPS_PPT2</th>\n",
              "      <th>LDAPS_PPT3</th>\n",
              "      <th>LDAPS_PPT4</th>\n",
              "      <th>lat</th>\n",
              "      <th>lon</th>\n",
              "      <th>DEM</th>\n",
              "      <th>Slope</th>\n",
              "      <th>Solar radiation</th>\n",
              "      <th>Next_Tmax</th>\n",
              "      <th>Next_Tmin</th>\n",
              "    </tr>\n",
              "  </thead>\n",
              "  <tbody>\n",
              "    <tr>\n",
              "      <th>0</th>\n",
              "      <td>1.0</td>\n",
              "      <td>28.7</td>\n",
              "      <td>21.4</td>\n",
              "      <td>58.255688</td>\n",
              "      <td>91.116364</td>\n",
              "      <td>28.074101</td>\n",
              "      <td>23.006936</td>\n",
              "      <td>6.818887</td>\n",
              "      <td>69.451805</td>\n",
              "      <td>0.233947</td>\n",
              "      <td>0.203896</td>\n",
              "      <td>1.498817e-01</td>\n",
              "      <td>0.123039</td>\n",
              "      <td>0.0</td>\n",
              "      <td>0.0</td>\n",
              "      <td>0.0</td>\n",
              "      <td>0.0</td>\n",
              "      <td>37.6046</td>\n",
              "      <td>126.991</td>\n",
              "      <td>212.3350</td>\n",
              "      <td>2.7850</td>\n",
              "      <td>5992.895996</td>\n",
              "      <td>29.1</td>\n",
              "      <td>21.2</td>\n",
              "    </tr>\n",
              "    <tr>\n",
              "      <th>1</th>\n",
              "      <td>2.0</td>\n",
              "      <td>31.9</td>\n",
              "      <td>21.6</td>\n",
              "      <td>52.263397</td>\n",
              "      <td>90.604721</td>\n",
              "      <td>29.850689</td>\n",
              "      <td>24.035009</td>\n",
              "      <td>5.691890</td>\n",
              "      <td>51.937448</td>\n",
              "      <td>0.225508</td>\n",
              "      <td>0.251771</td>\n",
              "      <td>1.479406e-01</td>\n",
              "      <td>0.120204</td>\n",
              "      <td>0.0</td>\n",
              "      <td>0.0</td>\n",
              "      <td>0.0</td>\n",
              "      <td>0.0</td>\n",
              "      <td>37.6046</td>\n",
              "      <td>127.032</td>\n",
              "      <td>44.7624</td>\n",
              "      <td>0.5141</td>\n",
              "      <td>5869.312500</td>\n",
              "      <td>30.5</td>\n",
              "      <td>22.5</td>\n",
              "    </tr>\n",
              "    <tr>\n",
              "      <th>2</th>\n",
              "      <td>3.0</td>\n",
              "      <td>31.6</td>\n",
              "      <td>23.3</td>\n",
              "      <td>48.690479</td>\n",
              "      <td>83.973587</td>\n",
              "      <td>30.091292</td>\n",
              "      <td>24.565633</td>\n",
              "      <td>6.138224</td>\n",
              "      <td>20.573050</td>\n",
              "      <td>0.209344</td>\n",
              "      <td>0.257469</td>\n",
              "      <td>1.857253e-01</td>\n",
              "      <td>0.132891</td>\n",
              "      <td>0.0</td>\n",
              "      <td>0.0</td>\n",
              "      <td>0.0</td>\n",
              "      <td>0.0</td>\n",
              "      <td>37.5776</td>\n",
              "      <td>127.058</td>\n",
              "      <td>33.3068</td>\n",
              "      <td>0.2661</td>\n",
              "      <td>5863.555664</td>\n",
              "      <td>31.1</td>\n",
              "      <td>23.9</td>\n",
              "    </tr>\n",
              "    <tr>\n",
              "      <th>3</th>\n",
              "      <td>4.0</td>\n",
              "      <td>32.0</td>\n",
              "      <td>23.4</td>\n",
              "      <td>58.239788</td>\n",
              "      <td>96.483688</td>\n",
              "      <td>29.704629</td>\n",
              "      <td>23.326177</td>\n",
              "      <td>5.650050</td>\n",
              "      <td>65.727144</td>\n",
              "      <td>0.216372</td>\n",
              "      <td>0.226002</td>\n",
              "      <td>1.494173e-01</td>\n",
              "      <td>0.125970</td>\n",
              "      <td>0.0</td>\n",
              "      <td>0.0</td>\n",
              "      <td>0.0</td>\n",
              "      <td>0.0</td>\n",
              "      <td>37.6450</td>\n",
              "      <td>127.022</td>\n",
              "      <td>45.7160</td>\n",
              "      <td>2.5348</td>\n",
              "      <td>5856.964844</td>\n",
              "      <td>31.7</td>\n",
              "      <td>24.3</td>\n",
              "    </tr>\n",
              "    <tr>\n",
              "      <th>4</th>\n",
              "      <td>5.0</td>\n",
              "      <td>31.4</td>\n",
              "      <td>21.9</td>\n",
              "      <td>56.174095</td>\n",
              "      <td>90.155128</td>\n",
              "      <td>29.113934</td>\n",
              "      <td>23.486480</td>\n",
              "      <td>5.735004</td>\n",
              "      <td>107.965535</td>\n",
              "      <td>0.151407</td>\n",
              "      <td>0.249995</td>\n",
              "      <td>1.645754e-01</td>\n",
              "      <td>0.157022</td>\n",
              "      <td>0.0</td>\n",
              "      <td>0.0</td>\n",
              "      <td>0.0</td>\n",
              "      <td>0.0</td>\n",
              "      <td>37.5507</td>\n",
              "      <td>127.135</td>\n",
              "      <td>35.0380</td>\n",
              "      <td>0.5055</td>\n",
              "      <td>5859.552246</td>\n",
              "      <td>31.2</td>\n",
              "      <td>22.5</td>\n",
              "    </tr>\n",
              "    <tr>\n",
              "      <th>...</th>\n",
              "      <td>...</td>\n",
              "      <td>...</td>\n",
              "      <td>...</td>\n",
              "      <td>...</td>\n",
              "      <td>...</td>\n",
              "      <td>...</td>\n",
              "      <td>...</td>\n",
              "      <td>...</td>\n",
              "      <td>...</td>\n",
              "      <td>...</td>\n",
              "      <td>...</td>\n",
              "      <td>...</td>\n",
              "      <td>...</td>\n",
              "      <td>...</td>\n",
              "      <td>...</td>\n",
              "      <td>...</td>\n",
              "      <td>...</td>\n",
              "      <td>...</td>\n",
              "      <td>...</td>\n",
              "      <td>...</td>\n",
              "      <td>...</td>\n",
              "      <td>...</td>\n",
              "      <td>...</td>\n",
              "      <td>...</td>\n",
              "    </tr>\n",
              "    <tr>\n",
              "      <th>7745</th>\n",
              "      <td>21.0</td>\n",
              "      <td>23.1</td>\n",
              "      <td>17.8</td>\n",
              "      <td>24.688997</td>\n",
              "      <td>78.261383</td>\n",
              "      <td>27.812697</td>\n",
              "      <td>18.303014</td>\n",
              "      <td>6.603253</td>\n",
              "      <td>9.614074</td>\n",
              "      <td>0.052902</td>\n",
              "      <td>0.030169</td>\n",
              "      <td>0.000000e+00</td>\n",
              "      <td>0.004370</td>\n",
              "      <td>0.0</td>\n",
              "      <td>0.0</td>\n",
              "      <td>0.0</td>\n",
              "      <td>0.0</td>\n",
              "      <td>37.5507</td>\n",
              "      <td>127.040</td>\n",
              "      <td>26.2980</td>\n",
              "      <td>0.5721</td>\n",
              "      <td>4456.024414</td>\n",
              "      <td>27.6</td>\n",
              "      <td>17.7</td>\n",
              "    </tr>\n",
              "    <tr>\n",
              "      <th>7746</th>\n",
              "      <td>22.0</td>\n",
              "      <td>22.5</td>\n",
              "      <td>17.4</td>\n",
              "      <td>30.094858</td>\n",
              "      <td>83.690018</td>\n",
              "      <td>26.704905</td>\n",
              "      <td>17.814038</td>\n",
              "      <td>5.768083</td>\n",
              "      <td>82.146707</td>\n",
              "      <td>0.066461</td>\n",
              "      <td>0.024518</td>\n",
              "      <td>5.849998e-07</td>\n",
              "      <td>0.017523</td>\n",
              "      <td>0.0</td>\n",
              "      <td>0.0</td>\n",
              "      <td>0.0</td>\n",
              "      <td>0.0</td>\n",
              "      <td>37.5102</td>\n",
              "      <td>127.086</td>\n",
              "      <td>21.9668</td>\n",
              "      <td>0.1332</td>\n",
              "      <td>4441.803711</td>\n",
              "      <td>28.0</td>\n",
              "      <td>17.1</td>\n",
              "    </tr>\n",
              "    <tr>\n",
              "      <th>7747</th>\n",
              "      <td>23.0</td>\n",
              "      <td>23.3</td>\n",
              "      <td>17.1</td>\n",
              "      <td>26.741310</td>\n",
              "      <td>78.869858</td>\n",
              "      <td>26.352081</td>\n",
              "      <td>18.775678</td>\n",
              "      <td>6.148918</td>\n",
              "      <td>72.058294</td>\n",
              "      <td>0.030034</td>\n",
              "      <td>0.081035</td>\n",
              "      <td>0.000000e+00</td>\n",
              "      <td>0.000000</td>\n",
              "      <td>0.0</td>\n",
              "      <td>0.0</td>\n",
              "      <td>0.0</td>\n",
              "      <td>0.0</td>\n",
              "      <td>37.5372</td>\n",
              "      <td>126.891</td>\n",
              "      <td>15.5876</td>\n",
              "      <td>0.1554</td>\n",
              "      <td>4443.313965</td>\n",
              "      <td>28.3</td>\n",
              "      <td>18.1</td>\n",
              "    </tr>\n",
              "    <tr>\n",
              "      <th>7748</th>\n",
              "      <td>24.0</td>\n",
              "      <td>23.3</td>\n",
              "      <td>17.7</td>\n",
              "      <td>24.040634</td>\n",
              "      <td>77.294975</td>\n",
              "      <td>27.010193</td>\n",
              "      <td>18.733519</td>\n",
              "      <td>6.542819</td>\n",
              "      <td>47.241457</td>\n",
              "      <td>0.035874</td>\n",
              "      <td>0.074962</td>\n",
              "      <td>0.000000e+00</td>\n",
              "      <td>0.000000</td>\n",
              "      <td>0.0</td>\n",
              "      <td>0.0</td>\n",
              "      <td>0.0</td>\n",
              "      <td>0.0</td>\n",
              "      <td>37.5237</td>\n",
              "      <td>126.909</td>\n",
              "      <td>17.2956</td>\n",
              "      <td>0.2223</td>\n",
              "      <td>4438.373535</td>\n",
              "      <td>28.6</td>\n",
              "      <td>18.8</td>\n",
              "    </tr>\n",
              "    <tr>\n",
              "      <th>7749</th>\n",
              "      <td>25.0</td>\n",
              "      <td>23.2</td>\n",
              "      <td>17.4</td>\n",
              "      <td>22.933014</td>\n",
              "      <td>77.243744</td>\n",
              "      <td>27.939516</td>\n",
              "      <td>18.522965</td>\n",
              "      <td>7.289264</td>\n",
              "      <td>9.090034</td>\n",
              "      <td>0.048954</td>\n",
              "      <td>0.059869</td>\n",
              "      <td>0.000000e+00</td>\n",
              "      <td>0.000796</td>\n",
              "      <td>0.0</td>\n",
              "      <td>0.0</td>\n",
              "      <td>0.0</td>\n",
              "      <td>0.0</td>\n",
              "      <td>37.5237</td>\n",
              "      <td>126.970</td>\n",
              "      <td>19.5844</td>\n",
              "      <td>0.2713</td>\n",
              "      <td>4451.345215</td>\n",
              "      <td>27.8</td>\n",
              "      <td>17.4</td>\n",
              "    </tr>\n",
              "  </tbody>\n",
              "</table>\n",
              "<p>7588 rows × 24 columns</p>\n",
              "</div>"
            ],
            "text/plain": [
              "      station  Present_Tmax  ...  Next_Tmax  Next_Tmin\n",
              "0         1.0          28.7  ...       29.1       21.2\n",
              "1         2.0          31.9  ...       30.5       22.5\n",
              "2         3.0          31.6  ...       31.1       23.9\n",
              "3         4.0          32.0  ...       31.7       24.3\n",
              "4         5.0          31.4  ...       31.2       22.5\n",
              "...       ...           ...  ...        ...        ...\n",
              "7745     21.0          23.1  ...       27.6       17.7\n",
              "7746     22.0          22.5  ...       28.0       17.1\n",
              "7747     23.0          23.3  ...       28.3       18.1\n",
              "7748     24.0          23.3  ...       28.6       18.8\n",
              "7749     25.0          23.2  ...       27.8       17.4\n",
              "\n",
              "[7588 rows x 24 columns]"
            ]
          },
          "metadata": {
            "tags": []
          },
          "execution_count": 56
        }
      ]
    },
    {
      "cell_type": "code",
      "metadata": {
        "id": "xayHUQfKccFu"
      },
      "source": [
        "# Model Prediction "
      ],
      "execution_count": 57,
      "outputs": []
    },
    {
      "cell_type": "markdown",
      "metadata": {
        "id": "ZaeKclM1cjvh"
      },
      "source": [
        "Model Performance \n",
        "\n",
        "1.   Using Next_Tmax as predictor \n",
        "2.   Using Next_Tmin as predictor \n"
      ]
    },
    {
      "cell_type": "code",
      "metadata": {
        "id": "6UkteNL_Ybss"
      },
      "source": [
        "# Seperating the target and input variables\n",
        "X = df.drop(columns=['Next_Tmax'])\n",
        "y = df[['Next_Tmax']]"
      ],
      "execution_count": 58,
      "outputs": []
    },
    {
      "cell_type": "code",
      "metadata": {
        "id": "sdc4E46NZOuq"
      },
      "source": [
        "# Scaling the imput variable\n",
        "from sklearn.preprocessing import StandardScaler\n",
        "sc = StandardScaler()\n",
        "x = sc.fit_transform(X)\n",
        "x = pd.DataFrame(x,columns=X.columns)"
      ],
      "execution_count": 59,
      "outputs": []
    },
    {
      "cell_type": "code",
      "metadata": {
        "id": "Vwu2mLbPZb-B"
      },
      "source": [
        "from sklearn.model_selection import train_test_split\n",
        "x_train,x_test,y_train,y_test = train_test_split(X,y,random_state = 42,test_size = 0.20)"
      ],
      "execution_count": 60,
      "outputs": []
    },
    {
      "cell_type": "markdown",
      "metadata": {
        "id": "B6pI7V2idVck"
      },
      "source": [
        "LINEAR **REGRESSION**"
      ]
    },
    {
      "cell_type": "code",
      "metadata": {
        "id": "JaOtPN83aps9",
        "outputId": "cb9409fb-fd08-43ba-8e72-cc7beee4222c",
        "colab": {
          "base_uri": "https://localhost:8080/"
        }
      },
      "source": [
        "from sklearn.metrics import mean_absolute_error\n",
        "from sklearn.metrics import mean_squared_error\n",
        "from sklearn.metrics import r2_score\n",
        "from sklearn import linear_model\n",
        "max_r_score = 0\n",
        "for r_state in range(42,100):\n",
        "    x_train,x_test,y_train,y_test = train_test_split(X,y,random_state = r_state,test_size = 0.20)\n",
        "    regr = linear_model.LinearRegression()\n",
        "    regr.fit(x_train,y_train)\n",
        "    y_pred = regr.predict(x_test)\n",
        "    r2_scr = r2_score(y_test,y_pred)\n",
        "    if r2_scr>max_r_score:\n",
        "        max_r_score = r2_scr\n",
        "        final_r_state = r_state \n",
        "print(\"max r2 score coressponding to\",final_r_state,\"is\",max_r_score)"
      ],
      "execution_count": 61,
      "outputs": [
        {
          "output_type": "stream",
          "text": [
            "max r2 score coressponding to 71 is 0.8182562018784314\n"
          ],
          "name": "stdout"
        }
      ]
    },
    {
      "cell_type": "code",
      "metadata": {
        "id": "BLD-OSCrbs0v"
      },
      "source": [
        "#max r2 score is 71\n",
        "x_train,x_test,y_train,y_test = train_test_split(X,y,random_state = 71,test_size=0.20)\n",
        "lreg = linear_model.LinearRegression()\n",
        "lreg.fit(x_train,y_train)\n",
        "y_pred = lreg.predict(x_test)"
      ],
      "execution_count": 62,
      "outputs": []
    },
    {
      "cell_type": "code",
      "metadata": {
        "id": "NSjxbVTQbyN9",
        "outputId": "0e83a74e-a98b-461f-af56-e6778fb9cb64",
        "colab": {
          "base_uri": "https://localhost:8080/"
        }
      },
      "source": [
        "from sklearn.metrics import r2_score\n",
        "from sklearn.metrics import mean_squared_error\n",
        "print(\"r2 score is : \",r2_score(y_test,y_pred))\n",
        "print(\"RMSE is :\",np.sqrt(mean_squared_error(y_test,y_pred)))"
      ],
      "execution_count": 63,
      "outputs": [
        {
          "output_type": "stream",
          "text": [
            "r2 score is :  0.8182562018784314\n",
            "RMSE is : 1.322750051714053\n"
          ],
          "name": "stdout"
        }
      ]
    },
    {
      "cell_type": "markdown",
      "metadata": {
        "id": "P_fxqrBJbaio"
      },
      "source": [
        "Usin  Next_Tmin as output predicting the model performance "
      ]
    },
    {
      "cell_type": "code",
      "metadata": {
        "id": "rbCZSzkaawQl"
      },
      "source": [
        "a = df.drop(columns=['Next_Tmin'])\n",
        "b = df[['Next_Tmin']]"
      ],
      "execution_count": 64,
      "outputs": []
    },
    {
      "cell_type": "code",
      "metadata": {
        "id": "ptY6uC6rbBI6"
      },
      "source": [
        "# Scaling the imput variable\n",
        "from sklearn.preprocessing import StandardScaler\n",
        "sc = StandardScaler()\n",
        "x = sc.fit_transform(a)\n",
        "x = pd.DataFrame(x,columns=a.columns)"
      ],
      "execution_count": 65,
      "outputs": []
    },
    {
      "cell_type": "code",
      "metadata": {
        "id": "ulWfafa8b4Pl"
      },
      "source": [
        "from sklearn.model_selection import train_test_split\n",
        "x_train,x_test,y_train,y_test = train_test_split(a,b,random_state = 42,test_size = 0.20)"
      ],
      "execution_count": 66,
      "outputs": []
    },
    {
      "cell_type": "code",
      "metadata": {
        "id": "-NVRUlYdbH-v",
        "outputId": "ce2236c2-47d3-47de-a522-349ba030f31a",
        "colab": {
          "base_uri": "https://localhost:8080/"
        }
      },
      "source": [
        "from sklearn.metrics import mean_absolute_error\n",
        "from sklearn.metrics import mean_squared_error\n",
        "from sklearn.metrics import r2_score\n",
        "from sklearn import linear_model\n",
        "max_r_score = 0\n",
        "for r_state in range(42,100):\n",
        "    x_train,x_test,y_train,y_test = train_test_split(a,b,random_state = r_state,test_size = 0.20)\n",
        "    regr = linear_model.LinearRegression()\n",
        "    regr.fit(x_train,y_train)\n",
        "    y_pred = regr.predict(x_test)\n",
        "    r2_scr = r2_score(y_test,y_pred)\n",
        "    if r2_scr>max_r_score:\n",
        "        max_r_score = r2_scr\n",
        "        final_r_state = r_state \n",
        "print(\"max r2 score coressponding to\",final_r_state,\"is\",max_r_score)"
      ],
      "execution_count": 67,
      "outputs": [
        {
          "output_type": "stream",
          "text": [
            "max r2 score coressponding to 60 is 0.8685677693681848\n"
          ],
          "name": "stdout"
        }
      ]
    },
    {
      "cell_type": "code",
      "metadata": {
        "id": "UbehRTUubVIF"
      },
      "source": [
        "#max r2 score is 60\n",
        "x_train,x_test,y_train,y_test = train_test_split(a,b,random_state = 60,test_size=0.20)\n",
        "lreg = linear_model.LinearRegression()\n",
        "lreg.fit(x_train,y_train)\n",
        "y_pred = lreg.predict(x_test)"
      ],
      "execution_count": 68,
      "outputs": []
    },
    {
      "cell_type": "code",
      "metadata": {
        "id": "DHuN72GYcOOP",
        "outputId": "73711e64-9473-482a-d096-fc9a0e6ed0a7",
        "colab": {
          "base_uri": "https://localhost:8080/"
        }
      },
      "source": [
        "from sklearn.metrics import r2_score\n",
        "from sklearn.metrics import mean_squared_error\n",
        "print(\"r2 score is : \",r2_score(y_test,y_pred))\n",
        "print(\"RMSE is :\",np.sqrt(mean_squared_error(y_test,y_pred)))"
      ],
      "execution_count": 69,
      "outputs": [
        {
          "output_type": "stream",
          "text": [
            "r2 score is :  0.8685677693681848\n",
            "RMSE is : 0.9248889954145619\n"
          ],
          "name": "stdout"
        }
      ]
    },
    {
      "cell_type": "markdown",
      "metadata": {
        "id": "sSYxf07nd9V0"
      },
      "source": [
        "Random Forest Regressor"
      ]
    },
    {
      "cell_type": "code",
      "metadata": {
        "id": "lTdYSAVLf7An",
        "outputId": "22a054af-d190-4a13-99c4-5aad1a9a0d5d",
        "colab": {
          "base_uri": "https://localhost:8080/"
        }
      },
      "source": [
        "from sklearn.ensemble import RandomForestRegressor\n",
        "rf = RandomForestRegressor(n_estimators=29,  \n",
        "                           criterion='mse', \n",
        "                           max_depth=58,  \n",
        "                           min_samples_split=5, \n",
        "                           min_samples_leaf=2, \n",
        "                           min_weight_fraction_leaf=0.0, \n",
        "                           max_features='auto', \n",
        "                           max_leaf_nodes=None, \n",
        "                           min_impurity_decrease=0.20,  \n",
        "                           bootstrap=True, \n",
        "                           oob_score=True, \n",
        "                           n_jobs=-1, \n",
        "                           random_state=11)  \n",
        "rf.fit(x_train, y_train)\n",
        "y_pred4 = rf.predict(x_test)\n",
        "print('RMSLE:', sqrt(mean_squared_log_error(y_test, y_pred4)))\n",
        "print('RMSE:', sqrt(mean_squared_error(y_test, y_pred4)))"
      ],
      "execution_count": 70,
      "outputs": [
        {
          "output_type": "stream",
          "text": [
            "RMSLE: 0.05675912148631076\n",
            "RMSE: 1.2931154936634055\n"
          ],
          "name": "stdout"
        }
      ]
    },
    {
      "cell_type": "markdown",
      "metadata": {
        "id": "_Ucz2FJWOgQX"
      },
      "source": [
        "# Light Gradient Boosting Machine "
      ]
    },
    {
      "cell_type": "code",
      "metadata": {
        "id": "J45EmT67ghAW",
        "outputId": "a12a0854-3938-4395-ab68-cabfbd0b2abd",
        "colab": {
          "base_uri": "https://localhost:8080/"
        }
      },
      "source": [
        "train_data = lgb.Dataset(x_train, label=y_train)\n",
        "test_data = lgb.Dataset(x_test, label=y_test)\n",
        "\n",
        "param = {'objective': 'regression',\n",
        "         'boosting': 'dart',\n",
        "         'num_iterations': 152,   \n",
        "         'learning_rate': 0.1,  \n",
        "         'num_leaves': 52, \n",
        "         'max_depth': 28, \n",
        "         'min_data_in_leaf': 3, \n",
        "         'feature_fraction': 0.66,  \n",
        "         'feature_fraction_seed': 10,\n",
        "         'drop_seed': 4,\n",
        "         'alpha': 100,\n",
        "         'max_bin': 7,\n",
        "         'min_data_in_bin': 45,   \n",
        "         'metric': 'l2_root'\n",
        "         }\n",
        "\n",
        "lgbm = lgb.train(params=param,\n",
        "                 verbose_eval=0,\n",
        "                 train_set=train_data,\n",
        "                 valid_sets=[test_data])\n",
        "\n",
        "y_pred1 = lgbm.predict(x_test)\n",
        "print('RMSLE:', sqrt(mean_squared_log_error(y_test, y_pred1)))\n",
        "print('RMSE:', sqrt(mean_squared_error(y_test, y_pred1)))"
      ],
      "execution_count": 71,
      "outputs": [
        {
          "output_type": "stream",
          "text": [
            "RMSLE: 0.13309039046694568\n",
            "RMSE: 3.0239671314303402\n"
          ],
          "name": "stdout"
        }
      ]
    },
    {
      "cell_type": "markdown",
      "metadata": {
        "id": "9SFisoI3gkv2"
      },
      "source": [
        "**Conclusion**\n",
        "After observing all the models you can conlude that Linear Regression Problem is the best model for train and test."
      ]
    },
    {
      "cell_type": "code",
      "metadata": {
        "id": "5imIzyqTJoz-",
        "outputId": "7650a9b7-3644-4169-a312-3b0139bee2a5",
        "colab": {
          "base_uri": "https://localhost:8080/"
        }
      },
      "source": [
        "# Save the model\n",
        "import joblib\n",
        "joblib.dump(lreg,'temperature_forecast.pkl')"
      ],
      "execution_count": 72,
      "outputs": [
        {
          "output_type": "execute_result",
          "data": {
            "text/plain": [
              "['temperature_forecast.pkl']"
            ]
          },
          "metadata": {
            "tags": []
          },
          "execution_count": 72
        }
      ]
    }
  ]
}