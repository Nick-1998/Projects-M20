{
  "nbformat": 4,
  "nbformat_minor": 0,
  "metadata": {
    "kernelspec": {
      "display_name": "Python 3",
      "language": "python",
      "name": "python3"
    },
    "language_info": {
      "codemirror_mode": {
        "name": "ipython",
        "version": 3
      },
      "file_extension": ".py",
      "mimetype": "text/x-python",
      "name": "python",
      "nbconvert_exporter": "python",
      "pygments_lexer": "ipython3",
      "version": "3.8.3"
    },
    "colab": {
      "name": "World Covid-19 Analysis.ipynb",
      "provenance": [],
      "collapsed_sections": [
        "NmFoCib7oaDL"
      ]
    }
  },
  "cells": [
    {
      "cell_type": "code",
      "metadata": {
        "id": "xRi8nUqyoZ5p"
      },
      "source": [
        "# import libarieries \n",
        "import pandas as pd\n",
        "import numpy as np\n",
        "import seaborn as sns\n",
        "import datetime as dt\n",
        "import matplotlib.pyplot as plt\n",
        "# For Machine Learning models\n",
        "from sklearn import preprocessing, svm\n",
        "from sklearn.model_selection import GridSearchCV\n",
        "from sklearn.model_selection import RandomizedSearchCV\n",
        "from sklearn.neighbors import KNeighborsRegressor\n",
        "from sklearn.linear_model import Ridge\n",
        "from sklearn.tree import DecisionTreeRegressor\n",
        "from sklearn.ensemble import RandomForestRegressor\n",
        "from sklearn.metrics import mean_squared_log_error\n",
        "from sklearn.metrics import mean_squared_error as mse\n",
        "from math import sqrt \n",
        "import warnings\n",
        "warnings.filterwarnings('ignore')"
      ],
      "execution_count": 76,
      "outputs": []
    },
    {
      "cell_type": "code",
      "metadata": {
        "id": "trlmmGY9oZ6S",
        "outputId": "afe78456-066b-4cf0-ffc6-7e63a29bc89b",
        "colab": {
          "resources": {
            "http://localhost:8080/nbextensions/google.colab/files.js": {
              "data": "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",
              "ok": true,
              "headers": [
                [
                  "content-type",
                  "application/javascript"
                ]
              ],
              "status": 200,
              "status_text": ""
            }
          },
          "base_uri": "https://localhost:8080/",
          "height": 107
        }
      },
      "source": [
        "# importing data\n",
        "from google.colab import files\n",
        "uploaded = files.upload()"
      ],
      "execution_count": 77,
      "outputs": [
        {
          "output_type": "display_data",
          "data": {
            "text/html": [
              "\n",
              "     <input type=\"file\" id=\"files-817c10d5-4f79-4bcf-b3ed-a6782c52dcfb\" name=\"files[]\" multiple disabled\n",
              "        style=\"border:none\" />\n",
              "     <output id=\"result-817c10d5-4f79-4bcf-b3ed-a6782c52dcfb\">\n",
              "      Upload widget is only available when the cell has been executed in the\n",
              "      current browser session. Please rerun this cell to enable.\n",
              "      </output>\n",
              "      <script src=\"/nbextensions/google.colab/files.js\"></script> "
            ],
            "text/plain": [
              "<IPython.core.display.HTML object>"
            ]
          },
          "metadata": {
            "tags": []
          }
        },
        {
          "output_type": "stream",
          "text": [
            "Saving covid_age.csv to covid_age (1).csv\n",
            "Saving world_covid_19.csv to world_covid_19 (1).csv\n"
          ],
          "name": "stdout"
        }
      ]
    },
    {
      "cell_type": "code",
      "metadata": {
        "id": "kU6h2aA3oZ6e"
      },
      "source": [
        "# Read the Data\n",
        "df= pd.read_csv('world_covid_19.csv',parse_dates=['Date'],dayfirst=True)\n",
        "df2 = pd.read_csv('covid_age.csv')"
      ],
      "execution_count": 78,
      "outputs": []
    },
    {
      "cell_type": "code",
      "metadata": {
        "id": "O2KlX3p-oZ6u",
        "outputId": "78ccec75-21b6-4963-dd3e-be3bf7a45841",
        "colab": {
          "base_uri": "https://localhost:8080/",
          "height": 221
        }
      },
      "source": [
        "display(df.head())\n",
        "display(df.shape)"
      ],
      "execution_count": 79,
      "outputs": [
        {
          "output_type": "display_data",
          "data": {
            "text/html": [
              "<div>\n",
              "<style scoped>\n",
              "    .dataframe tbody tr th:only-of-type {\n",
              "        vertical-align: middle;\n",
              "    }\n",
              "\n",
              "    .dataframe tbody tr th {\n",
              "        vertical-align: top;\n",
              "    }\n",
              "\n",
              "    .dataframe thead th {\n",
              "        text-align: right;\n",
              "    }\n",
              "</style>\n",
              "<table border=\"1\" class=\"dataframe\">\n",
              "  <thead>\n",
              "    <tr style=\"text-align: right;\">\n",
              "      <th></th>\n",
              "      <th>Date</th>\n",
              "      <th>Country</th>\n",
              "      <th>Population</th>\n",
              "      <th>Total Tests</th>\n",
              "      <th>Total Cases</th>\n",
              "      <th>Total Deaths</th>\n",
              "      <th>Total Recovered</th>\n",
              "      <th>Serious or Critical</th>\n",
              "      <th>Active Cases</th>\n",
              "    </tr>\n",
              "  </thead>\n",
              "  <tbody>\n",
              "    <tr>\n",
              "      <th>0</th>\n",
              "      <td>2020-04-18</td>\n",
              "      <td>USA</td>\n",
              "      <td>330774664</td>\n",
              "      <td>3722145.0</td>\n",
              "      <td>738792.0</td>\n",
              "      <td>39014.0</td>\n",
              "      <td>68269.0</td>\n",
              "      <td>13551.0</td>\n",
              "      <td>631509.0</td>\n",
              "    </tr>\n",
              "    <tr>\n",
              "      <th>1</th>\n",
              "      <td>2020-04-18</td>\n",
              "      <td>Russia</td>\n",
              "      <td>145927292</td>\n",
              "      <td>1831892.0</td>\n",
              "      <td>36793.0</td>\n",
              "      <td>313.0</td>\n",
              "      <td>3057.0</td>\n",
              "      <td>8.0</td>\n",
              "      <td>33423.0</td>\n",
              "    </tr>\n",
              "    <tr>\n",
              "      <th>2</th>\n",
              "      <td>2020-04-18</td>\n",
              "      <td>Spain</td>\n",
              "      <td>46752703</td>\n",
              "      <td>930230.0</td>\n",
              "      <td>194416.0</td>\n",
              "      <td>20043.0</td>\n",
              "      <td>74797.0</td>\n",
              "      <td>7371.0</td>\n",
              "      <td>99576.0</td>\n",
              "    </tr>\n",
              "    <tr>\n",
              "      <th>3</th>\n",
              "      <td>2020-04-18</td>\n",
              "      <td>Brazil</td>\n",
              "      <td>212380932</td>\n",
              "      <td>62985.0</td>\n",
              "      <td>36722.0</td>\n",
              "      <td>2361.0</td>\n",
              "      <td>14026.0</td>\n",
              "      <td>6634.0</td>\n",
              "      <td>20335.0</td>\n",
              "    </tr>\n",
              "    <tr>\n",
              "      <th>4</th>\n",
              "      <td>2020-04-18</td>\n",
              "      <td>UK</td>\n",
              "      <td>67844241</td>\n",
              "      <td>460437.0</td>\n",
              "      <td>114217.0</td>\n",
              "      <td>15464.0</td>\n",
              "      <td>NaN</td>\n",
              "      <td>1559.0</td>\n",
              "      <td>98409.0</td>\n",
              "    </tr>\n",
              "  </tbody>\n",
              "</table>\n",
              "</div>"
            ],
            "text/plain": [
              "        Date Country  ...  Serious or Critical  Active Cases\n",
              "0 2020-04-18     USA  ...              13551.0      631509.0\n",
              "1 2020-04-18  Russia  ...                  8.0       33423.0\n",
              "2 2020-04-18   Spain  ...               7371.0       99576.0\n",
              "3 2020-04-18  Brazil  ...               6634.0       20335.0\n",
              "4 2020-04-18      UK  ...               1559.0       98409.0\n",
              "\n",
              "[5 rows x 9 columns]"
            ]
          },
          "metadata": {
            "tags": []
          }
        },
        {
          "output_type": "display_data",
          "data": {
            "text/plain": [
              "(6603, 9)"
            ]
          },
          "metadata": {
            "tags": []
          }
        }
      ]
    },
    {
      "cell_type": "code",
      "metadata": {
        "id": "Wy05ZTE9oZ7X",
        "outputId": "9a21e3d5-3b31-460f-fced-9c3eb03710af",
        "colab": {
          "base_uri": "https://localhost:8080/",
          "height": 204
        }
      },
      "source": [
        "# Rename the columns\n",
        "df = df.rename(columns={'Serious or Critical':'Serious'})\n",
        "df.head()"
      ],
      "execution_count": 80,
      "outputs": [
        {
          "output_type": "execute_result",
          "data": {
            "text/html": [
              "<div>\n",
              "<style scoped>\n",
              "    .dataframe tbody tr th:only-of-type {\n",
              "        vertical-align: middle;\n",
              "    }\n",
              "\n",
              "    .dataframe tbody tr th {\n",
              "        vertical-align: top;\n",
              "    }\n",
              "\n",
              "    .dataframe thead th {\n",
              "        text-align: right;\n",
              "    }\n",
              "</style>\n",
              "<table border=\"1\" class=\"dataframe\">\n",
              "  <thead>\n",
              "    <tr style=\"text-align: right;\">\n",
              "      <th></th>\n",
              "      <th>Date</th>\n",
              "      <th>Country</th>\n",
              "      <th>Population</th>\n",
              "      <th>Total Tests</th>\n",
              "      <th>Total Cases</th>\n",
              "      <th>Total Deaths</th>\n",
              "      <th>Total Recovered</th>\n",
              "      <th>Serious</th>\n",
              "      <th>Active Cases</th>\n",
              "    </tr>\n",
              "  </thead>\n",
              "  <tbody>\n",
              "    <tr>\n",
              "      <th>0</th>\n",
              "      <td>2020-04-18</td>\n",
              "      <td>USA</td>\n",
              "      <td>330774664</td>\n",
              "      <td>3722145.0</td>\n",
              "      <td>738792.0</td>\n",
              "      <td>39014.0</td>\n",
              "      <td>68269.0</td>\n",
              "      <td>13551.0</td>\n",
              "      <td>631509.0</td>\n",
              "    </tr>\n",
              "    <tr>\n",
              "      <th>1</th>\n",
              "      <td>2020-04-18</td>\n",
              "      <td>Russia</td>\n",
              "      <td>145927292</td>\n",
              "      <td>1831892.0</td>\n",
              "      <td>36793.0</td>\n",
              "      <td>313.0</td>\n",
              "      <td>3057.0</td>\n",
              "      <td>8.0</td>\n",
              "      <td>33423.0</td>\n",
              "    </tr>\n",
              "    <tr>\n",
              "      <th>2</th>\n",
              "      <td>2020-04-18</td>\n",
              "      <td>Spain</td>\n",
              "      <td>46752703</td>\n",
              "      <td>930230.0</td>\n",
              "      <td>194416.0</td>\n",
              "      <td>20043.0</td>\n",
              "      <td>74797.0</td>\n",
              "      <td>7371.0</td>\n",
              "      <td>99576.0</td>\n",
              "    </tr>\n",
              "    <tr>\n",
              "      <th>3</th>\n",
              "      <td>2020-04-18</td>\n",
              "      <td>Brazil</td>\n",
              "      <td>212380932</td>\n",
              "      <td>62985.0</td>\n",
              "      <td>36722.0</td>\n",
              "      <td>2361.0</td>\n",
              "      <td>14026.0</td>\n",
              "      <td>6634.0</td>\n",
              "      <td>20335.0</td>\n",
              "    </tr>\n",
              "    <tr>\n",
              "      <th>4</th>\n",
              "      <td>2020-04-18</td>\n",
              "      <td>UK</td>\n",
              "      <td>67844241</td>\n",
              "      <td>460437.0</td>\n",
              "      <td>114217.0</td>\n",
              "      <td>15464.0</td>\n",
              "      <td>NaN</td>\n",
              "      <td>1559.0</td>\n",
              "      <td>98409.0</td>\n",
              "    </tr>\n",
              "  </tbody>\n",
              "</table>\n",
              "</div>"
            ],
            "text/plain": [
              "        Date Country  Population  ...  Total Recovered  Serious  Active Cases\n",
              "0 2020-04-18     USA   330774664  ...          68269.0  13551.0      631509.0\n",
              "1 2020-04-18  Russia   145927292  ...           3057.0      8.0       33423.0\n",
              "2 2020-04-18   Spain    46752703  ...          74797.0   7371.0       99576.0\n",
              "3 2020-04-18  Brazil   212380932  ...          14026.0   6634.0       20335.0\n",
              "4 2020-04-18      UK    67844241  ...              NaN   1559.0       98409.0\n",
              "\n",
              "[5 rows x 9 columns]"
            ]
          },
          "metadata": {
            "tags": []
          },
          "execution_count": 80
        }
      ]
    },
    {
      "cell_type": "code",
      "metadata": {
        "id": "cr-teGkfoZ7g",
        "outputId": "ae87db73-ac55-4972-9e53-165f470acba0",
        "colab": {
          "base_uri": "https://localhost:8080/",
          "height": 419
        }
      },
      "source": [
        "df.fillna(0)"
      ],
      "execution_count": 81,
      "outputs": [
        {
          "output_type": "execute_result",
          "data": {
            "text/html": [
              "<div>\n",
              "<style scoped>\n",
              "    .dataframe tbody tr th:only-of-type {\n",
              "        vertical-align: middle;\n",
              "    }\n",
              "\n",
              "    .dataframe tbody tr th {\n",
              "        vertical-align: top;\n",
              "    }\n",
              "\n",
              "    .dataframe thead th {\n",
              "        text-align: right;\n",
              "    }\n",
              "</style>\n",
              "<table border=\"1\" class=\"dataframe\">\n",
              "  <thead>\n",
              "    <tr style=\"text-align: right;\">\n",
              "      <th></th>\n",
              "      <th>Date</th>\n",
              "      <th>Country</th>\n",
              "      <th>Population</th>\n",
              "      <th>Total Tests</th>\n",
              "      <th>Total Cases</th>\n",
              "      <th>Total Deaths</th>\n",
              "      <th>Total Recovered</th>\n",
              "      <th>Serious</th>\n",
              "      <th>Active Cases</th>\n",
              "    </tr>\n",
              "  </thead>\n",
              "  <tbody>\n",
              "    <tr>\n",
              "      <th>0</th>\n",
              "      <td>2020-04-18</td>\n",
              "      <td>USA</td>\n",
              "      <td>330774664</td>\n",
              "      <td>3722145.0</td>\n",
              "      <td>738792.0</td>\n",
              "      <td>39014.0</td>\n",
              "      <td>68269.0</td>\n",
              "      <td>13551.0</td>\n",
              "      <td>631509.0</td>\n",
              "    </tr>\n",
              "    <tr>\n",
              "      <th>1</th>\n",
              "      <td>2020-04-18</td>\n",
              "      <td>Russia</td>\n",
              "      <td>145927292</td>\n",
              "      <td>1831892.0</td>\n",
              "      <td>36793.0</td>\n",
              "      <td>313.0</td>\n",
              "      <td>3057.0</td>\n",
              "      <td>8.0</td>\n",
              "      <td>33423.0</td>\n",
              "    </tr>\n",
              "    <tr>\n",
              "      <th>2</th>\n",
              "      <td>2020-04-18</td>\n",
              "      <td>Spain</td>\n",
              "      <td>46752703</td>\n",
              "      <td>930230.0</td>\n",
              "      <td>194416.0</td>\n",
              "      <td>20043.0</td>\n",
              "      <td>74797.0</td>\n",
              "      <td>7371.0</td>\n",
              "      <td>99576.0</td>\n",
              "    </tr>\n",
              "    <tr>\n",
              "      <th>3</th>\n",
              "      <td>2020-04-18</td>\n",
              "      <td>Brazil</td>\n",
              "      <td>212380932</td>\n",
              "      <td>62985.0</td>\n",
              "      <td>36722.0</td>\n",
              "      <td>2361.0</td>\n",
              "      <td>14026.0</td>\n",
              "      <td>6634.0</td>\n",
              "      <td>20335.0</td>\n",
              "    </tr>\n",
              "    <tr>\n",
              "      <th>4</th>\n",
              "      <td>2020-04-18</td>\n",
              "      <td>UK</td>\n",
              "      <td>67844241</td>\n",
              "      <td>460437.0</td>\n",
              "      <td>114217.0</td>\n",
              "      <td>15464.0</td>\n",
              "      <td>0.0</td>\n",
              "      <td>1559.0</td>\n",
              "      <td>98409.0</td>\n",
              "    </tr>\n",
              "    <tr>\n",
              "      <th>...</th>\n",
              "      <td>...</td>\n",
              "      <td>...</td>\n",
              "      <td>...</td>\n",
              "      <td>...</td>\n",
              "      <td>...</td>\n",
              "      <td>...</td>\n",
              "      <td>...</td>\n",
              "      <td>...</td>\n",
              "      <td>...</td>\n",
              "    </tr>\n",
              "    <tr>\n",
              "      <th>6598</th>\n",
              "      <td>2020-05-18</td>\n",
              "      <td>St. Barth</td>\n",
              "      <td>9874</td>\n",
              "      <td>0.0</td>\n",
              "      <td>6.0</td>\n",
              "      <td>0.0</td>\n",
              "      <td>6.0</td>\n",
              "      <td>0.0</td>\n",
              "      <td>0.0</td>\n",
              "    </tr>\n",
              "    <tr>\n",
              "      <th>6599</th>\n",
              "      <td>2020-05-18</td>\n",
              "      <td>Western Sahara</td>\n",
              "      <td>595462</td>\n",
              "      <td>0.0</td>\n",
              "      <td>6.0</td>\n",
              "      <td>0.0</td>\n",
              "      <td>6.0</td>\n",
              "      <td>0.0</td>\n",
              "      <td>0.0</td>\n",
              "    </tr>\n",
              "    <tr>\n",
              "      <th>6600</th>\n",
              "      <td>2020-05-18</td>\n",
              "      <td>Anguilla</td>\n",
              "      <td>14987</td>\n",
              "      <td>0.0</td>\n",
              "      <td>3.0</td>\n",
              "      <td>0.0</td>\n",
              "      <td>3.0</td>\n",
              "      <td>0.0</td>\n",
              "      <td>0.0</td>\n",
              "    </tr>\n",
              "    <tr>\n",
              "      <th>6601</th>\n",
              "      <td>2020-05-18</td>\n",
              "      <td>Lesotho</td>\n",
              "      <td>2140235</td>\n",
              "      <td>0.0</td>\n",
              "      <td>1.0</td>\n",
              "      <td>0.0</td>\n",
              "      <td>0.0</td>\n",
              "      <td>0.0</td>\n",
              "      <td>1.0</td>\n",
              "    </tr>\n",
              "    <tr>\n",
              "      <th>6602</th>\n",
              "      <td>2020-05-18</td>\n",
              "      <td>Saint Pierre Miquelon</td>\n",
              "      <td>5797</td>\n",
              "      <td>0.0</td>\n",
              "      <td>1.0</td>\n",
              "      <td>0.0</td>\n",
              "      <td>1.0</td>\n",
              "      <td>0.0</td>\n",
              "      <td>0.0</td>\n",
              "    </tr>\n",
              "  </tbody>\n",
              "</table>\n",
              "<p>6603 rows × 9 columns</p>\n",
              "</div>"
            ],
            "text/plain": [
              "           Date                Country  ...  Serious  Active Cases\n",
              "0    2020-04-18                    USA  ...  13551.0      631509.0\n",
              "1    2020-04-18                 Russia  ...      8.0       33423.0\n",
              "2    2020-04-18                  Spain  ...   7371.0       99576.0\n",
              "3    2020-04-18                 Brazil  ...   6634.0       20335.0\n",
              "4    2020-04-18                     UK  ...   1559.0       98409.0\n",
              "...         ...                    ...  ...      ...           ...\n",
              "6598 2020-05-18              St. Barth  ...      0.0           0.0\n",
              "6599 2020-05-18         Western Sahara  ...      0.0           0.0\n",
              "6600 2020-05-18               Anguilla  ...      0.0           0.0\n",
              "6601 2020-05-18                Lesotho  ...      0.0           1.0\n",
              "6602 2020-05-18  Saint Pierre Miquelon  ...      0.0           0.0\n",
              "\n",
              "[6603 rows x 9 columns]"
            ]
          },
          "metadata": {
            "tags": []
          },
          "execution_count": 81
        }
      ]
    },
    {
      "cell_type": "code",
      "metadata": {
        "id": "YhwlsBr0oZ7q",
        "outputId": "4bc8f39a-2c3c-43c4-c3b1-7f845d794f30",
        "colab": {
          "base_uri": "https://localhost:8080/"
        }
      },
      "source": [
        "np.isnan(df.any()) #and gets False\n",
        "np.isfinite(df.all()) #and gets True"
      ],
      "execution_count": 82,
      "outputs": [
        {
          "output_type": "execute_result",
          "data": {
            "text/plain": [
              "Date               True\n",
              "Country            True\n",
              "Population         True\n",
              "Total Tests        True\n",
              "Total Cases        True\n",
              "Total Deaths       True\n",
              "Total Recovered    True\n",
              "Serious            True\n",
              "Active Cases       True\n",
              "dtype: bool"
            ]
          },
          "metadata": {
            "tags": []
          },
          "execution_count": 82
        }
      ]
    },
    {
      "cell_type": "code",
      "metadata": {
        "id": "InhlLsuloZ7z",
        "outputId": "68c112d7-8fca-449a-ec8a-0a1ae2de0a25",
        "colab": {
          "base_uri": "https://localhost:8080/",
          "height": 419
        }
      },
      "source": [
        "df = pd.DataFrame(df).fillna(0)\n",
        "df"
      ],
      "execution_count": 83,
      "outputs": [
        {
          "output_type": "execute_result",
          "data": {
            "text/html": [
              "<div>\n",
              "<style scoped>\n",
              "    .dataframe tbody tr th:only-of-type {\n",
              "        vertical-align: middle;\n",
              "    }\n",
              "\n",
              "    .dataframe tbody tr th {\n",
              "        vertical-align: top;\n",
              "    }\n",
              "\n",
              "    .dataframe thead th {\n",
              "        text-align: right;\n",
              "    }\n",
              "</style>\n",
              "<table border=\"1\" class=\"dataframe\">\n",
              "  <thead>\n",
              "    <tr style=\"text-align: right;\">\n",
              "      <th></th>\n",
              "      <th>Date</th>\n",
              "      <th>Country</th>\n",
              "      <th>Population</th>\n",
              "      <th>Total Tests</th>\n",
              "      <th>Total Cases</th>\n",
              "      <th>Total Deaths</th>\n",
              "      <th>Total Recovered</th>\n",
              "      <th>Serious</th>\n",
              "      <th>Active Cases</th>\n",
              "    </tr>\n",
              "  </thead>\n",
              "  <tbody>\n",
              "    <tr>\n",
              "      <th>0</th>\n",
              "      <td>2020-04-18</td>\n",
              "      <td>USA</td>\n",
              "      <td>330774664</td>\n",
              "      <td>3722145.0</td>\n",
              "      <td>738792.0</td>\n",
              "      <td>39014.0</td>\n",
              "      <td>68269.0</td>\n",
              "      <td>13551.0</td>\n",
              "      <td>631509.0</td>\n",
              "    </tr>\n",
              "    <tr>\n",
              "      <th>1</th>\n",
              "      <td>2020-04-18</td>\n",
              "      <td>Russia</td>\n",
              "      <td>145927292</td>\n",
              "      <td>1831892.0</td>\n",
              "      <td>36793.0</td>\n",
              "      <td>313.0</td>\n",
              "      <td>3057.0</td>\n",
              "      <td>8.0</td>\n",
              "      <td>33423.0</td>\n",
              "    </tr>\n",
              "    <tr>\n",
              "      <th>2</th>\n",
              "      <td>2020-04-18</td>\n",
              "      <td>Spain</td>\n",
              "      <td>46752703</td>\n",
              "      <td>930230.0</td>\n",
              "      <td>194416.0</td>\n",
              "      <td>20043.0</td>\n",
              "      <td>74797.0</td>\n",
              "      <td>7371.0</td>\n",
              "      <td>99576.0</td>\n",
              "    </tr>\n",
              "    <tr>\n",
              "      <th>3</th>\n",
              "      <td>2020-04-18</td>\n",
              "      <td>Brazil</td>\n",
              "      <td>212380932</td>\n",
              "      <td>62985.0</td>\n",
              "      <td>36722.0</td>\n",
              "      <td>2361.0</td>\n",
              "      <td>14026.0</td>\n",
              "      <td>6634.0</td>\n",
              "      <td>20335.0</td>\n",
              "    </tr>\n",
              "    <tr>\n",
              "      <th>4</th>\n",
              "      <td>2020-04-18</td>\n",
              "      <td>UK</td>\n",
              "      <td>67844241</td>\n",
              "      <td>460437.0</td>\n",
              "      <td>114217.0</td>\n",
              "      <td>15464.0</td>\n",
              "      <td>0.0</td>\n",
              "      <td>1559.0</td>\n",
              "      <td>98409.0</td>\n",
              "    </tr>\n",
              "    <tr>\n",
              "      <th>...</th>\n",
              "      <td>...</td>\n",
              "      <td>...</td>\n",
              "      <td>...</td>\n",
              "      <td>...</td>\n",
              "      <td>...</td>\n",
              "      <td>...</td>\n",
              "      <td>...</td>\n",
              "      <td>...</td>\n",
              "      <td>...</td>\n",
              "    </tr>\n",
              "    <tr>\n",
              "      <th>6598</th>\n",
              "      <td>2020-05-18</td>\n",
              "      <td>St. Barth</td>\n",
              "      <td>9874</td>\n",
              "      <td>0.0</td>\n",
              "      <td>6.0</td>\n",
              "      <td>0.0</td>\n",
              "      <td>6.0</td>\n",
              "      <td>0.0</td>\n",
              "      <td>0.0</td>\n",
              "    </tr>\n",
              "    <tr>\n",
              "      <th>6599</th>\n",
              "      <td>2020-05-18</td>\n",
              "      <td>Western Sahara</td>\n",
              "      <td>595462</td>\n",
              "      <td>0.0</td>\n",
              "      <td>6.0</td>\n",
              "      <td>0.0</td>\n",
              "      <td>6.0</td>\n",
              "      <td>0.0</td>\n",
              "      <td>0.0</td>\n",
              "    </tr>\n",
              "    <tr>\n",
              "      <th>6600</th>\n",
              "      <td>2020-05-18</td>\n",
              "      <td>Anguilla</td>\n",
              "      <td>14987</td>\n",
              "      <td>0.0</td>\n",
              "      <td>3.0</td>\n",
              "      <td>0.0</td>\n",
              "      <td>3.0</td>\n",
              "      <td>0.0</td>\n",
              "      <td>0.0</td>\n",
              "    </tr>\n",
              "    <tr>\n",
              "      <th>6601</th>\n",
              "      <td>2020-05-18</td>\n",
              "      <td>Lesotho</td>\n",
              "      <td>2140235</td>\n",
              "      <td>0.0</td>\n",
              "      <td>1.0</td>\n",
              "      <td>0.0</td>\n",
              "      <td>0.0</td>\n",
              "      <td>0.0</td>\n",
              "      <td>1.0</td>\n",
              "    </tr>\n",
              "    <tr>\n",
              "      <th>6602</th>\n",
              "      <td>2020-05-18</td>\n",
              "      <td>Saint Pierre Miquelon</td>\n",
              "      <td>5797</td>\n",
              "      <td>0.0</td>\n",
              "      <td>1.0</td>\n",
              "      <td>0.0</td>\n",
              "      <td>1.0</td>\n",
              "      <td>0.0</td>\n",
              "      <td>0.0</td>\n",
              "    </tr>\n",
              "  </tbody>\n",
              "</table>\n",
              "<p>6603 rows × 9 columns</p>\n",
              "</div>"
            ],
            "text/plain": [
              "           Date                Country  ...  Serious  Active Cases\n",
              "0    2020-04-18                    USA  ...  13551.0      631509.0\n",
              "1    2020-04-18                 Russia  ...      8.0       33423.0\n",
              "2    2020-04-18                  Spain  ...   7371.0       99576.0\n",
              "3    2020-04-18                 Brazil  ...   6634.0       20335.0\n",
              "4    2020-04-18                     UK  ...   1559.0       98409.0\n",
              "...         ...                    ...  ...      ...           ...\n",
              "6598 2020-05-18              St. Barth  ...      0.0           0.0\n",
              "6599 2020-05-18         Western Sahara  ...      0.0           0.0\n",
              "6600 2020-05-18               Anguilla  ...      0.0           0.0\n",
              "6601 2020-05-18                Lesotho  ...      0.0           1.0\n",
              "6602 2020-05-18  Saint Pierre Miquelon  ...      0.0           0.0\n",
              "\n",
              "[6603 rows x 9 columns]"
            ]
          },
          "metadata": {
            "tags": []
          },
          "execution_count": 83
        }
      ]
    },
    {
      "cell_type": "code",
      "metadata": {
        "id": "d8pAZIIPoZ8c",
        "outputId": "cb483099-5cab-44a2-99e9-d62a621bf6cf",
        "colab": {
          "base_uri": "https://localhost:8080/"
        }
      },
      "source": [
        "# Check the missing values\n",
        "df.isnull().sum()"
      ],
      "execution_count": 84,
      "outputs": [
        {
          "output_type": "execute_result",
          "data": {
            "text/plain": [
              "Date               0\n",
              "Country            0\n",
              "Population         0\n",
              "Total Tests        0\n",
              "Total Cases        0\n",
              "Total Deaths       0\n",
              "Total Recovered    0\n",
              "Serious            0\n",
              "Active Cases       0\n",
              "dtype: int64"
            ]
          },
          "metadata": {
            "tags": []
          },
          "execution_count": 84
        }
      ]
    },
    {
      "cell_type": "code",
      "metadata": {
        "id": "bstF2xE3oZ8o",
        "outputId": "f295064a-8186-409e-aef6-62c5b82d50a7",
        "colab": {
          "base_uri": "https://localhost:8080/",
          "height": 221
        }
      },
      "source": [
        "display(df2.head())\n",
        "display(df2.shape)"
      ],
      "execution_count": 85,
      "outputs": [
        {
          "output_type": "display_data",
          "data": {
            "text/html": [
              "<div>\n",
              "<style scoped>\n",
              "    .dataframe tbody tr th:only-of-type {\n",
              "        vertical-align: middle;\n",
              "    }\n",
              "\n",
              "    .dataframe tbody tr th {\n",
              "        vertical-align: top;\n",
              "    }\n",
              "\n",
              "    .dataframe thead th {\n",
              "        text-align: right;\n",
              "    }\n",
              "</style>\n",
              "<table border=\"1\" class=\"dataframe\">\n",
              "  <thead>\n",
              "    <tr style=\"text-align: right;\">\n",
              "      <th></th>\n",
              "      <th>Country</th>\n",
              "      <th>Fraction age 0-14 years</th>\n",
              "      <th>Fraction age 15-64 years</th>\n",
              "      <th>Fraction age 65+ years</th>\n",
              "    </tr>\n",
              "  </thead>\n",
              "  <tbody>\n",
              "    <tr>\n",
              "      <th>0</th>\n",
              "      <td>USA</td>\n",
              "      <td>0.189</td>\n",
              "      <td>0.657</td>\n",
              "      <td>0.154</td>\n",
              "    </tr>\n",
              "    <tr>\n",
              "      <th>1</th>\n",
              "      <td>Russia</td>\n",
              "      <td>0.176</td>\n",
              "      <td>0.682</td>\n",
              "      <td>0.142</td>\n",
              "    </tr>\n",
              "    <tr>\n",
              "      <th>2</th>\n",
              "      <td>Spain</td>\n",
              "      <td>0.147</td>\n",
              "      <td>0.659</td>\n",
              "      <td>0.194</td>\n",
              "    </tr>\n",
              "    <tr>\n",
              "      <th>3</th>\n",
              "      <td>Brazil</td>\n",
              "      <td>0.217</td>\n",
              "      <td>0.697</td>\n",
              "      <td>0.086</td>\n",
              "    </tr>\n",
              "    <tr>\n",
              "      <th>4</th>\n",
              "      <td>UK</td>\n",
              "      <td>0.177</td>\n",
              "      <td>0.638</td>\n",
              "      <td>0.185</td>\n",
              "    </tr>\n",
              "  </tbody>\n",
              "</table>\n",
              "</div>"
            ],
            "text/plain": [
              "  Country  ...  Fraction age 65+ years\n",
              "0     USA  ...                   0.154\n",
              "1  Russia  ...                   0.142\n",
              "2   Spain  ...                   0.194\n",
              "3  Brazil  ...                   0.086\n",
              "4      UK  ...                   0.185\n",
              "\n",
              "[5 rows x 4 columns]"
            ]
          },
          "metadata": {
            "tags": []
          }
        },
        {
          "output_type": "display_data",
          "data": {
            "text/plain": [
              "(213, 4)"
            ]
          },
          "metadata": {
            "tags": []
          }
        }
      ]
    },
    {
      "cell_type": "code",
      "metadata": {
        "id": "nuwN_nLAoZ8v",
        "outputId": "efddaf47-a25d-4324-dca3-384b422db6ab",
        "colab": {
          "base_uri": "https://localhost:8080/",
          "height": 204
        }
      },
      "source": [
        "df2 = df2.rename(columns={'Fraction age 0-14 years':'Age_0-14','Fraction age 15-64 years':'Age_15-64','Fraction age 65+ years':'Age_65+' })\n",
        "df2.head()"
      ],
      "execution_count": 86,
      "outputs": [
        {
          "output_type": "execute_result",
          "data": {
            "text/html": [
              "<div>\n",
              "<style scoped>\n",
              "    .dataframe tbody tr th:only-of-type {\n",
              "        vertical-align: middle;\n",
              "    }\n",
              "\n",
              "    .dataframe tbody tr th {\n",
              "        vertical-align: top;\n",
              "    }\n",
              "\n",
              "    .dataframe thead th {\n",
              "        text-align: right;\n",
              "    }\n",
              "</style>\n",
              "<table border=\"1\" class=\"dataframe\">\n",
              "  <thead>\n",
              "    <tr style=\"text-align: right;\">\n",
              "      <th></th>\n",
              "      <th>Country</th>\n",
              "      <th>Age_0-14</th>\n",
              "      <th>Age_15-64</th>\n",
              "      <th>Age_65+</th>\n",
              "    </tr>\n",
              "  </thead>\n",
              "  <tbody>\n",
              "    <tr>\n",
              "      <th>0</th>\n",
              "      <td>USA</td>\n",
              "      <td>0.189</td>\n",
              "      <td>0.657</td>\n",
              "      <td>0.154</td>\n",
              "    </tr>\n",
              "    <tr>\n",
              "      <th>1</th>\n",
              "      <td>Russia</td>\n",
              "      <td>0.176</td>\n",
              "      <td>0.682</td>\n",
              "      <td>0.142</td>\n",
              "    </tr>\n",
              "    <tr>\n",
              "      <th>2</th>\n",
              "      <td>Spain</td>\n",
              "      <td>0.147</td>\n",
              "      <td>0.659</td>\n",
              "      <td>0.194</td>\n",
              "    </tr>\n",
              "    <tr>\n",
              "      <th>3</th>\n",
              "      <td>Brazil</td>\n",
              "      <td>0.217</td>\n",
              "      <td>0.697</td>\n",
              "      <td>0.086</td>\n",
              "    </tr>\n",
              "    <tr>\n",
              "      <th>4</th>\n",
              "      <td>UK</td>\n",
              "      <td>0.177</td>\n",
              "      <td>0.638</td>\n",
              "      <td>0.185</td>\n",
              "    </tr>\n",
              "  </tbody>\n",
              "</table>\n",
              "</div>"
            ],
            "text/plain": [
              "  Country  Age_0-14  Age_15-64  Age_65+\n",
              "0     USA     0.189      0.657    0.154\n",
              "1  Russia     0.176      0.682    0.142\n",
              "2   Spain     0.147      0.659    0.194\n",
              "3  Brazil     0.217      0.697    0.086\n",
              "4      UK     0.177      0.638    0.185"
            ]
          },
          "metadata": {
            "tags": []
          },
          "execution_count": 86
        }
      ]
    },
    {
      "cell_type": "code",
      "metadata": {
        "id": "K_Rs1mq5oZ83",
        "outputId": "e2919646-ee06-4f84-c091-0eb3ca9a84f9",
        "colab": {
          "base_uri": "https://localhost:8080/",
          "height": 204
        }
      },
      "source": [
        "df.tail()"
      ],
      "execution_count": 87,
      "outputs": [
        {
          "output_type": "execute_result",
          "data": {
            "text/html": [
              "<div>\n",
              "<style scoped>\n",
              "    .dataframe tbody tr th:only-of-type {\n",
              "        vertical-align: middle;\n",
              "    }\n",
              "\n",
              "    .dataframe tbody tr th {\n",
              "        vertical-align: top;\n",
              "    }\n",
              "\n",
              "    .dataframe thead th {\n",
              "        text-align: right;\n",
              "    }\n",
              "</style>\n",
              "<table border=\"1\" class=\"dataframe\">\n",
              "  <thead>\n",
              "    <tr style=\"text-align: right;\">\n",
              "      <th></th>\n",
              "      <th>Date</th>\n",
              "      <th>Country</th>\n",
              "      <th>Population</th>\n",
              "      <th>Total Tests</th>\n",
              "      <th>Total Cases</th>\n",
              "      <th>Total Deaths</th>\n",
              "      <th>Total Recovered</th>\n",
              "      <th>Serious</th>\n",
              "      <th>Active Cases</th>\n",
              "    </tr>\n",
              "  </thead>\n",
              "  <tbody>\n",
              "    <tr>\n",
              "      <th>6598</th>\n",
              "      <td>2020-05-18</td>\n",
              "      <td>St. Barth</td>\n",
              "      <td>9874</td>\n",
              "      <td>0.0</td>\n",
              "      <td>6.0</td>\n",
              "      <td>0.0</td>\n",
              "      <td>6.0</td>\n",
              "      <td>0.0</td>\n",
              "      <td>0.0</td>\n",
              "    </tr>\n",
              "    <tr>\n",
              "      <th>6599</th>\n",
              "      <td>2020-05-18</td>\n",
              "      <td>Western Sahara</td>\n",
              "      <td>595462</td>\n",
              "      <td>0.0</td>\n",
              "      <td>6.0</td>\n",
              "      <td>0.0</td>\n",
              "      <td>6.0</td>\n",
              "      <td>0.0</td>\n",
              "      <td>0.0</td>\n",
              "    </tr>\n",
              "    <tr>\n",
              "      <th>6600</th>\n",
              "      <td>2020-05-18</td>\n",
              "      <td>Anguilla</td>\n",
              "      <td>14987</td>\n",
              "      <td>0.0</td>\n",
              "      <td>3.0</td>\n",
              "      <td>0.0</td>\n",
              "      <td>3.0</td>\n",
              "      <td>0.0</td>\n",
              "      <td>0.0</td>\n",
              "    </tr>\n",
              "    <tr>\n",
              "      <th>6601</th>\n",
              "      <td>2020-05-18</td>\n",
              "      <td>Lesotho</td>\n",
              "      <td>2140235</td>\n",
              "      <td>0.0</td>\n",
              "      <td>1.0</td>\n",
              "      <td>0.0</td>\n",
              "      <td>0.0</td>\n",
              "      <td>0.0</td>\n",
              "      <td>1.0</td>\n",
              "    </tr>\n",
              "    <tr>\n",
              "      <th>6602</th>\n",
              "      <td>2020-05-18</td>\n",
              "      <td>Saint Pierre Miquelon</td>\n",
              "      <td>5797</td>\n",
              "      <td>0.0</td>\n",
              "      <td>1.0</td>\n",
              "      <td>0.0</td>\n",
              "      <td>1.0</td>\n",
              "      <td>0.0</td>\n",
              "      <td>0.0</td>\n",
              "    </tr>\n",
              "  </tbody>\n",
              "</table>\n",
              "</div>"
            ],
            "text/plain": [
              "           Date                Country  ...  Serious  Active Cases\n",
              "6598 2020-05-18              St. Barth  ...      0.0           0.0\n",
              "6599 2020-05-18         Western Sahara  ...      0.0           0.0\n",
              "6600 2020-05-18               Anguilla  ...      0.0           0.0\n",
              "6601 2020-05-18                Lesotho  ...      0.0           1.0\n",
              "6602 2020-05-18  Saint Pierre Miquelon  ...      0.0           0.0\n",
              "\n",
              "[5 rows x 9 columns]"
            ]
          },
          "metadata": {
            "tags": []
          },
          "execution_count": 87
        }
      ]
    },
    {
      "cell_type": "code",
      "metadata": {
        "id": "N06S1ftJoZ9d",
        "outputId": "efa4aa29-894c-476d-f711-68c82f3fb893",
        "colab": {
          "base_uri": "https://localhost:8080/",
          "height": 221
        }
      },
      "source": [
        "display(df.head())\n",
        "display(df.shape)"
      ],
      "execution_count": 88,
      "outputs": [
        {
          "output_type": "display_data",
          "data": {
            "text/html": [
              "<div>\n",
              "<style scoped>\n",
              "    .dataframe tbody tr th:only-of-type {\n",
              "        vertical-align: middle;\n",
              "    }\n",
              "\n",
              "    .dataframe tbody tr th {\n",
              "        vertical-align: top;\n",
              "    }\n",
              "\n",
              "    .dataframe thead th {\n",
              "        text-align: right;\n",
              "    }\n",
              "</style>\n",
              "<table border=\"1\" class=\"dataframe\">\n",
              "  <thead>\n",
              "    <tr style=\"text-align: right;\">\n",
              "      <th></th>\n",
              "      <th>Date</th>\n",
              "      <th>Country</th>\n",
              "      <th>Population</th>\n",
              "      <th>Total Tests</th>\n",
              "      <th>Total Cases</th>\n",
              "      <th>Total Deaths</th>\n",
              "      <th>Total Recovered</th>\n",
              "      <th>Serious</th>\n",
              "      <th>Active Cases</th>\n",
              "    </tr>\n",
              "  </thead>\n",
              "  <tbody>\n",
              "    <tr>\n",
              "      <th>0</th>\n",
              "      <td>2020-04-18</td>\n",
              "      <td>USA</td>\n",
              "      <td>330774664</td>\n",
              "      <td>3722145.0</td>\n",
              "      <td>738792.0</td>\n",
              "      <td>39014.0</td>\n",
              "      <td>68269.0</td>\n",
              "      <td>13551.0</td>\n",
              "      <td>631509.0</td>\n",
              "    </tr>\n",
              "    <tr>\n",
              "      <th>1</th>\n",
              "      <td>2020-04-18</td>\n",
              "      <td>Russia</td>\n",
              "      <td>145927292</td>\n",
              "      <td>1831892.0</td>\n",
              "      <td>36793.0</td>\n",
              "      <td>313.0</td>\n",
              "      <td>3057.0</td>\n",
              "      <td>8.0</td>\n",
              "      <td>33423.0</td>\n",
              "    </tr>\n",
              "    <tr>\n",
              "      <th>2</th>\n",
              "      <td>2020-04-18</td>\n",
              "      <td>Spain</td>\n",
              "      <td>46752703</td>\n",
              "      <td>930230.0</td>\n",
              "      <td>194416.0</td>\n",
              "      <td>20043.0</td>\n",
              "      <td>74797.0</td>\n",
              "      <td>7371.0</td>\n",
              "      <td>99576.0</td>\n",
              "    </tr>\n",
              "    <tr>\n",
              "      <th>3</th>\n",
              "      <td>2020-04-18</td>\n",
              "      <td>Brazil</td>\n",
              "      <td>212380932</td>\n",
              "      <td>62985.0</td>\n",
              "      <td>36722.0</td>\n",
              "      <td>2361.0</td>\n",
              "      <td>14026.0</td>\n",
              "      <td>6634.0</td>\n",
              "      <td>20335.0</td>\n",
              "    </tr>\n",
              "    <tr>\n",
              "      <th>4</th>\n",
              "      <td>2020-04-18</td>\n",
              "      <td>UK</td>\n",
              "      <td>67844241</td>\n",
              "      <td>460437.0</td>\n",
              "      <td>114217.0</td>\n",
              "      <td>15464.0</td>\n",
              "      <td>0.0</td>\n",
              "      <td>1559.0</td>\n",
              "      <td>98409.0</td>\n",
              "    </tr>\n",
              "  </tbody>\n",
              "</table>\n",
              "</div>"
            ],
            "text/plain": [
              "        Date Country  Population  ...  Total Recovered  Serious  Active Cases\n",
              "0 2020-04-18     USA   330774664  ...          68269.0  13551.0      631509.0\n",
              "1 2020-04-18  Russia   145927292  ...           3057.0      8.0       33423.0\n",
              "2 2020-04-18   Spain    46752703  ...          74797.0   7371.0       99576.0\n",
              "3 2020-04-18  Brazil   212380932  ...          14026.0   6634.0       20335.0\n",
              "4 2020-04-18      UK    67844241  ...              0.0   1559.0       98409.0\n",
              "\n",
              "[5 rows x 9 columns]"
            ]
          },
          "metadata": {
            "tags": []
          }
        },
        {
          "output_type": "display_data",
          "data": {
            "text/plain": [
              "(6603, 9)"
            ]
          },
          "metadata": {
            "tags": []
          }
        }
      ]
    },
    {
      "cell_type": "code",
      "metadata": {
        "id": "iozGWGA-oZ9k",
        "outputId": "0b1fa095-afb0-4809-f600-862a93478974",
        "colab": {
          "base_uri": "https://localhost:8080/"
        }
      },
      "source": [
        "# Check the info\n",
        "df.info()"
      ],
      "execution_count": 89,
      "outputs": [
        {
          "output_type": "stream",
          "text": [
            "<class 'pandas.core.frame.DataFrame'>\n",
            "RangeIndex: 6603 entries, 0 to 6602\n",
            "Data columns (total 9 columns):\n",
            " #   Column           Non-Null Count  Dtype         \n",
            "---  ------           --------------  -----         \n",
            " 0   Date             6603 non-null   datetime64[ns]\n",
            " 1   Country          6603 non-null   object        \n",
            " 2   Population       6603 non-null   int64         \n",
            " 3   Total Tests      6603 non-null   float64       \n",
            " 4   Total Cases      6603 non-null   float64       \n",
            " 5   Total Deaths     6603 non-null   float64       \n",
            " 6   Total Recovered  6603 non-null   float64       \n",
            " 7   Serious          6603 non-null   float64       \n",
            " 8   Active Cases     6603 non-null   float64       \n",
            "dtypes: datetime64[ns](1), float64(6), int64(1), object(1)\n",
            "memory usage: 464.4+ KB\n"
          ],
          "name": "stdout"
        }
      ]
    },
    {
      "cell_type": "code",
      "metadata": {
        "id": "GnExnJqRoZ9w",
        "outputId": "15052356-e596-4b64-f2de-61d8b5937265",
        "colab": {
          "base_uri": "https://localhost:8080/",
          "height": 297
        }
      },
      "source": [
        "# Summary Statisitics\n",
        "df.describe()"
      ],
      "execution_count": 90,
      "outputs": [
        {
          "output_type": "execute_result",
          "data": {
            "text/html": [
              "<div>\n",
              "<style scoped>\n",
              "    .dataframe tbody tr th:only-of-type {\n",
              "        vertical-align: middle;\n",
              "    }\n",
              "\n",
              "    .dataframe tbody tr th {\n",
              "        vertical-align: top;\n",
              "    }\n",
              "\n",
              "    .dataframe thead th {\n",
              "        text-align: right;\n",
              "    }\n",
              "</style>\n",
              "<table border=\"1\" class=\"dataframe\">\n",
              "  <thead>\n",
              "    <tr style=\"text-align: right;\">\n",
              "      <th></th>\n",
              "      <th>Population</th>\n",
              "      <th>Total Tests</th>\n",
              "      <th>Total Cases</th>\n",
              "      <th>Total Deaths</th>\n",
              "      <th>Total Recovered</th>\n",
              "      <th>Serious</th>\n",
              "      <th>Active Cases</th>\n",
              "    </tr>\n",
              "  </thead>\n",
              "  <tbody>\n",
              "    <tr>\n",
              "      <th>count</th>\n",
              "      <td>6.603000e+03</td>\n",
              "      <td>6.603000e+03</td>\n",
              "      <td>6.603000e+03</td>\n",
              "      <td>6603.000000</td>\n",
              "      <td>6603.000000</td>\n",
              "      <td>6603.000000</td>\n",
              "      <td>6.603000e+03</td>\n",
              "    </tr>\n",
              "    <tr>\n",
              "      <th>mean</th>\n",
              "      <td>3.637913e+07</td>\n",
              "      <td>1.806864e+05</td>\n",
              "      <td>1.680405e+04</td>\n",
              "      <td>1151.147206</td>\n",
              "      <td>5602.691201</td>\n",
              "      <td>241.139331</td>\n",
              "      <td>9.875109e+03</td>\n",
              "    </tr>\n",
              "    <tr>\n",
              "      <th>std</th>\n",
              "      <td>1.411537e+08</td>\n",
              "      <td>6.981654e+05</td>\n",
              "      <td>8.829716e+04</td>\n",
              "      <td>6016.411612</td>\n",
              "      <td>22986.345036</td>\n",
              "      <td>1322.814259</td>\n",
              "      <td>6.512407e+04</td>\n",
              "    </tr>\n",
              "    <tr>\n",
              "      <th>min</th>\n",
              "      <td>8.010000e+02</td>\n",
              "      <td>0.000000e+00</td>\n",
              "      <td>0.000000e+00</td>\n",
              "      <td>0.000000</td>\n",
              "      <td>0.000000</td>\n",
              "      <td>0.000000</td>\n",
              "      <td>0.000000e+00</td>\n",
              "    </tr>\n",
              "    <tr>\n",
              "      <th>25%</th>\n",
              "      <td>8.672680e+05</td>\n",
              "      <td>5.720000e+02</td>\n",
              "      <td>7.600000e+01</td>\n",
              "      <td>1.000000</td>\n",
              "      <td>17.000000</td>\n",
              "      <td>0.000000</td>\n",
              "      <td>2.500000e+01</td>\n",
              "    </tr>\n",
              "    <tr>\n",
              "      <th>50%</th>\n",
              "      <td>6.859926e+06</td>\n",
              "      <td>1.076100e+04</td>\n",
              "      <td>5.940000e+02</td>\n",
              "      <td>11.000000</td>\n",
              "      <td>183.000000</td>\n",
              "      <td>2.000000</td>\n",
              "      <td>2.600000e+02</td>\n",
              "    </tr>\n",
              "    <tr>\n",
              "      <th>75%</th>\n",
              "      <td>2.546422e+07</td>\n",
              "      <td>1.019110e+05</td>\n",
              "      <td>4.757000e+03</td>\n",
              "      <td>109.000000</td>\n",
              "      <td>1302.500000</td>\n",
              "      <td>27.000000</td>\n",
              "      <td>1.991000e+03</td>\n",
              "    </tr>\n",
              "    <tr>\n",
              "      <th>max</th>\n",
              "      <td>1.439324e+09</td>\n",
              "      <td>1.230074e+07</td>\n",
              "      <td>1.550294e+06</td>\n",
              "      <td>91981.000000</td>\n",
              "      <td>356383.000000</td>\n",
              "      <td>18671.000000</td>\n",
              "      <td>1.101930e+06</td>\n",
              "    </tr>\n",
              "  </tbody>\n",
              "</table>\n",
              "</div>"
            ],
            "text/plain": [
              "         Population   Total Tests  ...       Serious  Active Cases\n",
              "count  6.603000e+03  6.603000e+03  ...   6603.000000  6.603000e+03\n",
              "mean   3.637913e+07  1.806864e+05  ...    241.139331  9.875109e+03\n",
              "std    1.411537e+08  6.981654e+05  ...   1322.814259  6.512407e+04\n",
              "min    8.010000e+02  0.000000e+00  ...      0.000000  0.000000e+00\n",
              "25%    8.672680e+05  5.720000e+02  ...      0.000000  2.500000e+01\n",
              "50%    6.859926e+06  1.076100e+04  ...      2.000000  2.600000e+02\n",
              "75%    2.546422e+07  1.019110e+05  ...     27.000000  1.991000e+03\n",
              "max    1.439324e+09  1.230074e+07  ...  18671.000000  1.101930e+06\n",
              "\n",
              "[8 rows x 7 columns]"
            ]
          },
          "metadata": {
            "tags": []
          },
          "execution_count": 90
        }
      ]
    },
    {
      "cell_type": "code",
      "metadata": {
        "id": "QYRvPV0BoZ94",
        "outputId": "d0e7ac93-1c36-4781-ccfb-a3ab45454b87",
        "colab": {
          "base_uri": "https://localhost:8080/"
        }
      },
      "source": [
        "# Check the columns\n",
        "df.columns"
      ],
      "execution_count": 91,
      "outputs": [
        {
          "output_type": "execute_result",
          "data": {
            "text/plain": [
              "Index(['Date', 'Country', 'Population', 'Total Tests', 'Total Cases',\n",
              "       'Total Deaths', 'Total Recovered', 'Serious', 'Active Cases'],\n",
              "      dtype='object')"
            ]
          },
          "metadata": {
            "tags": []
          },
          "execution_count": 91
        }
      ]
    },
    {
      "cell_type": "code",
      "metadata": {
        "id": "NagWqs12oZ9_",
        "outputId": "66fd53b8-fe69-4ef6-861f-21c4183b9378",
        "colab": {
          "base_uri": "https://localhost:8080/",
          "height": 419
        }
      },
      "source": [
        "# Current date\n",
        "today = df[df.Date == '2020-04-18']\n",
        "today"
      ],
      "execution_count": 92,
      "outputs": [
        {
          "output_type": "execute_result",
          "data": {
            "text/html": [
              "<div>\n",
              "<style scoped>\n",
              "    .dataframe tbody tr th:only-of-type {\n",
              "        vertical-align: middle;\n",
              "    }\n",
              "\n",
              "    .dataframe tbody tr th {\n",
              "        vertical-align: top;\n",
              "    }\n",
              "\n",
              "    .dataframe thead th {\n",
              "        text-align: right;\n",
              "    }\n",
              "</style>\n",
              "<table border=\"1\" class=\"dataframe\">\n",
              "  <thead>\n",
              "    <tr style=\"text-align: right;\">\n",
              "      <th></th>\n",
              "      <th>Date</th>\n",
              "      <th>Country</th>\n",
              "      <th>Population</th>\n",
              "      <th>Total Tests</th>\n",
              "      <th>Total Cases</th>\n",
              "      <th>Total Deaths</th>\n",
              "      <th>Total Recovered</th>\n",
              "      <th>Serious</th>\n",
              "      <th>Active Cases</th>\n",
              "    </tr>\n",
              "  </thead>\n",
              "  <tbody>\n",
              "    <tr>\n",
              "      <th>0</th>\n",
              "      <td>2020-04-18</td>\n",
              "      <td>USA</td>\n",
              "      <td>330774664</td>\n",
              "      <td>3722145.0</td>\n",
              "      <td>738792.0</td>\n",
              "      <td>39014.0</td>\n",
              "      <td>68269.0</td>\n",
              "      <td>13551.0</td>\n",
              "      <td>631509.0</td>\n",
              "    </tr>\n",
              "    <tr>\n",
              "      <th>1</th>\n",
              "      <td>2020-04-18</td>\n",
              "      <td>Russia</td>\n",
              "      <td>145927292</td>\n",
              "      <td>1831892.0</td>\n",
              "      <td>36793.0</td>\n",
              "      <td>313.0</td>\n",
              "      <td>3057.0</td>\n",
              "      <td>8.0</td>\n",
              "      <td>33423.0</td>\n",
              "    </tr>\n",
              "    <tr>\n",
              "      <th>2</th>\n",
              "      <td>2020-04-18</td>\n",
              "      <td>Spain</td>\n",
              "      <td>46752703</td>\n",
              "      <td>930230.0</td>\n",
              "      <td>194416.0</td>\n",
              "      <td>20043.0</td>\n",
              "      <td>74797.0</td>\n",
              "      <td>7371.0</td>\n",
              "      <td>99576.0</td>\n",
              "    </tr>\n",
              "    <tr>\n",
              "      <th>3</th>\n",
              "      <td>2020-04-18</td>\n",
              "      <td>Brazil</td>\n",
              "      <td>212380932</td>\n",
              "      <td>62985.0</td>\n",
              "      <td>36722.0</td>\n",
              "      <td>2361.0</td>\n",
              "      <td>14026.0</td>\n",
              "      <td>6634.0</td>\n",
              "      <td>20335.0</td>\n",
              "    </tr>\n",
              "    <tr>\n",
              "      <th>4</th>\n",
              "      <td>2020-04-18</td>\n",
              "      <td>UK</td>\n",
              "      <td>67844241</td>\n",
              "      <td>460437.0</td>\n",
              "      <td>114217.0</td>\n",
              "      <td>15464.0</td>\n",
              "      <td>0.0</td>\n",
              "      <td>1559.0</td>\n",
              "      <td>98409.0</td>\n",
              "    </tr>\n",
              "    <tr>\n",
              "      <th>...</th>\n",
              "      <td>...</td>\n",
              "      <td>...</td>\n",
              "      <td>...</td>\n",
              "      <td>...</td>\n",
              "      <td>...</td>\n",
              "      <td>...</td>\n",
              "      <td>...</td>\n",
              "      <td>...</td>\n",
              "      <td>...</td>\n",
              "    </tr>\n",
              "    <tr>\n",
              "      <th>208</th>\n",
              "      <td>2020-04-18</td>\n",
              "      <td>St. Barth</td>\n",
              "      <td>9874</td>\n",
              "      <td>0.0</td>\n",
              "      <td>6.0</td>\n",
              "      <td>0.0</td>\n",
              "      <td>5.0</td>\n",
              "      <td>0.0</td>\n",
              "      <td>1.0</td>\n",
              "    </tr>\n",
              "    <tr>\n",
              "      <th>209</th>\n",
              "      <td>2020-04-18</td>\n",
              "      <td>Western Sahara</td>\n",
              "      <td>595462</td>\n",
              "      <td>0.0</td>\n",
              "      <td>6.0</td>\n",
              "      <td>0.0</td>\n",
              "      <td>0.0</td>\n",
              "      <td>0.0</td>\n",
              "      <td>6.0</td>\n",
              "    </tr>\n",
              "    <tr>\n",
              "      <th>210</th>\n",
              "      <td>2020-04-18</td>\n",
              "      <td>Anguilla</td>\n",
              "      <td>14987</td>\n",
              "      <td>0.0</td>\n",
              "      <td>3.0</td>\n",
              "      <td>0.0</td>\n",
              "      <td>1.0</td>\n",
              "      <td>0.0</td>\n",
              "      <td>2.0</td>\n",
              "    </tr>\n",
              "    <tr>\n",
              "      <th>211</th>\n",
              "      <td>2020-04-18</td>\n",
              "      <td>Lesotho</td>\n",
              "      <td>2140235</td>\n",
              "      <td>0.0</td>\n",
              "      <td>0.0</td>\n",
              "      <td>0.0</td>\n",
              "      <td>0.0</td>\n",
              "      <td>0.0</td>\n",
              "      <td>0.0</td>\n",
              "    </tr>\n",
              "    <tr>\n",
              "      <th>212</th>\n",
              "      <td>2020-04-18</td>\n",
              "      <td>Saint Pierre Miquelon</td>\n",
              "      <td>5797</td>\n",
              "      <td>0.0</td>\n",
              "      <td>1.0</td>\n",
              "      <td>0.0</td>\n",
              "      <td>0.0</td>\n",
              "      <td>0.0</td>\n",
              "      <td>1.0</td>\n",
              "    </tr>\n",
              "  </tbody>\n",
              "</table>\n",
              "<p>213 rows × 9 columns</p>\n",
              "</div>"
            ],
            "text/plain": [
              "          Date                Country  ...  Serious  Active Cases\n",
              "0   2020-04-18                    USA  ...  13551.0      631509.0\n",
              "1   2020-04-18                 Russia  ...      8.0       33423.0\n",
              "2   2020-04-18                  Spain  ...   7371.0       99576.0\n",
              "3   2020-04-18                 Brazil  ...   6634.0       20335.0\n",
              "4   2020-04-18                     UK  ...   1559.0       98409.0\n",
              "..         ...                    ...  ...      ...           ...\n",
              "208 2020-04-18              St. Barth  ...      0.0           1.0\n",
              "209 2020-04-18         Western Sahara  ...      0.0           6.0\n",
              "210 2020-04-18               Anguilla  ...      0.0           2.0\n",
              "211 2020-04-18                Lesotho  ...      0.0           0.0\n",
              "212 2020-04-18  Saint Pierre Miquelon  ...      0.0           1.0\n",
              "\n",
              "[213 rows x 9 columns]"
            ]
          },
          "metadata": {
            "tags": []
          },
          "execution_count": 92
        }
      ]
    },
    {
      "cell_type": "code",
      "metadata": {
        "id": "nDAtRFftoZ-K",
        "outputId": "fa839506-161a-4f30-90b5-196c2ed5f4d6",
        "colab": {
          "base_uri": "https://localhost:8080/",
          "height": 419
        }
      },
      "source": [
        "# Sorting data with number of confirmed cases\n",
        "max_confirmed_cases = today.sort_values(by='Active Cases',ascending=False)\n",
        "max_confirmed_cases"
      ],
      "execution_count": 93,
      "outputs": [
        {
          "output_type": "execute_result",
          "data": {
            "text/html": [
              "<div>\n",
              "<style scoped>\n",
              "    .dataframe tbody tr th:only-of-type {\n",
              "        vertical-align: middle;\n",
              "    }\n",
              "\n",
              "    .dataframe tbody tr th {\n",
              "        vertical-align: top;\n",
              "    }\n",
              "\n",
              "    .dataframe thead th {\n",
              "        text-align: right;\n",
              "    }\n",
              "</style>\n",
              "<table border=\"1\" class=\"dataframe\">\n",
              "  <thead>\n",
              "    <tr style=\"text-align: right;\">\n",
              "      <th></th>\n",
              "      <th>Date</th>\n",
              "      <th>Country</th>\n",
              "      <th>Population</th>\n",
              "      <th>Total Tests</th>\n",
              "      <th>Total Cases</th>\n",
              "      <th>Total Deaths</th>\n",
              "      <th>Total Recovered</th>\n",
              "      <th>Serious</th>\n",
              "      <th>Active Cases</th>\n",
              "    </tr>\n",
              "  </thead>\n",
              "  <tbody>\n",
              "    <tr>\n",
              "      <th>0</th>\n",
              "      <td>2020-04-18</td>\n",
              "      <td>USA</td>\n",
              "      <td>330774664</td>\n",
              "      <td>3722145.0</td>\n",
              "      <td>738792.0</td>\n",
              "      <td>39014.0</td>\n",
              "      <td>68269.0</td>\n",
              "      <td>13551.0</td>\n",
              "      <td>631509.0</td>\n",
              "    </tr>\n",
              "    <tr>\n",
              "      <th>5</th>\n",
              "      <td>2020-04-18</td>\n",
              "      <td>Italy</td>\n",
              "      <td>60471924</td>\n",
              "      <td>1305833.0</td>\n",
              "      <td>175925.0</td>\n",
              "      <td>23227.0</td>\n",
              "      <td>44927.0</td>\n",
              "      <td>2733.0</td>\n",
              "      <td>107771.0</td>\n",
              "    </tr>\n",
              "    <tr>\n",
              "      <th>2</th>\n",
              "      <td>2020-04-18</td>\n",
              "      <td>Spain</td>\n",
              "      <td>46752703</td>\n",
              "      <td>930230.0</td>\n",
              "      <td>194416.0</td>\n",
              "      <td>20043.0</td>\n",
              "      <td>74797.0</td>\n",
              "      <td>7371.0</td>\n",
              "      <td>99576.0</td>\n",
              "    </tr>\n",
              "    <tr>\n",
              "      <th>4</th>\n",
              "      <td>2020-04-18</td>\n",
              "      <td>UK</td>\n",
              "      <td>67844241</td>\n",
              "      <td>460437.0</td>\n",
              "      <td>114217.0</td>\n",
              "      <td>15464.0</td>\n",
              "      <td>0.0</td>\n",
              "      <td>1559.0</td>\n",
              "      <td>98409.0</td>\n",
              "    </tr>\n",
              "    <tr>\n",
              "      <th>6</th>\n",
              "      <td>2020-04-18</td>\n",
              "      <td>France</td>\n",
              "      <td>65256826</td>\n",
              "      <td>463662.0</td>\n",
              "      <td>151793.0</td>\n",
              "      <td>19323.0</td>\n",
              "      <td>35983.0</td>\n",
              "      <td>5833.0</td>\n",
              "      <td>96487.0</td>\n",
              "    </tr>\n",
              "    <tr>\n",
              "      <th>...</th>\n",
              "      <td>...</td>\n",
              "      <td>...</td>\n",
              "      <td>...</td>\n",
              "      <td>...</td>\n",
              "      <td>...</td>\n",
              "      <td>...</td>\n",
              "      <td>...</td>\n",
              "      <td>...</td>\n",
              "      <td>...</td>\n",
              "    </tr>\n",
              "    <tr>\n",
              "      <th>203</th>\n",
              "      <td>2020-04-18</td>\n",
              "      <td>Greenland</td>\n",
              "      <td>56759</td>\n",
              "      <td>1043.0</td>\n",
              "      <td>11.0</td>\n",
              "      <td>0.0</td>\n",
              "      <td>11.0</td>\n",
              "      <td>0.0</td>\n",
              "      <td>0.0</td>\n",
              "    </tr>\n",
              "    <tr>\n",
              "      <th>200</th>\n",
              "      <td>2020-04-18</td>\n",
              "      <td>Comoros</td>\n",
              "      <td>867268</td>\n",
              "      <td>0.0</td>\n",
              "      <td>0.0</td>\n",
              "      <td>0.0</td>\n",
              "      <td>0.0</td>\n",
              "      <td>0.0</td>\n",
              "      <td>0.0</td>\n",
              "    </tr>\n",
              "    <tr>\n",
              "      <th>168</th>\n",
              "      <td>2020-04-18</td>\n",
              "      <td>Mauritania</td>\n",
              "      <td>4633922</td>\n",
              "      <td>913.0</td>\n",
              "      <td>7.0</td>\n",
              "      <td>1.0</td>\n",
              "      <td>6.0</td>\n",
              "      <td>0.0</td>\n",
              "      <td>0.0</td>\n",
              "    </tr>\n",
              "    <tr>\n",
              "      <th>211</th>\n",
              "      <td>2020-04-18</td>\n",
              "      <td>Lesotho</td>\n",
              "      <td>2140235</td>\n",
              "      <td>0.0</td>\n",
              "      <td>0.0</td>\n",
              "      <td>0.0</td>\n",
              "      <td>0.0</td>\n",
              "      <td>0.0</td>\n",
              "      <td>0.0</td>\n",
              "    </tr>\n",
              "    <tr>\n",
              "      <th>85</th>\n",
              "      <td>2020-04-18</td>\n",
              "      <td>Tajikistan</td>\n",
              "      <td>9510530</td>\n",
              "      <td>0.0</td>\n",
              "      <td>0.0</td>\n",
              "      <td>0.0</td>\n",
              "      <td>0.0</td>\n",
              "      <td>0.0</td>\n",
              "      <td>0.0</td>\n",
              "    </tr>\n",
              "  </tbody>\n",
              "</table>\n",
              "<p>213 rows × 9 columns</p>\n",
              "</div>"
            ],
            "text/plain": [
              "          Date     Country  Population  ...  Total Recovered  Serious  Active Cases\n",
              "0   2020-04-18         USA   330774664  ...          68269.0  13551.0      631509.0\n",
              "5   2020-04-18       Italy    60471924  ...          44927.0   2733.0      107771.0\n",
              "2   2020-04-18       Spain    46752703  ...          74797.0   7371.0       99576.0\n",
              "4   2020-04-18          UK    67844241  ...              0.0   1559.0       98409.0\n",
              "6   2020-04-18      France    65256826  ...          35983.0   5833.0       96487.0\n",
              "..         ...         ...         ...  ...              ...      ...           ...\n",
              "203 2020-04-18   Greenland       56759  ...             11.0      0.0           0.0\n",
              "200 2020-04-18     Comoros      867268  ...              0.0      0.0           0.0\n",
              "168 2020-04-18  Mauritania     4633922  ...              6.0      0.0           0.0\n",
              "211 2020-04-18     Lesotho     2140235  ...              0.0      0.0           0.0\n",
              "85  2020-04-18  Tajikistan     9510530  ...              0.0      0.0           0.0\n",
              "\n",
              "[213 rows x 9 columns]"
            ]
          },
          "metadata": {
            "tags": []
          },
          "execution_count": 93
        }
      ]
    },
    {
      "cell_type": "code",
      "metadata": {
        "id": "g47qxsaBoZ-V",
        "outputId": "b2332469-ecf7-4388-a247-298193735a32",
        "colab": {
          "base_uri": "https://localhost:8080/",
          "height": 204
        }
      },
      "source": [
        "# List the top 5 cases observed\n",
        "top_country_confirmed = max_confirmed_cases[0:5]\n",
        "top_country_confirmed"
      ],
      "execution_count": 94,
      "outputs": [
        {
          "output_type": "execute_result",
          "data": {
            "text/html": [
              "<div>\n",
              "<style scoped>\n",
              "    .dataframe tbody tr th:only-of-type {\n",
              "        vertical-align: middle;\n",
              "    }\n",
              "\n",
              "    .dataframe tbody tr th {\n",
              "        vertical-align: top;\n",
              "    }\n",
              "\n",
              "    .dataframe thead th {\n",
              "        text-align: right;\n",
              "    }\n",
              "</style>\n",
              "<table border=\"1\" class=\"dataframe\">\n",
              "  <thead>\n",
              "    <tr style=\"text-align: right;\">\n",
              "      <th></th>\n",
              "      <th>Date</th>\n",
              "      <th>Country</th>\n",
              "      <th>Population</th>\n",
              "      <th>Total Tests</th>\n",
              "      <th>Total Cases</th>\n",
              "      <th>Total Deaths</th>\n",
              "      <th>Total Recovered</th>\n",
              "      <th>Serious</th>\n",
              "      <th>Active Cases</th>\n",
              "    </tr>\n",
              "  </thead>\n",
              "  <tbody>\n",
              "    <tr>\n",
              "      <th>0</th>\n",
              "      <td>2020-04-18</td>\n",
              "      <td>USA</td>\n",
              "      <td>330774664</td>\n",
              "      <td>3722145.0</td>\n",
              "      <td>738792.0</td>\n",
              "      <td>39014.0</td>\n",
              "      <td>68269.0</td>\n",
              "      <td>13551.0</td>\n",
              "      <td>631509.0</td>\n",
              "    </tr>\n",
              "    <tr>\n",
              "      <th>5</th>\n",
              "      <td>2020-04-18</td>\n",
              "      <td>Italy</td>\n",
              "      <td>60471924</td>\n",
              "      <td>1305833.0</td>\n",
              "      <td>175925.0</td>\n",
              "      <td>23227.0</td>\n",
              "      <td>44927.0</td>\n",
              "      <td>2733.0</td>\n",
              "      <td>107771.0</td>\n",
              "    </tr>\n",
              "    <tr>\n",
              "      <th>2</th>\n",
              "      <td>2020-04-18</td>\n",
              "      <td>Spain</td>\n",
              "      <td>46752703</td>\n",
              "      <td>930230.0</td>\n",
              "      <td>194416.0</td>\n",
              "      <td>20043.0</td>\n",
              "      <td>74797.0</td>\n",
              "      <td>7371.0</td>\n",
              "      <td>99576.0</td>\n",
              "    </tr>\n",
              "    <tr>\n",
              "      <th>4</th>\n",
              "      <td>2020-04-18</td>\n",
              "      <td>UK</td>\n",
              "      <td>67844241</td>\n",
              "      <td>460437.0</td>\n",
              "      <td>114217.0</td>\n",
              "      <td>15464.0</td>\n",
              "      <td>0.0</td>\n",
              "      <td>1559.0</td>\n",
              "      <td>98409.0</td>\n",
              "    </tr>\n",
              "    <tr>\n",
              "      <th>6</th>\n",
              "      <td>2020-04-18</td>\n",
              "      <td>France</td>\n",
              "      <td>65256826</td>\n",
              "      <td>463662.0</td>\n",
              "      <td>151793.0</td>\n",
              "      <td>19323.0</td>\n",
              "      <td>35983.0</td>\n",
              "      <td>5833.0</td>\n",
              "      <td>96487.0</td>\n",
              "    </tr>\n",
              "  </tbody>\n",
              "</table>\n",
              "</div>"
            ],
            "text/plain": [
              "        Date Country  Population  ...  Total Recovered  Serious  Active Cases\n",
              "0 2020-04-18     USA   330774664  ...          68269.0  13551.0      631509.0\n",
              "5 2020-04-18   Italy    60471924  ...          44927.0   2733.0      107771.0\n",
              "2 2020-04-18   Spain    46752703  ...          74797.0   7371.0       99576.0\n",
              "4 2020-04-18      UK    67844241  ...              0.0   1559.0       98409.0\n",
              "6 2020-04-18  France    65256826  ...          35983.0   5833.0       96487.0\n",
              "\n",
              "[5 rows x 9 columns]"
            ]
          },
          "metadata": {
            "tags": []
          },
          "execution_count": 94
        }
      ]
    },
    {
      "cell_type": "code",
      "metadata": {
        "id": "p-4wmGKSoZ-i",
        "outputId": "ece297db-eb48-436a-81d1-3be3bfb8b8c7",
        "colab": {
          "base_uri": "https://localhost:8080/",
          "height": 1000
        }
      },
      "source": [
        "# Making bar plot for country with acitve cases \n",
        "sns.set(rc={'figure.figsize':(15,20)})\n",
        "sns.barplot(x='Country',y='Active Cases',data=top_country_confirmed,hue='Country')\n",
        "plt.title('Country VS Active cases')\n",
        "plt.xlabel('Country')\n",
        "plt.ylabel('Active')\n",
        "plt.show()"
      ],
      "execution_count": 95,
      "outputs": [
        {
          "output_type": "display_data",
          "data": {
            "image/png": "[encoded data removed]",
            "text/plain": [
              "<Figure size 1080x1440 with 1 Axes>"
            ]
          },
          "metadata": {
            "tags": []
          }
        }
      ]
    },
    {
      "cell_type": "markdown",
      "metadata": {
        "id": "FO_OI_9FoZ-0"
      },
      "source": [
        "''' From above the plot it is clear that total 6 lakh cases was observed in USA Country itlsef'''"
      ]
    },
    {
      "cell_type": "code",
      "metadata": {
        "id": "i-f4Q1YwoZ-2",
        "outputId": "30708b90-d802-44ee-b8a4-95a713464df4",
        "colab": {
          "base_uri": "https://localhost:8080/",
          "height": 419
        }
      },
      "source": [
        "# Sorting data with respect to recovered cases\n",
        "max_cured_cases = today.sort_values(by='Total Recovered',ascending=False)\n",
        "max_cured_cases"
      ],
      "execution_count": 96,
      "outputs": [
        {
          "output_type": "execute_result",
          "data": {
            "text/html": [
              "<div>\n",
              "<style scoped>\n",
              "    .dataframe tbody tr th:only-of-type {\n",
              "        vertical-align: middle;\n",
              "    }\n",
              "\n",
              "    .dataframe tbody tr th {\n",
              "        vertical-align: top;\n",
              "    }\n",
              "\n",
              "    .dataframe thead th {\n",
              "        text-align: right;\n",
              "    }\n",
              "</style>\n",
              "<table border=\"1\" class=\"dataframe\">\n",
              "  <thead>\n",
              "    <tr style=\"text-align: right;\">\n",
              "      <th></th>\n",
              "      <th>Date</th>\n",
              "      <th>Country</th>\n",
              "      <th>Population</th>\n",
              "      <th>Total Tests</th>\n",
              "      <th>Total Cases</th>\n",
              "      <th>Total Deaths</th>\n",
              "      <th>Total Recovered</th>\n",
              "      <th>Serious</th>\n",
              "      <th>Active Cases</th>\n",
              "    </tr>\n",
              "  </thead>\n",
              "  <tbody>\n",
              "    <tr>\n",
              "      <th>7</th>\n",
              "      <td>2020-04-18</td>\n",
              "      <td>Germany</td>\n",
              "      <td>83752855</td>\n",
              "      <td>1728357.0</td>\n",
              "      <td>143724.0</td>\n",
              "      <td>4538.0</td>\n",
              "      <td>85400.0</td>\n",
              "      <td>2922.0</td>\n",
              "      <td>53786.0</td>\n",
              "    </tr>\n",
              "    <tr>\n",
              "      <th>12</th>\n",
              "      <td>2020-04-18</td>\n",
              "      <td>China</td>\n",
              "      <td>1439323776</td>\n",
              "      <td>0.0</td>\n",
              "      <td>82719.0</td>\n",
              "      <td>4632.0</td>\n",
              "      <td>77029.0</td>\n",
              "      <td>85.0</td>\n",
              "      <td>1058.0</td>\n",
              "    </tr>\n",
              "    <tr>\n",
              "      <th>2</th>\n",
              "      <td>2020-04-18</td>\n",
              "      <td>Spain</td>\n",
              "      <td>46752703</td>\n",
              "      <td>930230.0</td>\n",
              "      <td>194416.0</td>\n",
              "      <td>20043.0</td>\n",
              "      <td>74797.0</td>\n",
              "      <td>7371.0</td>\n",
              "      <td>99576.0</td>\n",
              "    </tr>\n",
              "    <tr>\n",
              "      <th>0</th>\n",
              "      <td>2020-04-18</td>\n",
              "      <td>USA</td>\n",
              "      <td>330774664</td>\n",
              "      <td>3722145.0</td>\n",
              "      <td>738792.0</td>\n",
              "      <td>39014.0</td>\n",
              "      <td>68269.0</td>\n",
              "      <td>13551.0</td>\n",
              "      <td>631509.0</td>\n",
              "    </tr>\n",
              "    <tr>\n",
              "      <th>9</th>\n",
              "      <td>2020-04-18</td>\n",
              "      <td>Iran</td>\n",
              "      <td>83862642</td>\n",
              "      <td>330137.0</td>\n",
              "      <td>80868.0</td>\n",
              "      <td>5031.0</td>\n",
              "      <td>55987.0</td>\n",
              "      <td>3513.0</td>\n",
              "      <td>19850.0</td>\n",
              "    </tr>\n",
              "    <tr>\n",
              "      <th>...</th>\n",
              "      <td>...</td>\n",
              "      <td>...</td>\n",
              "      <td>...</td>\n",
              "      <td>...</td>\n",
              "      <td>...</td>\n",
              "      <td>...</td>\n",
              "      <td>...</td>\n",
              "      <td>...</td>\n",
              "      <td>...</td>\n",
              "    </tr>\n",
              "    <tr>\n",
              "      <th>196</th>\n",
              "      <td>2020-04-18</td>\n",
              "      <td>Saint Kitts and Nevis</td>\n",
              "      <td>53155</td>\n",
              "      <td>234.0</td>\n",
              "      <td>14.0</td>\n",
              "      <td>0.0</td>\n",
              "      <td>0.0</td>\n",
              "      <td>0.0</td>\n",
              "      <td>14.0</td>\n",
              "    </tr>\n",
              "    <tr>\n",
              "      <th>145</th>\n",
              "      <td>2020-04-18</td>\n",
              "      <td>Sao Tome and Principe</td>\n",
              "      <td>218653</td>\n",
              "      <td>19.0</td>\n",
              "      <td>4.0</td>\n",
              "      <td>0.0</td>\n",
              "      <td>0.0</td>\n",
              "      <td>0.0</td>\n",
              "      <td>4.0</td>\n",
              "    </tr>\n",
              "    <tr>\n",
              "      <th>188</th>\n",
              "      <td>2020-04-18</td>\n",
              "      <td>Belize</td>\n",
              "      <td>396732</td>\n",
              "      <td>651.0</td>\n",
              "      <td>18.0</td>\n",
              "      <td>2.0</td>\n",
              "      <td>0.0</td>\n",
              "      <td>1.0</td>\n",
              "      <td>16.0</td>\n",
              "    </tr>\n",
              "    <tr>\n",
              "      <th>189</th>\n",
              "      <td>2020-04-18</td>\n",
              "      <td>Fiji</td>\n",
              "      <td>895677</td>\n",
              "      <td>0.0</td>\n",
              "      <td>17.0</td>\n",
              "      <td>0.0</td>\n",
              "      <td>0.0</td>\n",
              "      <td>0.0</td>\n",
              "      <td>17.0</td>\n",
              "    </tr>\n",
              "    <tr>\n",
              "      <th>212</th>\n",
              "      <td>2020-04-18</td>\n",
              "      <td>Saint Pierre Miquelon</td>\n",
              "      <td>5797</td>\n",
              "      <td>0.0</td>\n",
              "      <td>1.0</td>\n",
              "      <td>0.0</td>\n",
              "      <td>0.0</td>\n",
              "      <td>0.0</td>\n",
              "      <td>1.0</td>\n",
              "    </tr>\n",
              "  </tbody>\n",
              "</table>\n",
              "<p>213 rows × 9 columns</p>\n",
              "</div>"
            ],
            "text/plain": [
              "          Date                Country  ...  Serious  Active Cases\n",
              "7   2020-04-18                Germany  ...   2922.0       53786.0\n",
              "12  2020-04-18                  China  ...     85.0        1058.0\n",
              "2   2020-04-18                  Spain  ...   7371.0       99576.0\n",
              "0   2020-04-18                    USA  ...  13551.0      631509.0\n",
              "9   2020-04-18                   Iran  ...   3513.0       19850.0\n",
              "..         ...                    ...  ...      ...           ...\n",
              "196 2020-04-18  Saint Kitts and Nevis  ...      0.0          14.0\n",
              "145 2020-04-18  Sao Tome and Principe  ...      0.0           4.0\n",
              "188 2020-04-18                 Belize  ...      1.0          16.0\n",
              "189 2020-04-18                   Fiji  ...      0.0          17.0\n",
              "212 2020-04-18  Saint Pierre Miquelon  ...      0.0           1.0\n",
              "\n",
              "[213 rows x 9 columns]"
            ]
          },
          "metadata": {
            "tags": []
          },
          "execution_count": 96
        }
      ]
    },
    {
      "cell_type": "code",
      "metadata": {
        "id": "yEiAJnS9oZ_d",
        "outputId": "4226a88f-1a80-4393-e507-dccbd999ebab",
        "colab": {
          "base_uri": "https://localhost:8080/",
          "height": 204
        }
      },
      "source": [
        "# Getting top Recovered cases\n",
        "top_cured_cases = max_cured_cases[0:5]\n",
        "top_cured_cases"
      ],
      "execution_count": 97,
      "outputs": [
        {
          "output_type": "execute_result",
          "data": {
            "text/html": [
              "<div>\n",
              "<style scoped>\n",
              "    .dataframe tbody tr th:only-of-type {\n",
              "        vertical-align: middle;\n",
              "    }\n",
              "\n",
              "    .dataframe tbody tr th {\n",
              "        vertical-align: top;\n",
              "    }\n",
              "\n",
              "    .dataframe thead th {\n",
              "        text-align: right;\n",
              "    }\n",
              "</style>\n",
              "<table border=\"1\" class=\"dataframe\">\n",
              "  <thead>\n",
              "    <tr style=\"text-align: right;\">\n",
              "      <th></th>\n",
              "      <th>Date</th>\n",
              "      <th>Country</th>\n",
              "      <th>Population</th>\n",
              "      <th>Total Tests</th>\n",
              "      <th>Total Cases</th>\n",
              "      <th>Total Deaths</th>\n",
              "      <th>Total Recovered</th>\n",
              "      <th>Serious</th>\n",
              "      <th>Active Cases</th>\n",
              "    </tr>\n",
              "  </thead>\n",
              "  <tbody>\n",
              "    <tr>\n",
              "      <th>7</th>\n",
              "      <td>2020-04-18</td>\n",
              "      <td>Germany</td>\n",
              "      <td>83752855</td>\n",
              "      <td>1728357.0</td>\n",
              "      <td>143724.0</td>\n",
              "      <td>4538.0</td>\n",
              "      <td>85400.0</td>\n",
              "      <td>2922.0</td>\n",
              "      <td>53786.0</td>\n",
              "    </tr>\n",
              "    <tr>\n",
              "      <th>12</th>\n",
              "      <td>2020-04-18</td>\n",
              "      <td>China</td>\n",
              "      <td>1439323776</td>\n",
              "      <td>0.0</td>\n",
              "      <td>82719.0</td>\n",
              "      <td>4632.0</td>\n",
              "      <td>77029.0</td>\n",
              "      <td>85.0</td>\n",
              "      <td>1058.0</td>\n",
              "    </tr>\n",
              "    <tr>\n",
              "      <th>2</th>\n",
              "      <td>2020-04-18</td>\n",
              "      <td>Spain</td>\n",
              "      <td>46752703</td>\n",
              "      <td>930230.0</td>\n",
              "      <td>194416.0</td>\n",
              "      <td>20043.0</td>\n",
              "      <td>74797.0</td>\n",
              "      <td>7371.0</td>\n",
              "      <td>99576.0</td>\n",
              "    </tr>\n",
              "    <tr>\n",
              "      <th>0</th>\n",
              "      <td>2020-04-18</td>\n",
              "      <td>USA</td>\n",
              "      <td>330774664</td>\n",
              "      <td>3722145.0</td>\n",
              "      <td>738792.0</td>\n",
              "      <td>39014.0</td>\n",
              "      <td>68269.0</td>\n",
              "      <td>13551.0</td>\n",
              "      <td>631509.0</td>\n",
              "    </tr>\n",
              "    <tr>\n",
              "      <th>9</th>\n",
              "      <td>2020-04-18</td>\n",
              "      <td>Iran</td>\n",
              "      <td>83862642</td>\n",
              "      <td>330137.0</td>\n",
              "      <td>80868.0</td>\n",
              "      <td>5031.0</td>\n",
              "      <td>55987.0</td>\n",
              "      <td>3513.0</td>\n",
              "      <td>19850.0</td>\n",
              "    </tr>\n",
              "  </tbody>\n",
              "</table>\n",
              "</div>"
            ],
            "text/plain": [
              "         Date  Country  Population  ...  Total Recovered  Serious  Active Cases\n",
              "7  2020-04-18  Germany    83752855  ...          85400.0   2922.0       53786.0\n",
              "12 2020-04-18    China  1439323776  ...          77029.0     85.0        1058.0\n",
              "2  2020-04-18    Spain    46752703  ...          74797.0   7371.0       99576.0\n",
              "0  2020-04-18      USA   330774664  ...          68269.0  13551.0      631509.0\n",
              "9  2020-04-18     Iran    83862642  ...          55987.0   3513.0       19850.0\n",
              "\n",
              "[5 rows x 9 columns]"
            ]
          },
          "metadata": {
            "tags": []
          },
          "execution_count": 97
        }
      ]
    },
    {
      "cell_type": "code",
      "metadata": {
        "id": "_fYeOXifoZ_l",
        "outputId": "81e7591a-80e9-4a61-d74c-4d47daad16df",
        "colab": {
          "base_uri": "https://localhost:8080/",
          "height": 1000
        }
      },
      "source": [
        "# Making bar plot for acitve cases with age \n",
        "sns.set(rc={'figure.figsize':(15,20)})\n",
        "sns.barplot(x='Country',y='Total Recovered',data=top_cured_cases,hue='Country')\n",
        "plt.title('Total Recovered Vs. Country',fontsize=25)\n",
        "plt.xlabel('Country',fontsize=15)\n",
        "plt.ylabel('Total Recovered',fontsize=15)\n",
        "plt.show()"
      ],
      "execution_count": 98,
      "outputs": [
        {
          "output_type": "display_data",
          "data": {
            "image/png": "[encoded data removed]",
            "text/plain": [
              "<Figure size 1080x1440 with 1 Axes>"
            ]
          },
          "metadata": {
            "tags": []
          }
        }
      ]
    },
    {
      "cell_type": "markdown",
      "metadata": {
        "id": "YO5B5IHnoZ_s"
      },
      "source": [
        "'''Largest recovery was observed in Germany it was around 80000 ''' "
      ]
    },
    {
      "cell_type": "code",
      "metadata": {
        "id": "unZaHaSPoZ_u",
        "outputId": "6dd8a88c-e88b-421e-967b-ca557570baea",
        "colab": {
          "base_uri": "https://localhost:8080/",
          "height": 1000
        }
      },
      "source": [
        "# GERMANY\n",
        "germany = df[df.Country=='Germany']\n",
        "germany"
      ],
      "execution_count": 99,
      "outputs": [
        {
          "output_type": "execute_result",
          "data": {
            "text/html": [
              "<div>\n",
              "<style scoped>\n",
              "    .dataframe tbody tr th:only-of-type {\n",
              "        vertical-align: middle;\n",
              "    }\n",
              "\n",
              "    .dataframe tbody tr th {\n",
              "        vertical-align: top;\n",
              "    }\n",
              "\n",
              "    .dataframe thead th {\n",
              "        text-align: right;\n",
              "    }\n",
              "</style>\n",
              "<table border=\"1\" class=\"dataframe\">\n",
              "  <thead>\n",
              "    <tr style=\"text-align: right;\">\n",
              "      <th></th>\n",
              "      <th>Date</th>\n",
              "      <th>Country</th>\n",
              "      <th>Population</th>\n",
              "      <th>Total Tests</th>\n",
              "      <th>Total Cases</th>\n",
              "      <th>Total Deaths</th>\n",
              "      <th>Total Recovered</th>\n",
              "      <th>Serious</th>\n",
              "      <th>Active Cases</th>\n",
              "    </tr>\n",
              "  </thead>\n",
              "  <tbody>\n",
              "    <tr>\n",
              "      <th>7</th>\n",
              "      <td>2020-04-18</td>\n",
              "      <td>Germany</td>\n",
              "      <td>83752855</td>\n",
              "      <td>1728357.0</td>\n",
              "      <td>143724.0</td>\n",
              "      <td>4538.0</td>\n",
              "      <td>85400.0</td>\n",
              "      <td>2922.0</td>\n",
              "      <td>53786.0</td>\n",
              "    </tr>\n",
              "    <tr>\n",
              "      <th>220</th>\n",
              "      <td>2020-04-19</td>\n",
              "      <td>Germany</td>\n",
              "      <td>83752855</td>\n",
              "      <td>1728357.0</td>\n",
              "      <td>145742.0</td>\n",
              "      <td>4642.0</td>\n",
              "      <td>88000.0</td>\n",
              "      <td>2889.0</td>\n",
              "      <td>53100.0</td>\n",
              "    </tr>\n",
              "    <tr>\n",
              "      <th>433</th>\n",
              "      <td>2020-04-20</td>\n",
              "      <td>Germany</td>\n",
              "      <td>83752855</td>\n",
              "      <td>1728357.0</td>\n",
              "      <td>147065.0</td>\n",
              "      <td>4862.0</td>\n",
              "      <td>91500.0</td>\n",
              "      <td>2889.0</td>\n",
              "      <td>50703.0</td>\n",
              "    </tr>\n",
              "    <tr>\n",
              "      <th>646</th>\n",
              "      <td>2020-04-21</td>\n",
              "      <td>Germany</td>\n",
              "      <td>83752855</td>\n",
              "      <td>1728357.0</td>\n",
              "      <td>148453.0</td>\n",
              "      <td>5086.0</td>\n",
              "      <td>95200.0</td>\n",
              "      <td>2889.0</td>\n",
              "      <td>48167.0</td>\n",
              "    </tr>\n",
              "    <tr>\n",
              "      <th>859</th>\n",
              "      <td>2020-04-22</td>\n",
              "      <td>Germany</td>\n",
              "      <td>83752855</td>\n",
              "      <td>2072669.0</td>\n",
              "      <td>150648.0</td>\n",
              "      <td>5315.0</td>\n",
              "      <td>99400.0</td>\n",
              "      <td>2908.0</td>\n",
              "      <td>45933.0</td>\n",
              "    </tr>\n",
              "    <tr>\n",
              "      <th>1072</th>\n",
              "      <td>2020-04-23</td>\n",
              "      <td>Germany</td>\n",
              "      <td>83752855</td>\n",
              "      <td>2072669.0</td>\n",
              "      <td>153129.0</td>\n",
              "      <td>5575.0</td>\n",
              "      <td>103300.0</td>\n",
              "      <td>2908.0</td>\n",
              "      <td>44254.0</td>\n",
              "    </tr>\n",
              "    <tr>\n",
              "      <th>1285</th>\n",
              "      <td>2020-04-24</td>\n",
              "      <td>Germany</td>\n",
              "      <td>83752855</td>\n",
              "      <td>2072669.0</td>\n",
              "      <td>154999.0</td>\n",
              "      <td>5760.0</td>\n",
              "      <td>106800.0</td>\n",
              "      <td>2908.0</td>\n",
              "      <td>42439.0</td>\n",
              "    </tr>\n",
              "    <tr>\n",
              "      <th>1498</th>\n",
              "      <td>2020-04-25</td>\n",
              "      <td>Germany</td>\n",
              "      <td>83752855</td>\n",
              "      <td>2072669.0</td>\n",
              "      <td>156513.0</td>\n",
              "      <td>5877.0</td>\n",
              "      <td>109800.0</td>\n",
              "      <td>2908.0</td>\n",
              "      <td>40836.0</td>\n",
              "    </tr>\n",
              "    <tr>\n",
              "      <th>1711</th>\n",
              "      <td>2020-04-26</td>\n",
              "      <td>Germany</td>\n",
              "      <td>83752855</td>\n",
              "      <td>2072669.0</td>\n",
              "      <td>157770.0</td>\n",
              "      <td>5976.0</td>\n",
              "      <td>112000.0</td>\n",
              "      <td>2570.0</td>\n",
              "      <td>39794.0</td>\n",
              "    </tr>\n",
              "    <tr>\n",
              "      <th>1924</th>\n",
              "      <td>2020-04-27</td>\n",
              "      <td>Germany</td>\n",
              "      <td>83752855</td>\n",
              "      <td>2072669.0</td>\n",
              "      <td>158758.0</td>\n",
              "      <td>6126.0</td>\n",
              "      <td>114500.0</td>\n",
              "      <td>2409.0</td>\n",
              "      <td>38132.0</td>\n",
              "    </tr>\n",
              "    <tr>\n",
              "      <th>2137</th>\n",
              "      <td>2020-04-28</td>\n",
              "      <td>Germany</td>\n",
              "      <td>83752855</td>\n",
              "      <td>2072669.0</td>\n",
              "      <td>159912.0</td>\n",
              "      <td>6314.0</td>\n",
              "      <td>117400.0</td>\n",
              "      <td>2409.0</td>\n",
              "      <td>36198.0</td>\n",
              "    </tr>\n",
              "    <tr>\n",
              "      <th>2350</th>\n",
              "      <td>2020-04-29</td>\n",
              "      <td>Germany</td>\n",
              "      <td>83752855</td>\n",
              "      <td>2547052.0</td>\n",
              "      <td>161539.0</td>\n",
              "      <td>6467.0</td>\n",
              "      <td>120400.0</td>\n",
              "      <td>2415.0</td>\n",
              "      <td>34672.0</td>\n",
              "    </tr>\n",
              "    <tr>\n",
              "      <th>2563</th>\n",
              "      <td>2020-04-30</td>\n",
              "      <td>Germany</td>\n",
              "      <td>83752855</td>\n",
              "      <td>2547052.0</td>\n",
              "      <td>163009.0</td>\n",
              "      <td>6623.0</td>\n",
              "      <td>123500.0</td>\n",
              "      <td>2415.0</td>\n",
              "      <td>32886.0</td>\n",
              "    </tr>\n",
              "    <tr>\n",
              "      <th>2776</th>\n",
              "      <td>2020-05-01</td>\n",
              "      <td>Germany</td>\n",
              "      <td>83752855</td>\n",
              "      <td>2547052.0</td>\n",
              "      <td>164077.0</td>\n",
              "      <td>6736.0</td>\n",
              "      <td>126900.0</td>\n",
              "      <td>2189.0</td>\n",
              "      <td>30441.0</td>\n",
              "    </tr>\n",
              "    <tr>\n",
              "      <th>2989</th>\n",
              "      <td>2020-05-02</td>\n",
              "      <td>Germany</td>\n",
              "      <td>83752855</td>\n",
              "      <td>2547052.0</td>\n",
              "      <td>164967.0</td>\n",
              "      <td>6812.0</td>\n",
              "      <td>130600.0</td>\n",
              "      <td>1979.0</td>\n",
              "      <td>28198.0</td>\n",
              "    </tr>\n",
              "    <tr>\n",
              "      <th>3202</th>\n",
              "      <td>2020-05-03</td>\n",
              "      <td>Germany</td>\n",
              "      <td>83752855</td>\n",
              "      <td>2547052.0</td>\n",
              "      <td>165664.0</td>\n",
              "      <td>6866.0</td>\n",
              "      <td>130600.0</td>\n",
              "      <td>1979.0</td>\n",
              "      <td>28198.0</td>\n",
              "    </tr>\n",
              "    <tr>\n",
              "      <th>3415</th>\n",
              "      <td>2020-05-04</td>\n",
              "      <td>Germany</td>\n",
              "      <td>83752855</td>\n",
              "      <td>2547052.0</td>\n",
              "      <td>166152.0</td>\n",
              "      <td>6993.0</td>\n",
              "      <td>132700.0</td>\n",
              "      <td>1949.0</td>\n",
              "      <td>26459.0</td>\n",
              "    </tr>\n",
              "    <tr>\n",
              "      <th>3628</th>\n",
              "      <td>2020-05-05</td>\n",
              "      <td>Germany</td>\n",
              "      <td>83752855</td>\n",
              "      <td>2547052.0</td>\n",
              "      <td>167007.0</td>\n",
              "      <td>6993.0</td>\n",
              "      <td>135100.0</td>\n",
              "      <td>1937.0</td>\n",
              "      <td>24914.0</td>\n",
              "    </tr>\n",
              "    <tr>\n",
              "      <th>3841</th>\n",
              "      <td>2020-05-06</td>\n",
              "      <td>Germany</td>\n",
              "      <td>83752855</td>\n",
              "      <td>2755770.0</td>\n",
              "      <td>168162.0</td>\n",
              "      <td>7275.0</td>\n",
              "      <td>137696.0</td>\n",
              "      <td>1884.0</td>\n",
              "      <td>23191.0</td>\n",
              "    </tr>\n",
              "    <tr>\n",
              "      <th>4054</th>\n",
              "      <td>2020-05-07</td>\n",
              "      <td>Germany</td>\n",
              "      <td>83752855</td>\n",
              "      <td>2755770.0</td>\n",
              "      <td>169430.0</td>\n",
              "      <td>7392.0</td>\n",
              "      <td>139900.0</td>\n",
              "      <td>1823.0</td>\n",
              "      <td>22138.0</td>\n",
              "    </tr>\n",
              "    <tr>\n",
              "      <th>4267</th>\n",
              "      <td>2020-05-08</td>\n",
              "      <td>Germany</td>\n",
              "      <td>83752855</td>\n",
              "      <td>2755770.0</td>\n",
              "      <td>170588.0</td>\n",
              "      <td>7510.0</td>\n",
              "      <td>141700.0</td>\n",
              "      <td>1712.0</td>\n",
              "      <td>21378.0</td>\n",
              "    </tr>\n",
              "    <tr>\n",
              "      <th>4480</th>\n",
              "      <td>2020-05-09</td>\n",
              "      <td>Germany</td>\n",
              "      <td>83752855</td>\n",
              "      <td>2755770.0</td>\n",
              "      <td>171324.0</td>\n",
              "      <td>7549.0</td>\n",
              "      <td>143300.0</td>\n",
              "      <td>1650.0</td>\n",
              "      <td>20475.0</td>\n",
              "    </tr>\n",
              "    <tr>\n",
              "      <th>4693</th>\n",
              "      <td>2020-05-10</td>\n",
              "      <td>Germany</td>\n",
              "      <td>83752855</td>\n",
              "      <td>2755770.0</td>\n",
              "      <td>171879.0</td>\n",
              "      <td>7569.0</td>\n",
              "      <td>144400.0</td>\n",
              "      <td>1581.0</td>\n",
              "      <td>19910.0</td>\n",
              "    </tr>\n",
              "    <tr>\n",
              "      <th>4906</th>\n",
              "      <td>2020-05-11</td>\n",
              "      <td>Germany</td>\n",
              "      <td>83752855</td>\n",
              "      <td>2755770.0</td>\n",
              "      <td>172576.0</td>\n",
              "      <td>7661.0</td>\n",
              "      <td>145617.0</td>\n",
              "      <td>1576.0</td>\n",
              "      <td>19298.0</td>\n",
              "    </tr>\n",
              "    <tr>\n",
              "      <th>5119</th>\n",
              "      <td>2020-05-12</td>\n",
              "      <td>Germany</td>\n",
              "      <td>83752855</td>\n",
              "      <td>2755770.0</td>\n",
              "      <td>173171.0</td>\n",
              "      <td>7738.0</td>\n",
              "      <td>147200.0</td>\n",
              "      <td>1539.0</td>\n",
              "      <td>18233.0</td>\n",
              "    </tr>\n",
              "    <tr>\n",
              "      <th>5332</th>\n",
              "      <td>2020-05-13</td>\n",
              "      <td>Germany</td>\n",
              "      <td>83752855</td>\n",
              "      <td>3147771.0</td>\n",
              "      <td>174098.0</td>\n",
              "      <td>7861.0</td>\n",
              "      <td>148700.0</td>\n",
              "      <td>1465.0</td>\n",
              "      <td>17537.0</td>\n",
              "    </tr>\n",
              "    <tr>\n",
              "      <th>5545</th>\n",
              "      <td>2020-05-14</td>\n",
              "      <td>Germany</td>\n",
              "      <td>83752855</td>\n",
              "      <td>3147771.0</td>\n",
              "      <td>174975.0</td>\n",
              "      <td>7928.0</td>\n",
              "      <td>150300.0</td>\n",
              "      <td>1329.0</td>\n",
              "      <td>16747.0</td>\n",
              "    </tr>\n",
              "    <tr>\n",
              "      <th>5758</th>\n",
              "      <td>2020-05-15</td>\n",
              "      <td>Germany</td>\n",
              "      <td>83752855</td>\n",
              "      <td>3147771.0</td>\n",
              "      <td>175699.0</td>\n",
              "      <td>8001.0</td>\n",
              "      <td>151700.0</td>\n",
              "      <td>1294.0</td>\n",
              "      <td>15998.0</td>\n",
              "    </tr>\n",
              "    <tr>\n",
              "      <th>5971</th>\n",
              "      <td>2020-05-16</td>\n",
              "      <td>Germany</td>\n",
              "      <td>83752855</td>\n",
              "      <td>3147771.0</td>\n",
              "      <td>176244.0</td>\n",
              "      <td>8027.0</td>\n",
              "      <td>152600.0</td>\n",
              "      <td>1203.0</td>\n",
              "      <td>15617.0</td>\n",
              "    </tr>\n",
              "    <tr>\n",
              "      <th>6184</th>\n",
              "      <td>2020-05-17</td>\n",
              "      <td>Germany</td>\n",
              "      <td>83752855</td>\n",
              "      <td>3147771.0</td>\n",
              "      <td>176651.0</td>\n",
              "      <td>8049.0</td>\n",
              "      <td>153400.0</td>\n",
              "      <td>1166.0</td>\n",
              "      <td>15202.0</td>\n",
              "    </tr>\n",
              "    <tr>\n",
              "      <th>6397</th>\n",
              "      <td>2020-05-18</td>\n",
              "      <td>Germany</td>\n",
              "      <td>83752855</td>\n",
              "      <td>3147771.0</td>\n",
              "      <td>177289.0</td>\n",
              "      <td>8123.0</td>\n",
              "      <td>154600.0</td>\n",
              "      <td>1133.0</td>\n",
              "      <td>14566.0</td>\n",
              "    </tr>\n",
              "  </tbody>\n",
              "</table>\n",
              "</div>"
            ],
            "text/plain": [
              "           Date  Country  Population  ...  Total Recovered  Serious  Active Cases\n",
              "7    2020-04-18  Germany    83752855  ...          85400.0   2922.0       53786.0\n",
              "220  2020-04-19  Germany    83752855  ...          88000.0   2889.0       53100.0\n",
              "433  2020-04-20  Germany    83752855  ...          91500.0   2889.0       50703.0\n",
              "646  2020-04-21  Germany    83752855  ...          95200.0   2889.0       48167.0\n",
              "859  2020-04-22  Germany    83752855  ...          99400.0   2908.0       45933.0\n",
              "1072 2020-04-23  Germany    83752855  ...         103300.0   2908.0       44254.0\n",
              "1285 2020-04-24  Germany    83752855  ...         106800.0   2908.0       42439.0\n",
              "1498 2020-04-25  Germany    83752855  ...         109800.0   2908.0       40836.0\n",
              "1711 2020-04-26  Germany    83752855  ...         112000.0   2570.0       39794.0\n",
              "1924 2020-04-27  Germany    83752855  ...         114500.0   2409.0       38132.0\n",
              "2137 2020-04-28  Germany    83752855  ...         117400.0   2409.0       36198.0\n",
              "2350 2020-04-29  Germany    83752855  ...         120400.0   2415.0       34672.0\n",
              "2563 2020-04-30  Germany    83752855  ...         123500.0   2415.0       32886.0\n",
              "2776 2020-05-01  Germany    83752855  ...         126900.0   2189.0       30441.0\n",
              "2989 2020-05-02  Germany    83752855  ...         130600.0   1979.0       28198.0\n",
              "3202 2020-05-03  Germany    83752855  ...         130600.0   1979.0       28198.0\n",
              "3415 2020-05-04  Germany    83752855  ...         132700.0   1949.0       26459.0\n",
              "3628 2020-05-05  Germany    83752855  ...         135100.0   1937.0       24914.0\n",
              "3841 2020-05-06  Germany    83752855  ...         137696.0   1884.0       23191.0\n",
              "4054 2020-05-07  Germany    83752855  ...         139900.0   1823.0       22138.0\n",
              "4267 2020-05-08  Germany    83752855  ...         141700.0   1712.0       21378.0\n",
              "4480 2020-05-09  Germany    83752855  ...         143300.0   1650.0       20475.0\n",
              "4693 2020-05-10  Germany    83752855  ...         144400.0   1581.0       19910.0\n",
              "4906 2020-05-11  Germany    83752855  ...         145617.0   1576.0       19298.0\n",
              "5119 2020-05-12  Germany    83752855  ...         147200.0   1539.0       18233.0\n",
              "5332 2020-05-13  Germany    83752855  ...         148700.0   1465.0       17537.0\n",
              "5545 2020-05-14  Germany    83752855  ...         150300.0   1329.0       16747.0\n",
              "5758 2020-05-15  Germany    83752855  ...         151700.0   1294.0       15998.0\n",
              "5971 2020-05-16  Germany    83752855  ...         152600.0   1203.0       15617.0\n",
              "6184 2020-05-17  Germany    83752855  ...         153400.0   1166.0       15202.0\n",
              "6397 2020-05-18  Germany    83752855  ...         154600.0   1133.0       14566.0\n",
              "\n",
              "[31 rows x 9 columns]"
            ]
          },
          "metadata": {
            "tags": []
          },
          "execution_count": 99
        }
      ]
    },
    {
      "cell_type": "code",
      "metadata": {
        "id": "28ShQkW8oZ_3",
        "outputId": "d1ce4521-230b-4a3d-ba3c-a956d75fbaaf",
        "colab": {
          "base_uri": "https://localhost:8080/",
          "height": 611
        }
      },
      "source": [
        "# Visualize confirmed cases in US\n",
        "sns.set(rc={'figure.figsize':(15,10)})\n",
        "sns.lineplot(x='Date',y='Total Cases',data=germany,color = 'g')\n",
        "plt.show()"
      ],
      "execution_count": 100,
      "outputs": [
        {
          "output_type": "display_data",
          "data": {
            "image/png": "[encoded data removed]",
            "text/plain": [
              "<Figure size 1080x720 with 1 Axes>"
            ]
          },
          "metadata": {
            "tags": []
          }
        }
      ]
    },
    {
      "cell_type": "code",
      "metadata": {
        "id": "LNu5fkwZoaAk",
        "outputId": "a9774680-b857-4027-9c29-c7b30757b451",
        "colab": {
          "base_uri": "https://localhost:8080/",
          "height": 611
        }
      },
      "source": [
        "# Visualizing the death cases\n",
        "sns.set(rc={'figure.figsize':(15,10)})\n",
        "sns.lineplot(x='Date',y='Total Deaths',data=germany,color='r')\n",
        "plt.show()"
      ],
      "execution_count": 101,
      "outputs": [
        {
          "output_type": "display_data",
          "data": {
            "image/png": "[encoded data removed]",
            "text/plain": [
              "<Figure size 1080x720 with 1 Axes>"
            ]
          },
          "metadata": {
            "tags": []
          }
        }
      ]
    },
    {
      "cell_type": "code",
      "metadata": {
        "id": "jJgAgwFtoaAw",
        "outputId": "5f47db02-d9e5-4a82-d9a6-b214e6b23e59",
        "colab": {
          "base_uri": "https://localhost:8080/",
          "height": 611
        }
      },
      "source": [
        "# Visualizing the Active cases\n",
        "sns.set(rc={'figure.figsize':(15,10)})\n",
        "sns.lineplot(x='Date',y='Active Cases',data=germany,color='r')\n",
        "plt.show()"
      ],
      "execution_count": 102,
      "outputs": [
        {
          "output_type": "display_data",
          "data": {
            "image/png": "[encoded data removed]",
            "text/plain": [
              "<Figure size 1080x720 with 1 Axes>"
            ]
          },
          "metadata": {
            "tags": []
          }
        }
      ]
    },
    {
      "cell_type": "code",
      "metadata": {
        "id": "l1jfMms5oaA3",
        "outputId": "3a592a21-004e-4656-d21e-2ff10cbfe2ee",
        "colab": {
          "base_uri": "https://localhost:8080/",
          "height": 1000
        }
      },
      "source": [
        "# Spain\n",
        "spain = df[df.Country == 'Spain']\n",
        "spain"
      ],
      "execution_count": 103,
      "outputs": [
        {
          "output_type": "execute_result",
          "data": {
            "text/html": [
              "<div>\n",
              "<style scoped>\n",
              "    .dataframe tbody tr th:only-of-type {\n",
              "        vertical-align: middle;\n",
              "    }\n",
              "\n",
              "    .dataframe tbody tr th {\n",
              "        vertical-align: top;\n",
              "    }\n",
              "\n",
              "    .dataframe thead th {\n",
              "        text-align: right;\n",
              "    }\n",
              "</style>\n",
              "<table border=\"1\" class=\"dataframe\">\n",
              "  <thead>\n",
              "    <tr style=\"text-align: right;\">\n",
              "      <th></th>\n",
              "      <th>Date</th>\n",
              "      <th>Country</th>\n",
              "      <th>Population</th>\n",
              "      <th>Total Tests</th>\n",
              "      <th>Total Cases</th>\n",
              "      <th>Total Deaths</th>\n",
              "      <th>Total Recovered</th>\n",
              "      <th>Serious</th>\n",
              "      <th>Active Cases</th>\n",
              "    </tr>\n",
              "  </thead>\n",
              "  <tbody>\n",
              "    <tr>\n",
              "      <th>2</th>\n",
              "      <td>2020-04-18</td>\n",
              "      <td>Spain</td>\n",
              "      <td>46752703</td>\n",
              "      <td>930230.0</td>\n",
              "      <td>194416.0</td>\n",
              "      <td>20043.0</td>\n",
              "      <td>74797.0</td>\n",
              "      <td>7371.0</td>\n",
              "      <td>99576.0</td>\n",
              "    </tr>\n",
              "    <tr>\n",
              "      <th>215</th>\n",
              "      <td>2020-04-19</td>\n",
              "      <td>Spain</td>\n",
              "      <td>46752703</td>\n",
              "      <td>930230.0</td>\n",
              "      <td>198674.0</td>\n",
              "      <td>20453.0</td>\n",
              "      <td>77357.0</td>\n",
              "      <td>7371.0</td>\n",
              "      <td>100864.0</td>\n",
              "    </tr>\n",
              "    <tr>\n",
              "      <th>428</th>\n",
              "      <td>2020-04-20</td>\n",
              "      <td>Spain</td>\n",
              "      <td>46752703</td>\n",
              "      <td>930230.0</td>\n",
              "      <td>200210.0</td>\n",
              "      <td>20852.0</td>\n",
              "      <td>80587.0</td>\n",
              "      <td>7371.0</td>\n",
              "      <td>98771.0</td>\n",
              "    </tr>\n",
              "    <tr>\n",
              "      <th>641</th>\n",
              "      <td>2020-04-21</td>\n",
              "      <td>Spain</td>\n",
              "      <td>46752703</td>\n",
              "      <td>930230.0</td>\n",
              "      <td>204178.0</td>\n",
              "      <td>21282.0</td>\n",
              "      <td>82514.0</td>\n",
              "      <td>7705.0</td>\n",
              "      <td>100382.0</td>\n",
              "    </tr>\n",
              "    <tr>\n",
              "      <th>854</th>\n",
              "      <td>2020-04-22</td>\n",
              "      <td>Spain</td>\n",
              "      <td>46752703</td>\n",
              "      <td>930230.0</td>\n",
              "      <td>208389.0</td>\n",
              "      <td>21717.0</td>\n",
              "      <td>85915.0</td>\n",
              "      <td>7705.0</td>\n",
              "      <td>100757.0</td>\n",
              "    </tr>\n",
              "    <tr>\n",
              "      <th>1067</th>\n",
              "      <td>2020-04-23</td>\n",
              "      <td>Spain</td>\n",
              "      <td>46752703</td>\n",
              "      <td>930230.0</td>\n",
              "      <td>213024.0</td>\n",
              "      <td>22157.0</td>\n",
              "      <td>89250.0</td>\n",
              "      <td>7705.0</td>\n",
              "      <td>101617.0</td>\n",
              "    </tr>\n",
              "    <tr>\n",
              "      <th>1280</th>\n",
              "      <td>2020-04-24</td>\n",
              "      <td>Spain</td>\n",
              "      <td>46752703</td>\n",
              "      <td>930230.0</td>\n",
              "      <td>219764.0</td>\n",
              "      <td>22524.0</td>\n",
              "      <td>92355.0</td>\n",
              "      <td>7705.0</td>\n",
              "      <td>104885.0</td>\n",
              "    </tr>\n",
              "    <tr>\n",
              "      <th>1493</th>\n",
              "      <td>2020-04-25</td>\n",
              "      <td>Spain</td>\n",
              "      <td>46752703</td>\n",
              "      <td>930230.0</td>\n",
              "      <td>223759.0</td>\n",
              "      <td>22902.0</td>\n",
              "      <td>95708.0</td>\n",
              "      <td>7705.0</td>\n",
              "      <td>105149.0</td>\n",
              "    </tr>\n",
              "    <tr>\n",
              "      <th>1706</th>\n",
              "      <td>2020-04-26</td>\n",
              "      <td>Spain</td>\n",
              "      <td>46752703</td>\n",
              "      <td>1199548.0</td>\n",
              "      <td>226629.0</td>\n",
              "      <td>23190.0</td>\n",
              "      <td>117727.0</td>\n",
              "      <td>7764.0</td>\n",
              "      <td>85712.0</td>\n",
              "    </tr>\n",
              "    <tr>\n",
              "      <th>1919</th>\n",
              "      <td>2020-04-27</td>\n",
              "      <td>Spain</td>\n",
              "      <td>46752703</td>\n",
              "      <td>1345560.0</td>\n",
              "      <td>229422.0</td>\n",
              "      <td>23521.0</td>\n",
              "      <td>120832.0</td>\n",
              "      <td>7764.0</td>\n",
              "      <td>85069.0</td>\n",
              "    </tr>\n",
              "    <tr>\n",
              "      <th>2132</th>\n",
              "      <td>2020-04-28</td>\n",
              "      <td>Spain</td>\n",
              "      <td>46752703</td>\n",
              "      <td>1345560.0</td>\n",
              "      <td>232128.0</td>\n",
              "      <td>23822.0</td>\n",
              "      <td>123903.0</td>\n",
              "      <td>7764.0</td>\n",
              "      <td>84403.0</td>\n",
              "    </tr>\n",
              "    <tr>\n",
              "      <th>2345</th>\n",
              "      <td>2020-04-29</td>\n",
              "      <td>Spain</td>\n",
              "      <td>46752703</td>\n",
              "      <td>1414477.0</td>\n",
              "      <td>236899.0</td>\n",
              "      <td>24275.0</td>\n",
              "      <td>132929.0</td>\n",
              "      <td>7764.0</td>\n",
              "      <td>79695.0</td>\n",
              "    </tr>\n",
              "    <tr>\n",
              "      <th>2558</th>\n",
              "      <td>2020-04-30</td>\n",
              "      <td>Spain</td>\n",
              "      <td>46752703</td>\n",
              "      <td>1455306.0</td>\n",
              "      <td>239639.0</td>\n",
              "      <td>24543.0</td>\n",
              "      <td>137984.0</td>\n",
              "      <td>2676.0</td>\n",
              "      <td>77112.0</td>\n",
              "    </tr>\n",
              "    <tr>\n",
              "      <th>2771</th>\n",
              "      <td>2020-05-01</td>\n",
              "      <td>Spain</td>\n",
              "      <td>46752703</td>\n",
              "      <td>1528833.0</td>\n",
              "      <td>242988.0</td>\n",
              "      <td>24824.0</td>\n",
              "      <td>142450.0</td>\n",
              "      <td>2500.0</td>\n",
              "      <td>75714.0</td>\n",
              "    </tr>\n",
              "    <tr>\n",
              "      <th>2984</th>\n",
              "      <td>2020-05-02</td>\n",
              "      <td>Spain</td>\n",
              "      <td>46752703</td>\n",
              "      <td>1932455.0</td>\n",
              "      <td>245589.0</td>\n",
              "      <td>25100.0</td>\n",
              "      <td>148558.0</td>\n",
              "      <td>2386.0</td>\n",
              "      <td>73300.0</td>\n",
              "    </tr>\n",
              "    <tr>\n",
              "      <th>3197</th>\n",
              "      <td>2020-05-03</td>\n",
              "      <td>Spain</td>\n",
              "      <td>46752703</td>\n",
              "      <td>1932455.0</td>\n",
              "      <td>247122.0</td>\n",
              "      <td>25264.0</td>\n",
              "      <td>148558.0</td>\n",
              "      <td>2386.0</td>\n",
              "      <td>73300.0</td>\n",
              "    </tr>\n",
              "    <tr>\n",
              "      <th>3410</th>\n",
              "      <td>2020-05-04</td>\n",
              "      <td>Spain</td>\n",
              "      <td>46752703</td>\n",
              "      <td>1932455.0</td>\n",
              "      <td>248301.0</td>\n",
              "      <td>25428.0</td>\n",
              "      <td>151633.0</td>\n",
              "      <td>2254.0</td>\n",
              "      <td>71240.0</td>\n",
              "    </tr>\n",
              "    <tr>\n",
              "      <th>3623</th>\n",
              "      <td>2020-05-05</td>\n",
              "      <td>Spain</td>\n",
              "      <td>46752703</td>\n",
              "      <td>1932455.0</td>\n",
              "      <td>250561.0</td>\n",
              "      <td>25613.0</td>\n",
              "      <td>154718.0</td>\n",
              "      <td>2254.0</td>\n",
              "      <td>70230.0</td>\n",
              "    </tr>\n",
              "    <tr>\n",
              "      <th>3836</th>\n",
              "      <td>2020-05-06</td>\n",
              "      <td>Spain</td>\n",
              "      <td>46752703</td>\n",
              "      <td>1932455.0</td>\n",
              "      <td>253682.0</td>\n",
              "      <td>25857.0</td>\n",
              "      <td>159359.0</td>\n",
              "      <td>2075.0</td>\n",
              "      <td>68466.0</td>\n",
              "    </tr>\n",
              "    <tr>\n",
              "      <th>4049</th>\n",
              "      <td>2020-05-07</td>\n",
              "      <td>Spain</td>\n",
              "      <td>46752703</td>\n",
              "      <td>1932455.0</td>\n",
              "      <td>256855.0</td>\n",
              "      <td>26070.0</td>\n",
              "      <td>163919.0</td>\n",
              "      <td>2075.0</td>\n",
              "      <td>66866.0</td>\n",
              "    </tr>\n",
              "    <tr>\n",
              "      <th>4262</th>\n",
              "      <td>2020-05-08</td>\n",
              "      <td>Spain</td>\n",
              "      <td>46752703</td>\n",
              "      <td>1932455.0</td>\n",
              "      <td>260117.0</td>\n",
              "      <td>26299.0</td>\n",
              "      <td>168408.0</td>\n",
              "      <td>2075.0</td>\n",
              "      <td>65410.0</td>\n",
              "    </tr>\n",
              "    <tr>\n",
              "      <th>4475</th>\n",
              "      <td>2020-05-09</td>\n",
              "      <td>Spain</td>\n",
              "      <td>46752703</td>\n",
              "      <td>2467761.0</td>\n",
              "      <td>262783.0</td>\n",
              "      <td>26478.0</td>\n",
              "      <td>173157.0</td>\n",
              "      <td>1741.0</td>\n",
              "      <td>63148.0</td>\n",
              "    </tr>\n",
              "    <tr>\n",
              "      <th>4688</th>\n",
              "      <td>2020-05-10</td>\n",
              "      <td>Spain</td>\n",
              "      <td>46752703</td>\n",
              "      <td>2467761.0</td>\n",
              "      <td>264663.0</td>\n",
              "      <td>26621.0</td>\n",
              "      <td>176439.0</td>\n",
              "      <td>1650.0</td>\n",
              "      <td>61603.0</td>\n",
              "    </tr>\n",
              "    <tr>\n",
              "      <th>4901</th>\n",
              "      <td>2020-05-11</td>\n",
              "      <td>Spain</td>\n",
              "      <td>46752703</td>\n",
              "      <td>2467761.0</td>\n",
              "      <td>268143.0</td>\n",
              "      <td>26744.0</td>\n",
              "      <td>177846.0</td>\n",
              "      <td>1650.0</td>\n",
              "      <td>63553.0</td>\n",
              "    </tr>\n",
              "    <tr>\n",
              "      <th>5114</th>\n",
              "      <td>2020-05-12</td>\n",
              "      <td>Spain</td>\n",
              "      <td>46752703</td>\n",
              "      <td>2467761.0</td>\n",
              "      <td>269520.0</td>\n",
              "      <td>26920.0</td>\n",
              "      <td>180470.0</td>\n",
              "      <td>1534.0</td>\n",
              "      <td>62130.0</td>\n",
              "    </tr>\n",
              "    <tr>\n",
              "      <th>5327</th>\n",
              "      <td>2020-05-13</td>\n",
              "      <td>Spain</td>\n",
              "      <td>46752703</td>\n",
              "      <td>2467761.0</td>\n",
              "      <td>271095.0</td>\n",
              "      <td>27104.0</td>\n",
              "      <td>183227.0</td>\n",
              "      <td>1534.0</td>\n",
              "      <td>60764.0</td>\n",
              "    </tr>\n",
              "    <tr>\n",
              "      <th>5540</th>\n",
              "      <td>2020-05-14</td>\n",
              "      <td>Spain</td>\n",
              "      <td>46752703</td>\n",
              "      <td>2467761.0</td>\n",
              "      <td>272646.0</td>\n",
              "      <td>27321.0</td>\n",
              "      <td>186480.0</td>\n",
              "      <td>1376.0</td>\n",
              "      <td>58845.0</td>\n",
              "    </tr>\n",
              "    <tr>\n",
              "      <th>5753</th>\n",
              "      <td>2020-05-15</td>\n",
              "      <td>Spain</td>\n",
              "      <td>46752703</td>\n",
              "      <td>2467761.0</td>\n",
              "      <td>274367.0</td>\n",
              "      <td>27459.0</td>\n",
              "      <td>188967.0</td>\n",
              "      <td>1320.0</td>\n",
              "      <td>57941.0</td>\n",
              "    </tr>\n",
              "    <tr>\n",
              "      <th>5966</th>\n",
              "      <td>2020-05-16</td>\n",
              "      <td>Spain</td>\n",
              "      <td>46752703</td>\n",
              "      <td>3037840.0</td>\n",
              "      <td>276505.0</td>\n",
              "      <td>27563.0</td>\n",
              "      <td>192253.0</td>\n",
              "      <td>1208.0</td>\n",
              "      <td>56689.0</td>\n",
              "    </tr>\n",
              "    <tr>\n",
              "      <th>6179</th>\n",
              "      <td>2020-05-17</td>\n",
              "      <td>Spain</td>\n",
              "      <td>46752703</td>\n",
              "      <td>3037840.0</td>\n",
              "      <td>277719.0</td>\n",
              "      <td>27650.0</td>\n",
              "      <td>195945.0</td>\n",
              "      <td>1152.0</td>\n",
              "      <td>54124.0</td>\n",
              "    </tr>\n",
              "    <tr>\n",
              "      <th>6392</th>\n",
              "      <td>2020-05-18</td>\n",
              "      <td>Spain</td>\n",
              "      <td>46752703</td>\n",
              "      <td>3037840.0</td>\n",
              "      <td>278188.0</td>\n",
              "      <td>27709.0</td>\n",
              "      <td>196958.0</td>\n",
              "      <td>1152.0</td>\n",
              "      <td>53521.0</td>\n",
              "    </tr>\n",
              "  </tbody>\n",
              "</table>\n",
              "</div>"
            ],
            "text/plain": [
              "           Date Country  Population  ...  Total Recovered  Serious  Active Cases\n",
              "2    2020-04-18   Spain    46752703  ...          74797.0   7371.0       99576.0\n",
              "215  2020-04-19   Spain    46752703  ...          77357.0   7371.0      100864.0\n",
              "428  2020-04-20   Spain    46752703  ...          80587.0   7371.0       98771.0\n",
              "641  2020-04-21   Spain    46752703  ...          82514.0   7705.0      100382.0\n",
              "854  2020-04-22   Spain    46752703  ...          85915.0   7705.0      100757.0\n",
              "1067 2020-04-23   Spain    46752703  ...          89250.0   7705.0      101617.0\n",
              "1280 2020-04-24   Spain    46752703  ...          92355.0   7705.0      104885.0\n",
              "1493 2020-04-25   Spain    46752703  ...          95708.0   7705.0      105149.0\n",
              "1706 2020-04-26   Spain    46752703  ...         117727.0   7764.0       85712.0\n",
              "1919 2020-04-27   Spain    46752703  ...         120832.0   7764.0       85069.0\n",
              "2132 2020-04-28   Spain    46752703  ...         123903.0   7764.0       84403.0\n",
              "2345 2020-04-29   Spain    46752703  ...         132929.0   7764.0       79695.0\n",
              "2558 2020-04-30   Spain    46752703  ...         137984.0   2676.0       77112.0\n",
              "2771 2020-05-01   Spain    46752703  ...         142450.0   2500.0       75714.0\n",
              "2984 2020-05-02   Spain    46752703  ...         148558.0   2386.0       73300.0\n",
              "3197 2020-05-03   Spain    46752703  ...         148558.0   2386.0       73300.0\n",
              "3410 2020-05-04   Spain    46752703  ...         151633.0   2254.0       71240.0\n",
              "3623 2020-05-05   Spain    46752703  ...         154718.0   2254.0       70230.0\n",
              "3836 2020-05-06   Spain    46752703  ...         159359.0   2075.0       68466.0\n",
              "4049 2020-05-07   Spain    46752703  ...         163919.0   2075.0       66866.0\n",
              "4262 2020-05-08   Spain    46752703  ...         168408.0   2075.0       65410.0\n",
              "4475 2020-05-09   Spain    46752703  ...         173157.0   1741.0       63148.0\n",
              "4688 2020-05-10   Spain    46752703  ...         176439.0   1650.0       61603.0\n",
              "4901 2020-05-11   Spain    46752703  ...         177846.0   1650.0       63553.0\n",
              "5114 2020-05-12   Spain    46752703  ...         180470.0   1534.0       62130.0\n",
              "5327 2020-05-13   Spain    46752703  ...         183227.0   1534.0       60764.0\n",
              "5540 2020-05-14   Spain    46752703  ...         186480.0   1376.0       58845.0\n",
              "5753 2020-05-15   Spain    46752703  ...         188967.0   1320.0       57941.0\n",
              "5966 2020-05-16   Spain    46752703  ...         192253.0   1208.0       56689.0\n",
              "6179 2020-05-17   Spain    46752703  ...         195945.0   1152.0       54124.0\n",
              "6392 2020-05-18   Spain    46752703  ...         196958.0   1152.0       53521.0\n",
              "\n",
              "[31 rows x 9 columns]"
            ]
          },
          "metadata": {
            "tags": []
          },
          "execution_count": 103
        }
      ]
    },
    {
      "cell_type": "code",
      "metadata": {
        "id": "6cj5_FQGoaA9",
        "outputId": "0af4d0fd-fb1b-4fee-c4a1-ae20abd10dad",
        "colab": {
          "base_uri": "https://localhost:8080/",
          "height": 611
        }
      },
      "source": [
        "# Visualizing the confirmed cases in spain\n",
        "sns.set(rc={'figure.figsize':(15,10)})\n",
        "sns.lineplot(x='Date',y='Total Cases',data=spain,color='g')\n",
        "plt.show()"
      ],
      "execution_count": 104,
      "outputs": [
        {
          "output_type": "display_data",
          "data": {
            "image/png": "[encoded data removed]",
            "text/plain": [
              "<Figure size 1080x720 with 1 Axes>"
            ]
          },
          "metadata": {
            "tags": []
          }
        }
      ]
    },
    {
      "cell_type": "code",
      "metadata": {
        "id": "MyW7YIBWoaBE",
        "outputId": "d18af470-6622-49de-a2bd-9db77e5e1c61",
        "colab": {
          "base_uri": "https://localhost:8080/",
          "height": 611
        }
      },
      "source": [
        "# Visuliazing the death cases in spain\n",
        "sns.set(rc={'figure.figsize':(15,10)})\n",
        "sns.lineplot(x='Date',y='Total Deaths',data=spain,color ='r')\n",
        "plt.show()"
      ],
      "execution_count": 105,
      "outputs": [
        {
          "output_type": "display_data",
          "data": {
            "image/png": "[encoded data removed]",
            "text/plain": [
              "<Figure size 1080x720 with 1 Axes>"
            ]
          },
          "metadata": {
            "tags": []
          }
        }
      ]
    },
    {
      "cell_type": "code",
      "metadata": {
        "id": "CmG-ffaioaBe",
        "outputId": "591b4a2a-9346-487f-be6f-eaf580d2f141",
        "colab": {
          "base_uri": "https://localhost:8080/",
          "height": 1000
        }
      },
      "source": [
        "# Check the pairplot\n",
        "sns.pairplot(df)\n",
        "plt.show()"
      ],
      "execution_count": 106,
      "outputs": [
        {
          "output_type": "display_data",
          "data": {
            "image/png": "[encoded data removed]",
            "text/plain": [
              "<Figure size 1260x1260 with 56 Axes>"
            ]
          },
          "metadata": {
            "tags": []
          }
        }
      ]
    },
    {
      "cell_type": "code",
      "metadata": {
        "id": "P5DDPjYRoaBm",
        "outputId": "6c1e934e-d002-4cd7-f0e3-57328ec253fd",
        "colab": {
          "base_uri": "https://localhost:8080/",
          "height": 1000
        }
      },
      "source": [
        "# Germany\n",
        "germany"
      ],
      "execution_count": 107,
      "outputs": [
        {
          "output_type": "execute_result",
          "data": {
            "text/html": [
              "<div>\n",
              "<style scoped>\n",
              "    .dataframe tbody tr th:only-of-type {\n",
              "        vertical-align: middle;\n",
              "    }\n",
              "\n",
              "    .dataframe tbody tr th {\n",
              "        vertical-align: top;\n",
              "    }\n",
              "\n",
              "    .dataframe thead th {\n",
              "        text-align: right;\n",
              "    }\n",
              "</style>\n",
              "<table border=\"1\" class=\"dataframe\">\n",
              "  <thead>\n",
              "    <tr style=\"text-align: right;\">\n",
              "      <th></th>\n",
              "      <th>Date</th>\n",
              "      <th>Country</th>\n",
              "      <th>Population</th>\n",
              "      <th>Total Tests</th>\n",
              "      <th>Total Cases</th>\n",
              "      <th>Total Deaths</th>\n",
              "      <th>Total Recovered</th>\n",
              "      <th>Serious</th>\n",
              "      <th>Active Cases</th>\n",
              "    </tr>\n",
              "  </thead>\n",
              "  <tbody>\n",
              "    <tr>\n",
              "      <th>7</th>\n",
              "      <td>2020-04-18</td>\n",
              "      <td>Germany</td>\n",
              "      <td>83752855</td>\n",
              "      <td>1728357.0</td>\n",
              "      <td>143724.0</td>\n",
              "      <td>4538.0</td>\n",
              "      <td>85400.0</td>\n",
              "      <td>2922.0</td>\n",
              "      <td>53786.0</td>\n",
              "    </tr>\n",
              "    <tr>\n",
              "      <th>220</th>\n",
              "      <td>2020-04-19</td>\n",
              "      <td>Germany</td>\n",
              "      <td>83752855</td>\n",
              "      <td>1728357.0</td>\n",
              "      <td>145742.0</td>\n",
              "      <td>4642.0</td>\n",
              "      <td>88000.0</td>\n",
              "      <td>2889.0</td>\n",
              "      <td>53100.0</td>\n",
              "    </tr>\n",
              "    <tr>\n",
              "      <th>433</th>\n",
              "      <td>2020-04-20</td>\n",
              "      <td>Germany</td>\n",
              "      <td>83752855</td>\n",
              "      <td>1728357.0</td>\n",
              "      <td>147065.0</td>\n",
              "      <td>4862.0</td>\n",
              "      <td>91500.0</td>\n",
              "      <td>2889.0</td>\n",
              "      <td>50703.0</td>\n",
              "    </tr>\n",
              "    <tr>\n",
              "      <th>646</th>\n",
              "      <td>2020-04-21</td>\n",
              "      <td>Germany</td>\n",
              "      <td>83752855</td>\n",
              "      <td>1728357.0</td>\n",
              "      <td>148453.0</td>\n",
              "      <td>5086.0</td>\n",
              "      <td>95200.0</td>\n",
              "      <td>2889.0</td>\n",
              "      <td>48167.0</td>\n",
              "    </tr>\n",
              "    <tr>\n",
              "      <th>859</th>\n",
              "      <td>2020-04-22</td>\n",
              "      <td>Germany</td>\n",
              "      <td>83752855</td>\n",
              "      <td>2072669.0</td>\n",
              "      <td>150648.0</td>\n",
              "      <td>5315.0</td>\n",
              "      <td>99400.0</td>\n",
              "      <td>2908.0</td>\n",
              "      <td>45933.0</td>\n",
              "    </tr>\n",
              "    <tr>\n",
              "      <th>1072</th>\n",
              "      <td>2020-04-23</td>\n",
              "      <td>Germany</td>\n",
              "      <td>83752855</td>\n",
              "      <td>2072669.0</td>\n",
              "      <td>153129.0</td>\n",
              "      <td>5575.0</td>\n",
              "      <td>103300.0</td>\n",
              "      <td>2908.0</td>\n",
              "      <td>44254.0</td>\n",
              "    </tr>\n",
              "    <tr>\n",
              "      <th>1285</th>\n",
              "      <td>2020-04-24</td>\n",
              "      <td>Germany</td>\n",
              "      <td>83752855</td>\n",
              "      <td>2072669.0</td>\n",
              "      <td>154999.0</td>\n",
              "      <td>5760.0</td>\n",
              "      <td>106800.0</td>\n",
              "      <td>2908.0</td>\n",
              "      <td>42439.0</td>\n",
              "    </tr>\n",
              "    <tr>\n",
              "      <th>1498</th>\n",
              "      <td>2020-04-25</td>\n",
              "      <td>Germany</td>\n",
              "      <td>83752855</td>\n",
              "      <td>2072669.0</td>\n",
              "      <td>156513.0</td>\n",
              "      <td>5877.0</td>\n",
              "      <td>109800.0</td>\n",
              "      <td>2908.0</td>\n",
              "      <td>40836.0</td>\n",
              "    </tr>\n",
              "    <tr>\n",
              "      <th>1711</th>\n",
              "      <td>2020-04-26</td>\n",
              "      <td>Germany</td>\n",
              "      <td>83752855</td>\n",
              "      <td>2072669.0</td>\n",
              "      <td>157770.0</td>\n",
              "      <td>5976.0</td>\n",
              "      <td>112000.0</td>\n",
              "      <td>2570.0</td>\n",
              "      <td>39794.0</td>\n",
              "    </tr>\n",
              "    <tr>\n",
              "      <th>1924</th>\n",
              "      <td>2020-04-27</td>\n",
              "      <td>Germany</td>\n",
              "      <td>83752855</td>\n",
              "      <td>2072669.0</td>\n",
              "      <td>158758.0</td>\n",
              "      <td>6126.0</td>\n",
              "      <td>114500.0</td>\n",
              "      <td>2409.0</td>\n",
              "      <td>38132.0</td>\n",
              "    </tr>\n",
              "    <tr>\n",
              "      <th>2137</th>\n",
              "      <td>2020-04-28</td>\n",
              "      <td>Germany</td>\n",
              "      <td>83752855</td>\n",
              "      <td>2072669.0</td>\n",
              "      <td>159912.0</td>\n",
              "      <td>6314.0</td>\n",
              "      <td>117400.0</td>\n",
              "      <td>2409.0</td>\n",
              "      <td>36198.0</td>\n",
              "    </tr>\n",
              "    <tr>\n",
              "      <th>2350</th>\n",
              "      <td>2020-04-29</td>\n",
              "      <td>Germany</td>\n",
              "      <td>83752855</td>\n",
              "      <td>2547052.0</td>\n",
              "      <td>161539.0</td>\n",
              "      <td>6467.0</td>\n",
              "      <td>120400.0</td>\n",
              "      <td>2415.0</td>\n",
              "      <td>34672.0</td>\n",
              "    </tr>\n",
              "    <tr>\n",
              "      <th>2563</th>\n",
              "      <td>2020-04-30</td>\n",
              "      <td>Germany</td>\n",
              "      <td>83752855</td>\n",
              "      <td>2547052.0</td>\n",
              "      <td>163009.0</td>\n",
              "      <td>6623.0</td>\n",
              "      <td>123500.0</td>\n",
              "      <td>2415.0</td>\n",
              "      <td>32886.0</td>\n",
              "    </tr>\n",
              "    <tr>\n",
              "      <th>2776</th>\n",
              "      <td>2020-05-01</td>\n",
              "      <td>Germany</td>\n",
              "      <td>83752855</td>\n",
              "      <td>2547052.0</td>\n",
              "      <td>164077.0</td>\n",
              "      <td>6736.0</td>\n",
              "      <td>126900.0</td>\n",
              "      <td>2189.0</td>\n",
              "      <td>30441.0</td>\n",
              "    </tr>\n",
              "    <tr>\n",
              "      <th>2989</th>\n",
              "      <td>2020-05-02</td>\n",
              "      <td>Germany</td>\n",
              "      <td>83752855</td>\n",
              "      <td>2547052.0</td>\n",
              "      <td>164967.0</td>\n",
              "      <td>6812.0</td>\n",
              "      <td>130600.0</td>\n",
              "      <td>1979.0</td>\n",
              "      <td>28198.0</td>\n",
              "    </tr>\n",
              "    <tr>\n",
              "      <th>3202</th>\n",
              "      <td>2020-05-03</td>\n",
              "      <td>Germany</td>\n",
              "      <td>83752855</td>\n",
              "      <td>2547052.0</td>\n",
              "      <td>165664.0</td>\n",
              "      <td>6866.0</td>\n",
              "      <td>130600.0</td>\n",
              "      <td>1979.0</td>\n",
              "      <td>28198.0</td>\n",
              "    </tr>\n",
              "    <tr>\n",
              "      <th>3415</th>\n",
              "      <td>2020-05-04</td>\n",
              "      <td>Germany</td>\n",
              "      <td>83752855</td>\n",
              "      <td>2547052.0</td>\n",
              "      <td>166152.0</td>\n",
              "      <td>6993.0</td>\n",
              "      <td>132700.0</td>\n",
              "      <td>1949.0</td>\n",
              "      <td>26459.0</td>\n",
              "    </tr>\n",
              "    <tr>\n",
              "      <th>3628</th>\n",
              "      <td>2020-05-05</td>\n",
              "      <td>Germany</td>\n",
              "      <td>83752855</td>\n",
              "      <td>2547052.0</td>\n",
              "      <td>167007.0</td>\n",
              "      <td>6993.0</td>\n",
              "      <td>135100.0</td>\n",
              "      <td>1937.0</td>\n",
              "      <td>24914.0</td>\n",
              "    </tr>\n",
              "    <tr>\n",
              "      <th>3841</th>\n",
              "      <td>2020-05-06</td>\n",
              "      <td>Germany</td>\n",
              "      <td>83752855</td>\n",
              "      <td>2755770.0</td>\n",
              "      <td>168162.0</td>\n",
              "      <td>7275.0</td>\n",
              "      <td>137696.0</td>\n",
              "      <td>1884.0</td>\n",
              "      <td>23191.0</td>\n",
              "    </tr>\n",
              "    <tr>\n",
              "      <th>4054</th>\n",
              "      <td>2020-05-07</td>\n",
              "      <td>Germany</td>\n",
              "      <td>83752855</td>\n",
              "      <td>2755770.0</td>\n",
              "      <td>169430.0</td>\n",
              "      <td>7392.0</td>\n",
              "      <td>139900.0</td>\n",
              "      <td>1823.0</td>\n",
              "      <td>22138.0</td>\n",
              "    </tr>\n",
              "    <tr>\n",
              "      <th>4267</th>\n",
              "      <td>2020-05-08</td>\n",
              "      <td>Germany</td>\n",
              "      <td>83752855</td>\n",
              "      <td>2755770.0</td>\n",
              "      <td>170588.0</td>\n",
              "      <td>7510.0</td>\n",
              "      <td>141700.0</td>\n",
              "      <td>1712.0</td>\n",
              "      <td>21378.0</td>\n",
              "    </tr>\n",
              "    <tr>\n",
              "      <th>4480</th>\n",
              "      <td>2020-05-09</td>\n",
              "      <td>Germany</td>\n",
              "      <td>83752855</td>\n",
              "      <td>2755770.0</td>\n",
              "      <td>171324.0</td>\n",
              "      <td>7549.0</td>\n",
              "      <td>143300.0</td>\n",
              "      <td>1650.0</td>\n",
              "      <td>20475.0</td>\n",
              "    </tr>\n",
              "    <tr>\n",
              "      <th>4693</th>\n",
              "      <td>2020-05-10</td>\n",
              "      <td>Germany</td>\n",
              "      <td>83752855</td>\n",
              "      <td>2755770.0</td>\n",
              "      <td>171879.0</td>\n",
              "      <td>7569.0</td>\n",
              "      <td>144400.0</td>\n",
              "      <td>1581.0</td>\n",
              "      <td>19910.0</td>\n",
              "    </tr>\n",
              "    <tr>\n",
              "      <th>4906</th>\n",
              "      <td>2020-05-11</td>\n",
              "      <td>Germany</td>\n",
              "      <td>83752855</td>\n",
              "      <td>2755770.0</td>\n",
              "      <td>172576.0</td>\n",
              "      <td>7661.0</td>\n",
              "      <td>145617.0</td>\n",
              "      <td>1576.0</td>\n",
              "      <td>19298.0</td>\n",
              "    </tr>\n",
              "    <tr>\n",
              "      <th>5119</th>\n",
              "      <td>2020-05-12</td>\n",
              "      <td>Germany</td>\n",
              "      <td>83752855</td>\n",
              "      <td>2755770.0</td>\n",
              "      <td>173171.0</td>\n",
              "      <td>7738.0</td>\n",
              "      <td>147200.0</td>\n",
              "      <td>1539.0</td>\n",
              "      <td>18233.0</td>\n",
              "    </tr>\n",
              "    <tr>\n",
              "      <th>5332</th>\n",
              "      <td>2020-05-13</td>\n",
              "      <td>Germany</td>\n",
              "      <td>83752855</td>\n",
              "      <td>3147771.0</td>\n",
              "      <td>174098.0</td>\n",
              "      <td>7861.0</td>\n",
              "      <td>148700.0</td>\n",
              "      <td>1465.0</td>\n",
              "      <td>17537.0</td>\n",
              "    </tr>\n",
              "    <tr>\n",
              "      <th>5545</th>\n",
              "      <td>2020-05-14</td>\n",
              "      <td>Germany</td>\n",
              "      <td>83752855</td>\n",
              "      <td>3147771.0</td>\n",
              "      <td>174975.0</td>\n",
              "      <td>7928.0</td>\n",
              "      <td>150300.0</td>\n",
              "      <td>1329.0</td>\n",
              "      <td>16747.0</td>\n",
              "    </tr>\n",
              "    <tr>\n",
              "      <th>5758</th>\n",
              "      <td>2020-05-15</td>\n",
              "      <td>Germany</td>\n",
              "      <td>83752855</td>\n",
              "      <td>3147771.0</td>\n",
              "      <td>175699.0</td>\n",
              "      <td>8001.0</td>\n",
              "      <td>151700.0</td>\n",
              "      <td>1294.0</td>\n",
              "      <td>15998.0</td>\n",
              "    </tr>\n",
              "    <tr>\n",
              "      <th>5971</th>\n",
              "      <td>2020-05-16</td>\n",
              "      <td>Germany</td>\n",
              "      <td>83752855</td>\n",
              "      <td>3147771.0</td>\n",
              "      <td>176244.0</td>\n",
              "      <td>8027.0</td>\n",
              "      <td>152600.0</td>\n",
              "      <td>1203.0</td>\n",
              "      <td>15617.0</td>\n",
              "    </tr>\n",
              "    <tr>\n",
              "      <th>6184</th>\n",
              "      <td>2020-05-17</td>\n",
              "      <td>Germany</td>\n",
              "      <td>83752855</td>\n",
              "      <td>3147771.0</td>\n",
              "      <td>176651.0</td>\n",
              "      <td>8049.0</td>\n",
              "      <td>153400.0</td>\n",
              "      <td>1166.0</td>\n",
              "      <td>15202.0</td>\n",
              "    </tr>\n",
              "    <tr>\n",
              "      <th>6397</th>\n",
              "      <td>2020-05-18</td>\n",
              "      <td>Germany</td>\n",
              "      <td>83752855</td>\n",
              "      <td>3147771.0</td>\n",
              "      <td>177289.0</td>\n",
              "      <td>8123.0</td>\n",
              "      <td>154600.0</td>\n",
              "      <td>1133.0</td>\n",
              "      <td>14566.0</td>\n",
              "    </tr>\n",
              "  </tbody>\n",
              "</table>\n",
              "</div>"
            ],
            "text/plain": [
              "           Date  Country  Population  ...  Total Recovered  Serious  Active Cases\n",
              "7    2020-04-18  Germany    83752855  ...          85400.0   2922.0       53786.0\n",
              "220  2020-04-19  Germany    83752855  ...          88000.0   2889.0       53100.0\n",
              "433  2020-04-20  Germany    83752855  ...          91500.0   2889.0       50703.0\n",
              "646  2020-04-21  Germany    83752855  ...          95200.0   2889.0       48167.0\n",
              "859  2020-04-22  Germany    83752855  ...          99400.0   2908.0       45933.0\n",
              "1072 2020-04-23  Germany    83752855  ...         103300.0   2908.0       44254.0\n",
              "1285 2020-04-24  Germany    83752855  ...         106800.0   2908.0       42439.0\n",
              "1498 2020-04-25  Germany    83752855  ...         109800.0   2908.0       40836.0\n",
              "1711 2020-04-26  Germany    83752855  ...         112000.0   2570.0       39794.0\n",
              "1924 2020-04-27  Germany    83752855  ...         114500.0   2409.0       38132.0\n",
              "2137 2020-04-28  Germany    83752855  ...         117400.0   2409.0       36198.0\n",
              "2350 2020-04-29  Germany    83752855  ...         120400.0   2415.0       34672.0\n",
              "2563 2020-04-30  Germany    83752855  ...         123500.0   2415.0       32886.0\n",
              "2776 2020-05-01  Germany    83752855  ...         126900.0   2189.0       30441.0\n",
              "2989 2020-05-02  Germany    83752855  ...         130600.0   1979.0       28198.0\n",
              "3202 2020-05-03  Germany    83752855  ...         130600.0   1979.0       28198.0\n",
              "3415 2020-05-04  Germany    83752855  ...         132700.0   1949.0       26459.0\n",
              "3628 2020-05-05  Germany    83752855  ...         135100.0   1937.0       24914.0\n",
              "3841 2020-05-06  Germany    83752855  ...         137696.0   1884.0       23191.0\n",
              "4054 2020-05-07  Germany    83752855  ...         139900.0   1823.0       22138.0\n",
              "4267 2020-05-08  Germany    83752855  ...         141700.0   1712.0       21378.0\n",
              "4480 2020-05-09  Germany    83752855  ...         143300.0   1650.0       20475.0\n",
              "4693 2020-05-10  Germany    83752855  ...         144400.0   1581.0       19910.0\n",
              "4906 2020-05-11  Germany    83752855  ...         145617.0   1576.0       19298.0\n",
              "5119 2020-05-12  Germany    83752855  ...         147200.0   1539.0       18233.0\n",
              "5332 2020-05-13  Germany    83752855  ...         148700.0   1465.0       17537.0\n",
              "5545 2020-05-14  Germany    83752855  ...         150300.0   1329.0       16747.0\n",
              "5758 2020-05-15  Germany    83752855  ...         151700.0   1294.0       15998.0\n",
              "5971 2020-05-16  Germany    83752855  ...         152600.0   1203.0       15617.0\n",
              "6184 2020-05-17  Germany    83752855  ...         153400.0   1166.0       15202.0\n",
              "6397 2020-05-18  Germany    83752855  ...         154600.0   1133.0       14566.0\n",
              "\n",
              "[31 rows x 9 columns]"
            ]
          },
          "metadata": {
            "tags": []
          },
          "execution_count": 107
        }
      ]
    },
    {
      "cell_type": "code",
      "metadata": {
        "id": "JEN4aGWaoaBw",
        "outputId": "61321308-d4ba-4686-baac-385bd48ad74a",
        "colab": {
          "base_uri": "https://localhost:8080/",
          "height": 204
        }
      },
      "source": [
        "# Drop the uncessary column \n",
        "df = df.drop(columns=['Country','Population','Serious'])\n",
        "df.head()"
      ],
      "execution_count": 108,
      "outputs": [
        {
          "output_type": "execute_result",
          "data": {
            "text/html": [
              "<div>\n",
              "<style scoped>\n",
              "    .dataframe tbody tr th:only-of-type {\n",
              "        vertical-align: middle;\n",
              "    }\n",
              "\n",
              "    .dataframe tbody tr th {\n",
              "        vertical-align: top;\n",
              "    }\n",
              "\n",
              "    .dataframe thead th {\n",
              "        text-align: right;\n",
              "    }\n",
              "</style>\n",
              "<table border=\"1\" class=\"dataframe\">\n",
              "  <thead>\n",
              "    <tr style=\"text-align: right;\">\n",
              "      <th></th>\n",
              "      <th>Date</th>\n",
              "      <th>Total Tests</th>\n",
              "      <th>Total Cases</th>\n",
              "      <th>Total Deaths</th>\n",
              "      <th>Total Recovered</th>\n",
              "      <th>Active Cases</th>\n",
              "    </tr>\n",
              "  </thead>\n",
              "  <tbody>\n",
              "    <tr>\n",
              "      <th>0</th>\n",
              "      <td>2020-04-18</td>\n",
              "      <td>3722145.0</td>\n",
              "      <td>738792.0</td>\n",
              "      <td>39014.0</td>\n",
              "      <td>68269.0</td>\n",
              "      <td>631509.0</td>\n",
              "    </tr>\n",
              "    <tr>\n",
              "      <th>1</th>\n",
              "      <td>2020-04-18</td>\n",
              "      <td>1831892.0</td>\n",
              "      <td>36793.0</td>\n",
              "      <td>313.0</td>\n",
              "      <td>3057.0</td>\n",
              "      <td>33423.0</td>\n",
              "    </tr>\n",
              "    <tr>\n",
              "      <th>2</th>\n",
              "      <td>2020-04-18</td>\n",
              "      <td>930230.0</td>\n",
              "      <td>194416.0</td>\n",
              "      <td>20043.0</td>\n",
              "      <td>74797.0</td>\n",
              "      <td>99576.0</td>\n",
              "    </tr>\n",
              "    <tr>\n",
              "      <th>3</th>\n",
              "      <td>2020-04-18</td>\n",
              "      <td>62985.0</td>\n",
              "      <td>36722.0</td>\n",
              "      <td>2361.0</td>\n",
              "      <td>14026.0</td>\n",
              "      <td>20335.0</td>\n",
              "    </tr>\n",
              "    <tr>\n",
              "      <th>4</th>\n",
              "      <td>2020-04-18</td>\n",
              "      <td>460437.0</td>\n",
              "      <td>114217.0</td>\n",
              "      <td>15464.0</td>\n",
              "      <td>0.0</td>\n",
              "      <td>98409.0</td>\n",
              "    </tr>\n",
              "  </tbody>\n",
              "</table>\n",
              "</div>"
            ],
            "text/plain": [
              "        Date  Total Tests  ...  Total Recovered  Active Cases\n",
              "0 2020-04-18    3722145.0  ...          68269.0      631509.0\n",
              "1 2020-04-18    1831892.0  ...           3057.0       33423.0\n",
              "2 2020-04-18     930230.0  ...          74797.0       99576.0\n",
              "3 2020-04-18      62985.0  ...          14026.0       20335.0\n",
              "4 2020-04-18     460437.0  ...              0.0       98409.0\n",
              "\n",
              "[5 rows x 6 columns]"
            ]
          },
          "metadata": {
            "tags": []
          },
          "execution_count": 108
        }
      ]
    },
    {
      "cell_type": "code",
      "metadata": {
        "id": "5P3AvdUioaB3",
        "outputId": "435fc4a0-682d-4f1b-cc57-76a0740c470c",
        "colab": {
          "base_uri": "https://localhost:8080/",
          "height": 204
        }
      },
      "source": [
        "# Converting date-time to ordinal\n",
        "df['Date'] = df['Date'].map(dt.datetime.toordinal)\n",
        "df.head()"
      ],
      "execution_count": 109,
      "outputs": [
        {
          "output_type": "execute_result",
          "data": {
            "text/html": [
              "<div>\n",
              "<style scoped>\n",
              "    .dataframe tbody tr th:only-of-type {\n",
              "        vertical-align: middle;\n",
              "    }\n",
              "\n",
              "    .dataframe tbody tr th {\n",
              "        vertical-align: top;\n",
              "    }\n",
              "\n",
              "    .dataframe thead th {\n",
              "        text-align: right;\n",
              "    }\n",
              "</style>\n",
              "<table border=\"1\" class=\"dataframe\">\n",
              "  <thead>\n",
              "    <tr style=\"text-align: right;\">\n",
              "      <th></th>\n",
              "      <th>Date</th>\n",
              "      <th>Total Tests</th>\n",
              "      <th>Total Cases</th>\n",
              "      <th>Total Deaths</th>\n",
              "      <th>Total Recovered</th>\n",
              "      <th>Active Cases</th>\n",
              "    </tr>\n",
              "  </thead>\n",
              "  <tbody>\n",
              "    <tr>\n",
              "      <th>0</th>\n",
              "      <td>737533</td>\n",
              "      <td>3722145.0</td>\n",
              "      <td>738792.0</td>\n",
              "      <td>39014.0</td>\n",
              "      <td>68269.0</td>\n",
              "      <td>631509.0</td>\n",
              "    </tr>\n",
              "    <tr>\n",
              "      <th>1</th>\n",
              "      <td>737533</td>\n",
              "      <td>1831892.0</td>\n",
              "      <td>36793.0</td>\n",
              "      <td>313.0</td>\n",
              "      <td>3057.0</td>\n",
              "      <td>33423.0</td>\n",
              "    </tr>\n",
              "    <tr>\n",
              "      <th>2</th>\n",
              "      <td>737533</td>\n",
              "      <td>930230.0</td>\n",
              "      <td>194416.0</td>\n",
              "      <td>20043.0</td>\n",
              "      <td>74797.0</td>\n",
              "      <td>99576.0</td>\n",
              "    </tr>\n",
              "    <tr>\n",
              "      <th>3</th>\n",
              "      <td>737533</td>\n",
              "      <td>62985.0</td>\n",
              "      <td>36722.0</td>\n",
              "      <td>2361.0</td>\n",
              "      <td>14026.0</td>\n",
              "      <td>20335.0</td>\n",
              "    </tr>\n",
              "    <tr>\n",
              "      <th>4</th>\n",
              "      <td>737533</td>\n",
              "      <td>460437.0</td>\n",
              "      <td>114217.0</td>\n",
              "      <td>15464.0</td>\n",
              "      <td>0.0</td>\n",
              "      <td>98409.0</td>\n",
              "    </tr>\n",
              "  </tbody>\n",
              "</table>\n",
              "</div>"
            ],
            "text/plain": [
              "     Date  Total Tests  ...  Total Recovered  Active Cases\n",
              "0  737533    3722145.0  ...          68269.0      631509.0\n",
              "1  737533    1831892.0  ...           3057.0       33423.0\n",
              "2  737533     930230.0  ...          74797.0       99576.0\n",
              "3  737533      62985.0  ...          14026.0       20335.0\n",
              "4  737533     460437.0  ...              0.0       98409.0\n",
              "\n",
              "[5 rows x 6 columns]"
            ]
          },
          "metadata": {
            "tags": []
          },
          "execution_count": 109
        }
      ]
    },
    {
      "cell_type": "code",
      "metadata": {
        "id": "ojcCGMT0oaB9",
        "outputId": "ab9789f7-ead6-430a-fe9b-b30b65253750",
        "colab": {
          "base_uri": "https://localhost:8080/"
        }
      },
      "source": [
        "# pick total death as forecast column\n",
        "forecast_col = 'Total Deaths'\n",
        "\n",
        "# Chosing 30 days as number of forecast days\n",
        "forecast_out = int((9))\n",
        "print('length =',len(df), \"and forecast_out =\", forecast_out)"
      ],
      "execution_count": 110,
      "outputs": [
        {
          "output_type": "stream",
          "text": [
            "length = 6603 and forecast_out = 9\n"
          ],
          "name": "stdout"
        }
      ]
    },
    {
      "cell_type": "markdown",
      "metadata": {
        "id": "NmFoCib7oaDL"
      },
      "source": [
        "## Creating label by shifting 'Total Deaths' according to 'forecast_out'"
      ]
    },
    {
      "cell_type": "code",
      "metadata": {
        "id": "HIT5f0PmoaDM",
        "outputId": "de4acd7e-225f-4b0c-b931-074b21d4d4e4",
        "colab": {
          "base_uri": "https://localhost:8080/"
        }
      },
      "source": [
        "df['temp'] = df[forecast_col].shift(-forecast_out)\n",
        "print(df.head(2))\n",
        "print('\\n')\n",
        "# verify rows with NAN in Label column \n",
        "print(df.tail(2))"
      ],
      "execution_count": 111,
      "outputs": [
        {
          "output_type": "stream",
          "text": [
            "     Date  Total Tests  Total Cases  ...  Total Recovered  Active Cases    temp\n",
            "0  737533    3722145.0     738792.0  ...          68269.0      631509.0  5031.0\n",
            "1  737533    1831892.0      36793.0  ...           3057.0       33423.0   521.0\n",
            "\n",
            "[2 rows x 7 columns]\n",
            "\n",
            "\n",
            "        Date  Total Tests  Total Cases  ...  Total Recovered  Active Cases  temp\n",
            "6601  737563          0.0          1.0  ...              0.0           1.0   NaN\n",
            "6602  737563          0.0          1.0  ...              1.0           0.0   NaN\n",
            "\n",
            "[2 rows x 7 columns]\n"
          ],
          "name": "stdout"
        }
      ]
    },
    {
      "cell_type": "code",
      "metadata": {
        "id": "Aa4xHK8YoaDS",
        "outputId": "e37f5ec4-1992-4a9a-89b0-9029869a43b7",
        "colab": {
          "base_uri": "https://localhost:8080/"
        }
      },
      "source": [
        "# Define features Matrix X by excluding the label column which we just created \n",
        "X = np.array(df.drop(['temp'], 1))\n",
        "\n",
        "# Using a feature in sklearn, preposessing to scale features\n",
        "X = preprocessing.scale(X)\n",
        "print(X[1,:])"
      ],
      "execution_count": 112,
      "outputs": [
        {
          "output_type": "stream",
          "text": [
            "[-1.67705098  2.36524283  0.22639989 -0.1393207  -0.11075636  0.36161242]\n"
          ],
          "name": "stdout"
        }
      ]
    },
    {
      "cell_type": "code",
      "metadata": {
        "id": "Zz8XJxK5oaDZ",
        "outputId": "75fa6bc9-22cb-4691-d2b1-b39778d1fb11",
        "colab": {
          "base_uri": "https://localhost:8080/"
        }
      },
      "source": [
        "# X contains last 'n= forecast_out' rows for which we don't have label data\n",
        "# Put those rows in different Matrix X_forecast_out by X_forecast_out = X[end-forecast_out:end]\n",
        "\n",
        "X_forecast_out = X[-forecast_out:]\n",
        "X = X[:-forecast_out]\n",
        "print (\"Length of X_forecast_out:\", len(X_forecast_out), \"& Length of X :\", len(X))"
      ],
      "execution_count": 113,
      "outputs": [
        {
          "output_type": "stream",
          "text": [
            "Length of X_forecast_out: 9 & Length of X : 6594\n"
          ],
          "name": "stdout"
        }
      ]
    },
    {
      "cell_type": "code",
      "metadata": {
        "id": "4BMq-7BeoaDf",
        "outputId": "a72474ea-f276-45fd-bb14-ce6c712eaea2",
        "colab": {
          "base_uri": "https://localhost:8080/"
        }
      },
      "source": [
        "# Define vector y for the data we have prediction for\n",
        "# make sure length of X and y are identical\n",
        "y = np.array(df['temp'])\n",
        "y = y[:-forecast_out]\n",
        "print('Length of y: ',len(y))"
      ],
      "execution_count": 114,
      "outputs": [
        {
          "output_type": "stream",
          "text": [
            "Length of y:  6594\n"
          ],
          "name": "stdout"
        }
      ]
    },
    {
      "cell_type": "markdown",
      "metadata": {
        "id": "gJID5oAGoaDk"
      },
      "source": [
        "# Machine Learning Models"
      ]
    },
    {
      "cell_type": "code",
      "metadata": {
        "id": "zUGR243coaDl"
      },
      "source": [
        "# ML libraries\n",
        "import lightgbm as lgb\n",
        "import xgboost as xgb\n",
        "from xgboost import plot_importance, plot_tree\n",
        "from sklearn.model_selection import RandomizedSearchCV, GridSearchCV\n",
        "from sklearn import linear_model\n",
        "from sklearn.metrics import mean_squared_error,explained_variance_score\n",
        "import sklearn \n",
        "import seaborn as seabornInstance \n",
        "from sklearn.model_selection import train_test_split \n",
        "from sklearn.linear_model import LinearRegression\n",
        "from sklearn import metrics\n",
        "%matplotlib inline"
      ],
      "execution_count": 115,
      "outputs": []
    },
    {
      "cell_type": "code",
      "metadata": {
        "id": "yPgn4wmloaEj"
      },
      "source": [
        "# split into test and train data"
      ],
      "execution_count": 116,
      "outputs": []
    },
    {
      "cell_type": "code",
      "metadata": {
        "id": "ze5DYjFooaEr",
        "outputId": "17bbc59e-cba8-4b47-e4da-68416d02d8d4",
        "colab": {
          "base_uri": "https://localhost:8080/"
        }
      },
      "source": [
        "X_train, X_test, y_train, y_test = train_test_split(X, y, test_size=0.2, random_state=42)\n",
        "print('length of X_train and X_test: ', len(X_train), len(X_test))"
      ],
      "execution_count": 117,
      "outputs": [
        {
          "output_type": "stream",
          "text": [
            "length of X_train and X_test:  5275 1319\n"
          ],
          "name": "stdout"
        }
      ]
    },
    {
      "cell_type": "code",
      "metadata": {
        "id": "5b47JXXNoaE4"
      },
      "source": [
        "from sklearn.preprocessing import StandardScaler\n",
        "s = StandardScaler()\n",
        "X = s.fit_transform(X)"
      ],
      "execution_count": 118,
      "outputs": []
    },
    {
      "cell_type": "markdown",
      "metadata": {
        "id": "pRsRz5uvoaFD"
      },
      "source": [
        "# Linear Regression"
      ]
    },
    {
      "cell_type": "code",
      "metadata": {
        "id": "mo-KSJ3FoaFF",
        "outputId": "ae0fe30e-f4a6-4a27-91f1-8167c6dd94b1",
        "colab": {
          "base_uri": "https://localhost:8080/"
        }
      },
      "source": [
        "lr = LinearRegression()\n",
        "\n",
        "# Train the model using the training sets\n",
        "lr.fit(X_train, y_train)\n",
        "# Test\n",
        "accuracy = lr.score(X_test, y_test)\n",
        "print(\"Accuracy of Linear Regression: \", accuracy)"
      ],
      "execution_count": 119,
      "outputs": [
        {
          "output_type": "stream",
          "text": [
            "Accuracy of Linear Regression:  0.006657186273038685\n"
          ],
          "name": "stdout"
        }
      ]
    },
    {
      "cell_type": "code",
      "metadata": {
        "id": "DH8FazGooaFt",
        "outputId": "06c46c20-24d0-4080-9cdc-1bd2628948f8",
        "colab": {
          "base_uri": "https://localhost:8080/"
        }
      },
      "source": [
        "# Predict using our Model\n",
        "forecast_prediction = lr.predict(X_forecast_out)\n",
        "print(forecast_prediction)"
      ],
      "execution_count": 120,
      "outputs": [
        {
          "output_type": "stream",
          "text": [
            "[1267.20093969 1267.18533976 1265.86045768 1266.97826918 1267.17520494\n",
            " 1267.17520494 1267.15976409 1267.14605603 1267.14947019]\n"
          ],
          "name": "stdout"
        }
      ]
    },
    {
      "cell_type": "code",
      "metadata": {
        "id": "wfzFGfAooaF1",
        "outputId": "3404900b-af33-4c0c-9d1d-5109964a88b1",
        "colab": {
          "base_uri": "https://localhost:8080/"
        }
      },
      "source": [
        "from sklearn.metrics import mean_absolute_error\n",
        "from sklearn.metrics import mean_squared_error\n",
        "from sklearn.metrics import r2_score\n",
        "from sklearn import linear_model\n",
        "max_r_score = 0\n",
        "for r_state in range(42,100):\n",
        "    X_train,X_test,y_train,y_test = train_test_split(X,y,random_state = r_state,test_size = 0.20)\n",
        "    regr = linear_model.LinearRegression()\n",
        "    regr.fit(X_train,y_train)\n",
        "    y_pred = regr.predict(X_test)\n",
        "    r2_scr = r2_score(y_test,y_pred)\n",
        "    if r2_scr>max_r_score:\n",
        "        max_r_score = r2_scr\n",
        "        final_r_state = r_state \n",
        "print(\"max r2 score coressponding to\",final_r_state,\"is\",max_r_score)"
      ],
      "execution_count": 121,
      "outputs": [
        {
          "output_type": "stream",
          "text": [
            "max r2 score coressponding to 86 is 0.015286491523508694\n"
          ],
          "name": "stdout"
        }
      ]
    },
    {
      "cell_type": "markdown",
      "metadata": {
        "id": "8NsZHBcvoaF-"
      },
      "source": [
        "# Bagging Regressor"
      ]
    },
    {
      "cell_type": "code",
      "metadata": {
        "id": "uOEhCF2OoaF_",
        "outputId": "2072c11d-7c88-435e-9010-1ee9f1cbeebe",
        "colab": {
          "base_uri": "https://localhost:8080/"
        }
      },
      "source": [
        "from sklearn.ensemble import BaggingRegressor\n",
        "br = BaggingRegressor(base_estimator=None, \n",
        "                      n_estimators=80,  \n",
        "                      max_samples=1.0, \n",
        "                      max_features=1.0, \n",
        "                      bootstrap=True, \n",
        "                      bootstrap_features=True,\n",
        "                      oob_score=True,\n",
        "                      n_jobs=None, \n",
        "                      random_state=13, \n",
        "                      verbose=0)\n",
        "br.fit(X_train, y_train)\n",
        "y_pred3 = br.predict(X_test)\n",
        "print('RMSLE:', sqrt(mean_squared_log_error(y_test, y_pred3)))\n",
        "print('RMSE:', sqrt(mean_squared_error(y_test, y_pred3)))"
      ],
      "execution_count": 122,
      "outputs": [
        {
          "output_type": "stream",
          "text": [
            "RMSLE: 1.8288769428126623\n",
            "RMSE: 1069.781761494646\n"
          ],
          "name": "stdout"
        }
      ]
    },
    {
      "cell_type": "markdown",
      "metadata": {
        "id": "B1QdpNqKoaGF"
      },
      "source": [
        "# RandomForest Regressor"
      ]
    },
    {
      "cell_type": "code",
      "metadata": {
        "id": "-UX9m0jEoaGG",
        "outputId": "9ecc2789-cd31-4ab1-a235-c1ef0c19ed2d",
        "colab": {
          "base_uri": "https://localhost:8080/"
        }
      },
      "source": [
        "tuned_params = {'n_estimators': [100, 200, 300, 400, 500], 'min_samples_split': [2, 5, 10], 'min_samples_leaf': [1, 2, 4]}\n",
        "random_regressor = RandomizedSearchCV(RandomForestRegressor(), tuned_params, n_iter = 20, scoring = 'neg_mean_absolute_error', cv = 5, n_jobs = -1)\n",
        "random_regressor.fit(X_train, y_train)"
      ],
      "execution_count": 123,
      "outputs": [
        {
          "output_type": "execute_result",
          "data": {
            "text/plain": [
              "RandomizedSearchCV(cv=5, error_score=nan,\n",
              "                   estimator=RandomForestRegressor(bootstrap=True,\n",
              "                                                   ccp_alpha=0.0,\n",
              "                                                   criterion='mse',\n",
              "                                                   max_depth=None,\n",
              "                                                   max_features='auto',\n",
              "                                                   max_leaf_nodes=None,\n",
              "                                                   max_samples=None,\n",
              "                                                   min_impurity_decrease=0.0,\n",
              "                                                   min_impurity_split=None,\n",
              "                                                   min_samples_leaf=1,\n",
              "                                                   min_samples_split=2,\n",
              "                                                   min_weight_fraction_leaf=0.0,\n",
              "                                                   n_estimators=100,\n",
              "                                                   n_jobs=None, oob_score=False,\n",
              "                                                   random_state=None, verbose=0,\n",
              "                                                   warm_start=False),\n",
              "                   iid='deprecated', n_iter=20, n_jobs=-1,\n",
              "                   param_distributions={'min_samples_leaf': [1, 2, 4],\n",
              "                                        'min_samples_split': [2, 5, 10],\n",
              "                                        'n_estimators': [100, 200, 300, 400,\n",
              "                                                         500]},\n",
              "                   pre_dispatch='2*n_jobs', random_state=None, refit=True,\n",
              "                   return_train_score=False, scoring='neg_mean_absolute_error',\n",
              "                   verbose=0)"
            ]
          },
          "metadata": {
            "tags": []
          },
          "execution_count": 123
        }
      ]
    },
    {
      "cell_type": "code",
      "metadata": {
        "id": "Yl0Gf2S6oaGL",
        "outputId": "caa4a265-36b0-43e2-b863-2f7d29551429",
        "colab": {
          "base_uri": "https://localhost:8080/"
        }
      },
      "source": [
        "print(random_regressor.best_estimator_)\n",
        "random_regressor.best_params_"
      ],
      "execution_count": 124,
      "outputs": [
        {
          "output_type": "stream",
          "text": [
            "RandomForestRegressor(bootstrap=True, ccp_alpha=0.0, criterion='mse',\n",
            "                      max_depth=None, max_features='auto', max_leaf_nodes=None,\n",
            "                      max_samples=None, min_impurity_decrease=0.0,\n",
            "                      min_impurity_split=None, min_samples_leaf=1,\n",
            "                      min_samples_split=2, min_weight_fraction_leaf=0.0,\n",
            "                      n_estimators=100, n_jobs=None, oob_score=False,\n",
            "                      random_state=None, verbose=0, warm_start=False)\n"
          ],
          "name": "stdout"
        },
        {
          "output_type": "execute_result",
          "data": {
            "text/plain": [
              "{'min_samples_leaf': 1, 'min_samples_split': 2, 'n_estimators': 100}"
            ]
          },
          "metadata": {
            "tags": []
          },
          "execution_count": 124
        }
      ]
    },
    {
      "cell_type": "code",
      "metadata": {
        "id": "JzVlD44ioaGm"
      },
      "source": [
        "y_train_pred = random_regressor.predict(X_train)\n",
        "y_test_pred = random_regressor.predict(X_test)"
      ],
      "execution_count": 125,
      "outputs": []
    },
    {
      "cell_type": "code",
      "metadata": {
        "id": "9Y1CdrZ5oaGr",
        "outputId": "7f466bf7-5f80-4f37-f6e0-b3fc52f12c02",
        "colab": {
          "base_uri": "https://localhost:8080/"
        }
      },
      "source": [
        "print(\"Train Results for Random Forest Regressor Model:\")\n",
        "print(50 * '-')\n",
        "print(\"Root mean squared error: \", sqrt(mse(y_train, y_train_pred)))\n",
        "print(\"R-squared: \", r2_score(y_train, y_train_pred))"
      ],
      "execution_count": 126,
      "outputs": [
        {
          "output_type": "stream",
          "text": [
            "Train Results for Random Forest Regressor Model:\n",
            "--------------------------------------------------\n",
            "Root mean squared error:  305.61870553854334\n",
            "R-squared:  0.997287676076575\n"
          ],
          "name": "stdout"
        }
      ]
    },
    {
      "cell_type": "code",
      "metadata": {
        "id": "dZhXQ6XMr94r",
        "outputId": "2b3c7687-fb4e-4c6b-f040-ac3a27d0d707",
        "colab": {
          "base_uri": "https://localhost:8080/"
        }
      },
      "source": [
        "print(\"Test Results for Random Forest Regressor Model:\")\n",
        "print(50 * '-')\n",
        "print(\"Root mean squared error: \", sqrt(mse(y_test, y_test_pred)))\n",
        "print(\"R-squared: \", r2_score(y_test, y_test_pred))"
      ],
      "execution_count": 127,
      "outputs": [
        {
          "output_type": "stream",
          "text": [
            "Test Results for Random Forest Regressor Model:\n",
            "--------------------------------------------------\n",
            "Root mean squared error:  712.8301604671348\n",
            "R-squared:  0.9876963768044575\n"
          ],
          "name": "stdout"
        }
      ]
    },
    {
      "cell_type": "markdown",
      "metadata": {
        "id": "lcTz_BPSoaG5"
      },
      "source": [
        "# Gradient Boosting Regressor"
      ]
    },
    {
      "cell_type": "code",
      "metadata": {
        "id": "Vw0Y2ZXLoaG6",
        "outputId": "6c6265ca-46f7-433a-c2a0-2c6eabfcbe9f",
        "colab": {
          "base_uri": "https://localhost:8080/"
        }
      },
      "source": [
        "from sklearn.ensemble import GradientBoostingRegressor\n",
        "gb = GradientBoostingRegressor(loss='lad', \n",
        "                               learning_rate=0.2,  \n",
        "                               random_state=10, \n",
        "                               n_estimators=92,   \n",
        "                               max_depth=11,  \n",
        "                               subsample=1.0, \n",
        "                               min_samples_split=40, \n",
        "                               min_samples_leaf=1,\n",
        "                               max_features='auto')\n",
        "gb.fit(X_train, y_train)\n",
        "y_pred2 = gb.predict(X_test)\n",
        "print('RMSE:', sqrt(mean_squared_error(y_test, y_pred2)))"
      ],
      "execution_count": 128,
      "outputs": [
        {
          "output_type": "stream",
          "text": [
            "RMSE: 1393.3315497770102\n"
          ],
          "name": "stdout"
        }
      ]
    },
    {
      "cell_type": "markdown",
      "metadata": {
        "id": "H4-HXRrVoaG_"
      },
      "source": [
        "# Descision Tree Regressor "
      ]
    },
    {
      "cell_type": "code",
      "metadata": {
        "id": "Qrs3Y8jNoaHA",
        "outputId": "7708790e-8c0f-4062-a51c-10f5fe860558",
        "colab": {
          "base_uri": "https://localhost:8080/"
        }
      },
      "source": [
        "from sklearn.tree import DecisionTreeRegressor\n",
        "depth  =list(range(3,30))\n",
        "param_grid =dict(max_depth =depth)\n",
        "tree =GridSearchCV(DecisionTreeRegressor(),param_grid,cv =10)\n",
        "tree.fit(X_train,y_train)"
      ],
      "execution_count": 129,
      "outputs": [
        {
          "output_type": "execute_result",
          "data": {
            "text/plain": [
              "GridSearchCV(cv=10, error_score=nan,\n",
              "             estimator=DecisionTreeRegressor(ccp_alpha=0.0, criterion='mse',\n",
              "                                             max_depth=None, max_features=None,\n",
              "                                             max_leaf_nodes=None,\n",
              "                                             min_impurity_decrease=0.0,\n",
              "                                             min_impurity_split=None,\n",
              "                                             min_samples_leaf=1,\n",
              "                                             min_samples_split=2,\n",
              "                                             min_weight_fraction_leaf=0.0,\n",
              "                                             presort='deprecated',\n",
              "                                             random_state=None,\n",
              "                                             splitter='best'),\n",
              "             iid='deprecated', n_jobs=None,\n",
              "             param_grid={'max_depth': [3, 4, 5, 6, 7, 8, 9, 10, 11, 12, 13, 14,\n",
              "                                       15, 16, 17, 18, 19, 20, 21, 22, 23, 24,\n",
              "                                       25, 26, 27, 28, 29]},\n",
              "             pre_dispatch='2*n_jobs', refit=True, return_train_score=False,\n",
              "             scoring=None, verbose=0)"
            ]
          },
          "metadata": {
            "tags": []
          },
          "execution_count": 129
        }
      ]
    },
    {
      "cell_type": "code",
      "metadata": {
        "id": "CxoBdo-ZoaH5",
        "outputId": "eeb91d2b-dcf7-4772-c670-1a114919ba7b",
        "colab": {
          "base_uri": "https://localhost:8080/"
        }
      },
      "source": [
        "print(tree.best_estimator_)\n",
        "tree.best_params_"
      ],
      "execution_count": 130,
      "outputs": [
        {
          "output_type": "stream",
          "text": [
            "DecisionTreeRegressor(ccp_alpha=0.0, criterion='mse', max_depth=15,\n",
            "                      max_features=None, max_leaf_nodes=None,\n",
            "                      min_impurity_decrease=0.0, min_impurity_split=None,\n",
            "                      min_samples_leaf=1, min_samples_split=2,\n",
            "                      min_weight_fraction_leaf=0.0, presort='deprecated',\n",
            "                      random_state=None, splitter='best')\n"
          ],
          "name": "stdout"
        },
        {
          "output_type": "execute_result",
          "data": {
            "text/plain": [
              "{'max_depth': 15}"
            ]
          },
          "metadata": {
            "tags": []
          },
          "execution_count": 130
        }
      ]
    },
    {
      "cell_type": "code",
      "metadata": {
        "id": "RnV8eUZdoaIE"
      },
      "source": [
        "#Predict train result and test result\n",
        "y_train_pred =tree.predict(X_train) \n",
        "y_test_pred =tree.predict(X_test)"
      ],
      "execution_count": 131,
      "outputs": []
    },
    {
      "cell_type": "code",
      "metadata": {
        "id": "JVgVOdH_oaIN",
        "outputId": "6b2295b3-b461-40f7-89c7-a84bf4f427b4",
        "colab": {
          "base_uri": "https://localhost:8080/"
        }
      },
      "source": [
        "print(\"Train Results for Decision Regressor Model:\")\n",
        "print(50 * '-')\n",
        "print(\"Root mean squared error: \", sqrt(mse(y_train, y_train_pred)))\n",
        "print(\"R-squared: \", r2_score(y_train, y_train_pred))"
      ],
      "execution_count": 132,
      "outputs": [
        {
          "output_type": "stream",
          "text": [
            "Train Results for Decision Regressor Model:\n",
            "--------------------------------------------------\n",
            "Root mean squared error:  215.94409590360635\n",
            "R-squared:  0.998645857527588\n"
          ],
          "name": "stdout"
        }
      ]
    },
    {
      "cell_type": "code",
      "metadata": {
        "id": "CE7LRYCboaIT",
        "outputId": "87c49313-6a7b-46e8-eb14-bed0c4904d33",
        "colab": {
          "base_uri": "https://localhost:8080/"
        }
      },
      "source": [
        "print(\"Test Results for Decision Regressor Model:\")\n",
        "print(50 * '-')\n",
        "print(\"Root mean squared error: \", sqrt(mse(y_test, y_test_pred)))\n",
        "print(\"R-squared: \", r2_score(y_test, y_test_pred))"
      ],
      "execution_count": 133,
      "outputs": [
        {
          "output_type": "stream",
          "text": [
            "Test Results for Decision Regressor Model:\n",
            "--------------------------------------------------\n",
            "Root mean squared error:  513.9671732541793\n",
            "R-squared:  0.9936036583598925\n"
          ],
          "name": "stdout"
        }
      ]
    },
    {
      "cell_type": "markdown",
      "metadata": {
        "id": "hGCrwGPWsciQ"
      },
      "source": [
        "KNN Regressor "
      ]
    },
    {
      "cell_type": "code",
      "metadata": {
        "id": "KB_8mxO0se5M",
        "outputId": "ca60e68e-3477-4cee-ac04-29e781cb678e",
        "colab": {
          "base_uri": "https://localhost:8080/"
        }
      },
      "source": [
        "k_range = list(range(1, 30))\n",
        "params = dict(n_neighbors = k_range)\n",
        "knn_regressor = GridSearchCV(KNeighborsRegressor(), params, cv = 10, scoring = 'neg_mean_squared_error')\n",
        "knn_regressor.fit(X_train, y_train)"
      ],
      "execution_count": 134,
      "outputs": [
        {
          "output_type": "execute_result",
          "data": {
            "text/plain": [
              "GridSearchCV(cv=10, error_score=nan,\n",
              "             estimator=KNeighborsRegressor(algorithm='auto', leaf_size=30,\n",
              "                                           metric='minkowski',\n",
              "                                           metric_params=None, n_jobs=None,\n",
              "                                           n_neighbors=5, p=2,\n",
              "                                           weights='uniform'),\n",
              "             iid='deprecated', n_jobs=None,\n",
              "             param_grid={'n_neighbors': [1, 2, 3, 4, 5, 6, 7, 8, 9, 10, 11, 12,\n",
              "                                         13, 14, 15, 16, 17, 18, 19, 20, 21, 22,\n",
              "                                         23, 24, 25, 26, 27, 28, 29]},\n",
              "             pre_dispatch='2*n_jobs', refit=True, return_train_score=False,\n",
              "             scoring='neg_mean_squared_error', verbose=0)"
            ]
          },
          "metadata": {
            "tags": []
          },
          "execution_count": 134
        }
      ]
    },
    {
      "cell_type": "code",
      "metadata": {
        "id": "QsFVAMYlsjg7",
        "outputId": "25a29f24-b7a6-4ce3-cc44-5eff39fb5e9f",
        "colab": {
          "base_uri": "https://localhost:8080/"
        }
      },
      "source": [
        "print(knn_regressor.best_estimator_)\n",
        "knn_regressor.best_params_"
      ],
      "execution_count": 135,
      "outputs": [
        {
          "output_type": "stream",
          "text": [
            "KNeighborsRegressor(algorithm='auto', leaf_size=30, metric='minkowski',\n",
            "                    metric_params=None, n_jobs=None, n_neighbors=4, p=2,\n",
            "                    weights='uniform')\n"
          ],
          "name": "stdout"
        },
        {
          "output_type": "execute_result",
          "data": {
            "text/plain": [
              "{'n_neighbors': 4}"
            ]
          },
          "metadata": {
            "tags": []
          },
          "execution_count": 135
        }
      ]
    },
    {
      "cell_type": "code",
      "metadata": {
        "id": "eoBoxK5zsmZP"
      },
      "source": [
        "y_train_pred =knn_regressor.predict(X_train)\n",
        "y_test_pred =knn_regressor.predict(X_test) "
      ],
      "execution_count": 136,
      "outputs": []
    },
    {
      "cell_type": "code",
      "metadata": {
        "id": "MxyfMwwEsv1Z",
        "outputId": "d8bb4f75-893b-460c-b7f2-f28db989a605",
        "colab": {
          "base_uri": "https://localhost:8080/"
        }
      },
      "source": [
        "print(\"Train Results for KNN Regressor Model:\")\n",
        "print(50 * '-')\n",
        "print(\"Root mean squared error: \", sqrt(mse(y_train, y_train_pred)))\n",
        "print(\"R-squared: \", r2_score(y_train, y_train_pred))"
      ],
      "execution_count": 137,
      "outputs": [
        {
          "output_type": "stream",
          "text": [
            "Train Results for KNN Regressor Model:\n",
            "--------------------------------------------------\n",
            "Root mean squared error:  4130.1719332907505\n",
            "R-squared:  0.5046434009608529\n"
          ],
          "name": "stdout"
        }
      ]
    },
    {
      "cell_type": "code",
      "metadata": {
        "id": "Z5WsItFqs4Bi",
        "outputId": "acf67d86-9cdd-485b-bfc6-abe5ace5b8a6",
        "colab": {
          "base_uri": "https://localhost:8080/"
        }
      },
      "source": [
        "print(\"Test Results for KNN Regressor Model:\")\n",
        "print(50 * '-')\n",
        "print(\"Root mean squared error: \", sqrt(mse(y_test, y_test_pred)))\n",
        "print(\"R-squared: \", r2_score(y_test, y_test_pred))"
      ],
      "execution_count": 138,
      "outputs": [
        {
          "output_type": "stream",
          "text": [
            "Test Results for KNN Regressor Model:\n",
            "--------------------------------------------------\n",
            "Root mean squared error:  5944.063104648949\n",
            "R-squared:  0.14448483672553503\n"
          ],
          "name": "stdout"
        }
      ]
    },
    {
      "cell_type": "markdown",
      "metadata": {
        "id": "-BbLouNbthtM"
      },
      "source": [
        "# Conclusion \n",
        "After observing all models Decision Tree Regressor and  RandomForest are the best model on test.We can use it for further."
      ]
    },
    {
      "cell_type": "code",
      "metadata": {
        "id": "Q2uLVI4MoaIX",
        "outputId": "cf0f1228-6b62-4cb4-ba3f-6be375c4c191",
        "colab": {
          "base_uri": "https://localhost:8080/"
        }
      },
      "source": [
        "# Save the model\n",
        "import joblib\n",
        "joblib.dump(random_regressor,'world_covid-19.pkl')"
      ],
      "execution_count": 139,
      "outputs": [
        {
          "output_type": "execute_result",
          "data": {
            "text/plain": [
              "['world_covid-19.pkl']"
            ]
          },
          "metadata": {
            "tags": []
          },
          "execution_count": 139
        }
      ]
    }
  ]
}