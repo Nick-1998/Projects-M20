{
  "nbformat": 4,
  "nbformat_minor": 0,
  "metadata": {
    "kernelspec": {
      "display_name": "Python 3",
      "language": "python",
      "name": "python3"
    },
    "language_info": {
      "codemirror_mode": {
        "name": "ipython",
        "version": 3
      },
      "file_extension": ".py",
      "mimetype": "text/x-python",
      "name": "python",
      "nbconvert_exporter": "python",
      "pygments_lexer": "ipython3",
      "version": "3.8.3"
    },
    "colab": {
      "name": "Portugal Election Analysis.ipynb",
      "provenance": []
    }
  },
  "cells": [
    {
      "cell_type": "code",
      "metadata": {
        "id": "g91qjvoz_P-A"
      },
      "source": [
        "# Import libarieries \n",
        "import pandas as pd\n",
        "import numpy as np\n",
        "import matplotlib.pyplot as plt\n",
        "%matplotlib inline\n",
        "import seaborn as sns\n",
        "import warnings\n",
        "warnings.filterwarnings('ignore')"
      ],
      "execution_count": 1,
      "outputs": []
    },
    {
      "cell_type": "code",
      "metadata": {
        "id": "nXAsaTCd_RYd",
        "outputId": "e3f1be32-b76c-4be2-e6b1-8b66db38eec2",
        "colab": {
          "resources": {
            "http://localhost:8080/nbextensions/google.colab/files.js": {
              "data": "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",
              "ok": true,
              "headers": [
                [
                  "content-type",
                  "application/javascript"
                ]
              ],
              "status": 200,
              "status_text": ""
            }
          },
          "base_uri": "https://localhost:8080/",
          "height": 73
        }
      },
      "source": [
        "from google.colab import files\n",
        "uploaded = files.upload()"
      ],
      "execution_count": 2,
      "outputs": [
        {
          "output_type": "display_data",
          "data": {
            "text/html": [
              "\n",
              "     <input type=\"file\" id=\"files-ab990bbf-5fd2-41ff-8b35-656f312973a2\" name=\"files[]\" multiple disabled\n",
              "        style=\"border:none\" />\n",
              "     <output id=\"result-ab990bbf-5fd2-41ff-8b35-656f312973a2\">\n",
              "      Upload widget is only available when the cell has been executed in the\n",
              "      current browser session. Please rerun this cell to enable.\n",
              "      </output>\n",
              "      <script src=\"/nbextensions/google.colab/files.js\"></script> "
            ],
            "text/plain": [
              "<IPython.core.display.HTML object>"
            ]
          },
          "metadata": {
            "tags": []
          }
        },
        {
          "output_type": "stream",
          "text": [
            "Saving Election_Data.csv to Election_Data (3).csv\n"
          ],
          "name": "stdout"
        }
      ]
    },
    {
      "cell_type": "markdown",
      "metadata": {
        "id": "YaX0zWH__P-N"
      },
      "source": [
        "# EDA"
      ]
    },
    {
      "cell_type": "code",
      "metadata": {
        "id": "sH_ZaDhV_P-P",
        "outputId": "5f4ffdb1-a958-43f2-857c-f674cda900a9",
        "colab": {
          "base_uri": "https://localhost:8080/",
          "height": 411
        }
      },
      "source": [
        "# Read the data\n",
        "df = pd.read_csv('Election_Data.csv')\n",
        "display(df.head())\n",
        "display(df.shape)"
      ],
      "execution_count": 3,
      "outputs": [
        {
          "output_type": "display_data",
          "data": {
            "text/html": [
              "<div>\n",
              "<style scoped>\n",
              "    .dataframe tbody tr th:only-of-type {\n",
              "        vertical-align: middle;\n",
              "    }\n",
              "\n",
              "    .dataframe tbody tr th {\n",
              "        vertical-align: top;\n",
              "    }\n",
              "\n",
              "    .dataframe thead th {\n",
              "        text-align: right;\n",
              "    }\n",
              "</style>\n",
              "<table border=\"1\" class=\"dataframe\">\n",
              "  <thead>\n",
              "    <tr style=\"text-align: right;\">\n",
              "      <th></th>\n",
              "      <th>TimeElapsed</th>\n",
              "      <th>time</th>\n",
              "      <th>territoryName</th>\n",
              "      <th>totalMandates</th>\n",
              "      <th>availableMandates</th>\n",
              "      <th>numParishes</th>\n",
              "      <th>numParishesApproved</th>\n",
              "      <th>blankVotes</th>\n",
              "      <th>blankVotesPercentage</th>\n",
              "      <th>nullVotes</th>\n",
              "      <th>nullVotesPercentage</th>\n",
              "      <th>votersPercentage</th>\n",
              "      <th>subscribedVoters</th>\n",
              "      <th>totalVoters</th>\n",
              "      <th>pre.blankVotes</th>\n",
              "      <th>pre.blankVotesPercentage</th>\n",
              "      <th>pre.nullVotes</th>\n",
              "      <th>pre.nullVotesPercentage</th>\n",
              "      <th>pre.votersPercentage</th>\n",
              "      <th>pre.subscribedVoters</th>\n",
              "      <th>pre.totalVoters</th>\n",
              "      <th>Party</th>\n",
              "      <th>Mandates</th>\n",
              "      <th>Percentage</th>\n",
              "      <th>validVotesPercentage</th>\n",
              "      <th>Votes</th>\n",
              "      <th>Hondt</th>\n",
              "      <th>FinalMandates</th>\n",
              "    </tr>\n",
              "  </thead>\n",
              "  <tbody>\n",
              "    <tr>\n",
              "      <th>0</th>\n",
              "      <td>0</td>\n",
              "      <td>2019-10-06 20:10:02</td>\n",
              "      <td>Território Nacional</td>\n",
              "      <td>0</td>\n",
              "      <td>226</td>\n",
              "      <td>3092</td>\n",
              "      <td>1081</td>\n",
              "      <td>9652</td>\n",
              "      <td>2.5</td>\n",
              "      <td>8874</td>\n",
              "      <td>2.3</td>\n",
              "      <td>51.36</td>\n",
              "      <td>752529</td>\n",
              "      <td>386497</td>\n",
              "      <td>8317</td>\n",
              "      <td>1.94</td>\n",
              "      <td>8171</td>\n",
              "      <td>1.91</td>\n",
              "      <td>52.66</td>\n",
              "      <td>813743</td>\n",
              "      <td>428546</td>\n",
              "      <td>PS</td>\n",
              "      <td>0</td>\n",
              "      <td>38.29</td>\n",
              "      <td>40.22</td>\n",
              "      <td>147993</td>\n",
              "      <td>94</td>\n",
              "      <td>106</td>\n",
              "    </tr>\n",
              "    <tr>\n",
              "      <th>1</th>\n",
              "      <td>0</td>\n",
              "      <td>2019-10-06 20:10:02</td>\n",
              "      <td>Território Nacional</td>\n",
              "      <td>0</td>\n",
              "      <td>226</td>\n",
              "      <td>3092</td>\n",
              "      <td>1081</td>\n",
              "      <td>9652</td>\n",
              "      <td>2.5</td>\n",
              "      <td>8874</td>\n",
              "      <td>2.3</td>\n",
              "      <td>51.36</td>\n",
              "      <td>752529</td>\n",
              "      <td>386497</td>\n",
              "      <td>8317</td>\n",
              "      <td>1.94</td>\n",
              "      <td>8171</td>\n",
              "      <td>1.91</td>\n",
              "      <td>52.66</td>\n",
              "      <td>813743</td>\n",
              "      <td>428546</td>\n",
              "      <td>PPD/PSD</td>\n",
              "      <td>0</td>\n",
              "      <td>33.28</td>\n",
              "      <td>34.95</td>\n",
              "      <td>128624</td>\n",
              "      <td>81</td>\n",
              "      <td>77</td>\n",
              "    </tr>\n",
              "    <tr>\n",
              "      <th>2</th>\n",
              "      <td>0</td>\n",
              "      <td>2019-10-06 20:10:02</td>\n",
              "      <td>Território Nacional</td>\n",
              "      <td>0</td>\n",
              "      <td>226</td>\n",
              "      <td>3092</td>\n",
              "      <td>1081</td>\n",
              "      <td>9652</td>\n",
              "      <td>2.5</td>\n",
              "      <td>8874</td>\n",
              "      <td>2.3</td>\n",
              "      <td>51.36</td>\n",
              "      <td>752529</td>\n",
              "      <td>386497</td>\n",
              "      <td>8317</td>\n",
              "      <td>1.94</td>\n",
              "      <td>8171</td>\n",
              "      <td>1.91</td>\n",
              "      <td>52.66</td>\n",
              "      <td>813743</td>\n",
              "      <td>428546</td>\n",
              "      <td>B.E.</td>\n",
              "      <td>0</td>\n",
              "      <td>6.81</td>\n",
              "      <td>7.15</td>\n",
              "      <td>26307</td>\n",
              "      <td>16</td>\n",
              "      <td>19</td>\n",
              "    </tr>\n",
              "    <tr>\n",
              "      <th>3</th>\n",
              "      <td>0</td>\n",
              "      <td>2019-10-06 20:10:02</td>\n",
              "      <td>Território Nacional</td>\n",
              "      <td>0</td>\n",
              "      <td>226</td>\n",
              "      <td>3092</td>\n",
              "      <td>1081</td>\n",
              "      <td>9652</td>\n",
              "      <td>2.5</td>\n",
              "      <td>8874</td>\n",
              "      <td>2.3</td>\n",
              "      <td>51.36</td>\n",
              "      <td>752529</td>\n",
              "      <td>386497</td>\n",
              "      <td>8317</td>\n",
              "      <td>1.94</td>\n",
              "      <td>8171</td>\n",
              "      <td>1.91</td>\n",
              "      <td>52.66</td>\n",
              "      <td>813743</td>\n",
              "      <td>428546</td>\n",
              "      <td>CDS-PP</td>\n",
              "      <td>0</td>\n",
              "      <td>4.90</td>\n",
              "      <td>5.14</td>\n",
              "      <td>18923</td>\n",
              "      <td>12</td>\n",
              "      <td>5</td>\n",
              "    </tr>\n",
              "    <tr>\n",
              "      <th>4</th>\n",
              "      <td>0</td>\n",
              "      <td>2019-10-06 20:10:02</td>\n",
              "      <td>Território Nacional</td>\n",
              "      <td>0</td>\n",
              "      <td>226</td>\n",
              "      <td>3092</td>\n",
              "      <td>1081</td>\n",
              "      <td>9652</td>\n",
              "      <td>2.5</td>\n",
              "      <td>8874</td>\n",
              "      <td>2.3</td>\n",
              "      <td>51.36</td>\n",
              "      <td>752529</td>\n",
              "      <td>386497</td>\n",
              "      <td>8317</td>\n",
              "      <td>1.94</td>\n",
              "      <td>8171</td>\n",
              "      <td>1.91</td>\n",
              "      <td>52.66</td>\n",
              "      <td>813743</td>\n",
              "      <td>428546</td>\n",
              "      <td>PCP-PEV</td>\n",
              "      <td>0</td>\n",
              "      <td>4.59</td>\n",
              "      <td>4.83</td>\n",
              "      <td>17757</td>\n",
              "      <td>11</td>\n",
              "      <td>12</td>\n",
              "    </tr>\n",
              "  </tbody>\n",
              "</table>\n",
              "</div>"
            ],
            "text/plain": [
              "   TimeElapsed                 time  ... Hondt  FinalMandates\n",
              "0            0  2019-10-06 20:10:02  ...    94            106\n",
              "1            0  2019-10-06 20:10:02  ...    81             77\n",
              "2            0  2019-10-06 20:10:02  ...    16             19\n",
              "3            0  2019-10-06 20:10:02  ...    12              5\n",
              "4            0  2019-10-06 20:10:02  ...    11             12\n",
              "\n",
              "[5 rows x 28 columns]"
            ]
          },
          "metadata": {
            "tags": []
          }
        },
        {
          "output_type": "display_data",
          "data": {
            "text/plain": [
              "(21643, 28)"
            ]
          },
          "metadata": {
            "tags": []
          }
        }
      ]
    },
    {
      "cell_type": "code",
      "metadata": {
        "id": "9VNgGvkB_P-f",
        "outputId": "da59c517-fc65-44ce-ec22-741a84d69bb8",
        "colab": {
          "base_uri": "https://localhost:8080/",
          "height": 439
        }
      },
      "source": [
        "# Check the missing values\n",
        "df.isnull()"
      ],
      "execution_count": 4,
      "outputs": [
        {
          "output_type": "execute_result",
          "data": {
            "text/html": [
              "<div>\n",
              "<style scoped>\n",
              "    .dataframe tbody tr th:only-of-type {\n",
              "        vertical-align: middle;\n",
              "    }\n",
              "\n",
              "    .dataframe tbody tr th {\n",
              "        vertical-align: top;\n",
              "    }\n",
              "\n",
              "    .dataframe thead th {\n",
              "        text-align: right;\n",
              "    }\n",
              "</style>\n",
              "<table border=\"1\" class=\"dataframe\">\n",
              "  <thead>\n",
              "    <tr style=\"text-align: right;\">\n",
              "      <th></th>\n",
              "      <th>TimeElapsed</th>\n",
              "      <th>time</th>\n",
              "      <th>territoryName</th>\n",
              "      <th>totalMandates</th>\n",
              "      <th>availableMandates</th>\n",
              "      <th>numParishes</th>\n",
              "      <th>numParishesApproved</th>\n",
              "      <th>blankVotes</th>\n",
              "      <th>blankVotesPercentage</th>\n",
              "      <th>nullVotes</th>\n",
              "      <th>nullVotesPercentage</th>\n",
              "      <th>votersPercentage</th>\n",
              "      <th>subscribedVoters</th>\n",
              "      <th>totalVoters</th>\n",
              "      <th>pre.blankVotes</th>\n",
              "      <th>pre.blankVotesPercentage</th>\n",
              "      <th>pre.nullVotes</th>\n",
              "      <th>pre.nullVotesPercentage</th>\n",
              "      <th>pre.votersPercentage</th>\n",
              "      <th>pre.subscribedVoters</th>\n",
              "      <th>pre.totalVoters</th>\n",
              "      <th>Party</th>\n",
              "      <th>Mandates</th>\n",
              "      <th>Percentage</th>\n",
              "      <th>validVotesPercentage</th>\n",
              "      <th>Votes</th>\n",
              "      <th>Hondt</th>\n",
              "      <th>FinalMandates</th>\n",
              "    </tr>\n",
              "  </thead>\n",
              "  <tbody>\n",
              "    <tr>\n",
              "      <th>0</th>\n",
              "      <td>False</td>\n",
              "      <td>False</td>\n",
              "      <td>False</td>\n",
              "      <td>False</td>\n",
              "      <td>False</td>\n",
              "      <td>False</td>\n",
              "      <td>False</td>\n",
              "      <td>False</td>\n",
              "      <td>False</td>\n",
              "      <td>False</td>\n",
              "      <td>False</td>\n",
              "      <td>False</td>\n",
              "      <td>False</td>\n",
              "      <td>False</td>\n",
              "      <td>False</td>\n",
              "      <td>False</td>\n",
              "      <td>False</td>\n",
              "      <td>False</td>\n",
              "      <td>False</td>\n",
              "      <td>False</td>\n",
              "      <td>False</td>\n",
              "      <td>False</td>\n",
              "      <td>False</td>\n",
              "      <td>False</td>\n",
              "      <td>False</td>\n",
              "      <td>False</td>\n",
              "      <td>False</td>\n",
              "      <td>False</td>\n",
              "    </tr>\n",
              "    <tr>\n",
              "      <th>1</th>\n",
              "      <td>False</td>\n",
              "      <td>False</td>\n",
              "      <td>False</td>\n",
              "      <td>False</td>\n",
              "      <td>False</td>\n",
              "      <td>False</td>\n",
              "      <td>False</td>\n",
              "      <td>False</td>\n",
              "      <td>False</td>\n",
              "      <td>False</td>\n",
              "      <td>False</td>\n",
              "      <td>False</td>\n",
              "      <td>False</td>\n",
              "      <td>False</td>\n",
              "      <td>False</td>\n",
              "      <td>False</td>\n",
              "      <td>False</td>\n",
              "      <td>False</td>\n",
              "      <td>False</td>\n",
              "      <td>False</td>\n",
              "      <td>False</td>\n",
              "      <td>False</td>\n",
              "      <td>False</td>\n",
              "      <td>False</td>\n",
              "      <td>False</td>\n",
              "      <td>False</td>\n",
              "      <td>False</td>\n",
              "      <td>False</td>\n",
              "    </tr>\n",
              "    <tr>\n",
              "      <th>2</th>\n",
              "      <td>False</td>\n",
              "      <td>False</td>\n",
              "      <td>False</td>\n",
              "      <td>False</td>\n",
              "      <td>False</td>\n",
              "      <td>False</td>\n",
              "      <td>False</td>\n",
              "      <td>False</td>\n",
              "      <td>False</td>\n",
              "      <td>False</td>\n",
              "      <td>False</td>\n",
              "      <td>False</td>\n",
              "      <td>False</td>\n",
              "      <td>False</td>\n",
              "      <td>False</td>\n",
              "      <td>False</td>\n",
              "      <td>False</td>\n",
              "      <td>False</td>\n",
              "      <td>False</td>\n",
              "      <td>False</td>\n",
              "      <td>False</td>\n",
              "      <td>False</td>\n",
              "      <td>False</td>\n",
              "      <td>False</td>\n",
              "      <td>False</td>\n",
              "      <td>False</td>\n",
              "      <td>False</td>\n",
              "      <td>False</td>\n",
              "    </tr>\n",
              "    <tr>\n",
              "      <th>3</th>\n",
              "      <td>False</td>\n",
              "      <td>False</td>\n",
              "      <td>False</td>\n",
              "      <td>False</td>\n",
              "      <td>False</td>\n",
              "      <td>False</td>\n",
              "      <td>False</td>\n",
              "      <td>False</td>\n",
              "      <td>False</td>\n",
              "      <td>False</td>\n",
              "      <td>False</td>\n",
              "      <td>False</td>\n",
              "      <td>False</td>\n",
              "      <td>False</td>\n",
              "      <td>False</td>\n",
              "      <td>False</td>\n",
              "      <td>False</td>\n",
              "      <td>False</td>\n",
              "      <td>False</td>\n",
              "      <td>False</td>\n",
              "      <td>False</td>\n",
              "      <td>False</td>\n",
              "      <td>False</td>\n",
              "      <td>False</td>\n",
              "      <td>False</td>\n",
              "      <td>False</td>\n",
              "      <td>False</td>\n",
              "      <td>False</td>\n",
              "    </tr>\n",
              "    <tr>\n",
              "      <th>4</th>\n",
              "      <td>False</td>\n",
              "      <td>False</td>\n",
              "      <td>False</td>\n",
              "      <td>False</td>\n",
              "      <td>False</td>\n",
              "      <td>False</td>\n",
              "      <td>False</td>\n",
              "      <td>False</td>\n",
              "      <td>False</td>\n",
              "      <td>False</td>\n",
              "      <td>False</td>\n",
              "      <td>False</td>\n",
              "      <td>False</td>\n",
              "      <td>False</td>\n",
              "      <td>False</td>\n",
              "      <td>False</td>\n",
              "      <td>False</td>\n",
              "      <td>False</td>\n",
              "      <td>False</td>\n",
              "      <td>False</td>\n",
              "      <td>False</td>\n",
              "      <td>False</td>\n",
              "      <td>False</td>\n",
              "      <td>False</td>\n",
              "      <td>False</td>\n",
              "      <td>False</td>\n",
              "      <td>False</td>\n",
              "      <td>False</td>\n",
              "    </tr>\n",
              "    <tr>\n",
              "      <th>...</th>\n",
              "      <td>...</td>\n",
              "      <td>...</td>\n",
              "      <td>...</td>\n",
              "      <td>...</td>\n",
              "      <td>...</td>\n",
              "      <td>...</td>\n",
              "      <td>...</td>\n",
              "      <td>...</td>\n",
              "      <td>...</td>\n",
              "      <td>...</td>\n",
              "      <td>...</td>\n",
              "      <td>...</td>\n",
              "      <td>...</td>\n",
              "      <td>...</td>\n",
              "      <td>...</td>\n",
              "      <td>...</td>\n",
              "      <td>...</td>\n",
              "      <td>...</td>\n",
              "      <td>...</td>\n",
              "      <td>...</td>\n",
              "      <td>...</td>\n",
              "      <td>...</td>\n",
              "      <td>...</td>\n",
              "      <td>...</td>\n",
              "      <td>...</td>\n",
              "      <td>...</td>\n",
              "      <td>...</td>\n",
              "      <td>...</td>\n",
              "    </tr>\n",
              "    <tr>\n",
              "      <th>21638</th>\n",
              "      <td>False</td>\n",
              "      <td>False</td>\n",
              "      <td>False</td>\n",
              "      <td>False</td>\n",
              "      <td>False</td>\n",
              "      <td>False</td>\n",
              "      <td>False</td>\n",
              "      <td>False</td>\n",
              "      <td>False</td>\n",
              "      <td>False</td>\n",
              "      <td>False</td>\n",
              "      <td>False</td>\n",
              "      <td>False</td>\n",
              "      <td>False</td>\n",
              "      <td>False</td>\n",
              "      <td>False</td>\n",
              "      <td>False</td>\n",
              "      <td>False</td>\n",
              "      <td>False</td>\n",
              "      <td>False</td>\n",
              "      <td>False</td>\n",
              "      <td>False</td>\n",
              "      <td>False</td>\n",
              "      <td>False</td>\n",
              "      <td>False</td>\n",
              "      <td>False</td>\n",
              "      <td>False</td>\n",
              "      <td>False</td>\n",
              "    </tr>\n",
              "    <tr>\n",
              "      <th>21639</th>\n",
              "      <td>False</td>\n",
              "      <td>False</td>\n",
              "      <td>False</td>\n",
              "      <td>False</td>\n",
              "      <td>False</td>\n",
              "      <td>False</td>\n",
              "      <td>False</td>\n",
              "      <td>False</td>\n",
              "      <td>False</td>\n",
              "      <td>False</td>\n",
              "      <td>False</td>\n",
              "      <td>False</td>\n",
              "      <td>False</td>\n",
              "      <td>False</td>\n",
              "      <td>False</td>\n",
              "      <td>False</td>\n",
              "      <td>False</td>\n",
              "      <td>False</td>\n",
              "      <td>False</td>\n",
              "      <td>False</td>\n",
              "      <td>False</td>\n",
              "      <td>False</td>\n",
              "      <td>False</td>\n",
              "      <td>False</td>\n",
              "      <td>False</td>\n",
              "      <td>False</td>\n",
              "      <td>False</td>\n",
              "      <td>False</td>\n",
              "    </tr>\n",
              "    <tr>\n",
              "      <th>21640</th>\n",
              "      <td>False</td>\n",
              "      <td>False</td>\n",
              "      <td>False</td>\n",
              "      <td>False</td>\n",
              "      <td>False</td>\n",
              "      <td>False</td>\n",
              "      <td>False</td>\n",
              "      <td>False</td>\n",
              "      <td>False</td>\n",
              "      <td>False</td>\n",
              "      <td>False</td>\n",
              "      <td>False</td>\n",
              "      <td>False</td>\n",
              "      <td>False</td>\n",
              "      <td>False</td>\n",
              "      <td>False</td>\n",
              "      <td>False</td>\n",
              "      <td>False</td>\n",
              "      <td>False</td>\n",
              "      <td>False</td>\n",
              "      <td>False</td>\n",
              "      <td>False</td>\n",
              "      <td>False</td>\n",
              "      <td>False</td>\n",
              "      <td>False</td>\n",
              "      <td>False</td>\n",
              "      <td>False</td>\n",
              "      <td>False</td>\n",
              "    </tr>\n",
              "    <tr>\n",
              "      <th>21641</th>\n",
              "      <td>False</td>\n",
              "      <td>False</td>\n",
              "      <td>False</td>\n",
              "      <td>False</td>\n",
              "      <td>False</td>\n",
              "      <td>False</td>\n",
              "      <td>False</td>\n",
              "      <td>False</td>\n",
              "      <td>False</td>\n",
              "      <td>False</td>\n",
              "      <td>False</td>\n",
              "      <td>False</td>\n",
              "      <td>False</td>\n",
              "      <td>False</td>\n",
              "      <td>False</td>\n",
              "      <td>False</td>\n",
              "      <td>False</td>\n",
              "      <td>False</td>\n",
              "      <td>False</td>\n",
              "      <td>False</td>\n",
              "      <td>False</td>\n",
              "      <td>False</td>\n",
              "      <td>False</td>\n",
              "      <td>False</td>\n",
              "      <td>False</td>\n",
              "      <td>False</td>\n",
              "      <td>False</td>\n",
              "      <td>False</td>\n",
              "    </tr>\n",
              "    <tr>\n",
              "      <th>21642</th>\n",
              "      <td>False</td>\n",
              "      <td>False</td>\n",
              "      <td>False</td>\n",
              "      <td>False</td>\n",
              "      <td>False</td>\n",
              "      <td>False</td>\n",
              "      <td>False</td>\n",
              "      <td>False</td>\n",
              "      <td>False</td>\n",
              "      <td>False</td>\n",
              "      <td>False</td>\n",
              "      <td>False</td>\n",
              "      <td>False</td>\n",
              "      <td>False</td>\n",
              "      <td>False</td>\n",
              "      <td>False</td>\n",
              "      <td>False</td>\n",
              "      <td>False</td>\n",
              "      <td>False</td>\n",
              "      <td>False</td>\n",
              "      <td>False</td>\n",
              "      <td>False</td>\n",
              "      <td>False</td>\n",
              "      <td>False</td>\n",
              "      <td>False</td>\n",
              "      <td>False</td>\n",
              "      <td>False</td>\n",
              "      <td>False</td>\n",
              "    </tr>\n",
              "  </tbody>\n",
              "</table>\n",
              "<p>21643 rows × 28 columns</p>\n",
              "</div>"
            ],
            "text/plain": [
              "       TimeElapsed   time  territoryName  ...  Votes  Hondt  FinalMandates\n",
              "0            False  False          False  ...  False  False          False\n",
              "1            False  False          False  ...  False  False          False\n",
              "2            False  False          False  ...  False  False          False\n",
              "3            False  False          False  ...  False  False          False\n",
              "4            False  False          False  ...  False  False          False\n",
              "...            ...    ...            ...  ...    ...    ...            ...\n",
              "21638        False  False          False  ...  False  False          False\n",
              "21639        False  False          False  ...  False  False          False\n",
              "21640        False  False          False  ...  False  False          False\n",
              "21641        False  False          False  ...  False  False          False\n",
              "21642        False  False          False  ...  False  False          False\n",
              "\n",
              "[21643 rows x 28 columns]"
            ]
          },
          "metadata": {
            "tags": []
          },
          "execution_count": 4
        }
      ]
    },
    {
      "cell_type": "code",
      "metadata": {
        "id": "WO1fQuGw_P-k",
        "outputId": "5cb7346b-1806-4ce7-f633-6115ab115d47",
        "colab": {
          "base_uri": "https://localhost:8080/",
          "height": 388
        }
      },
      "source": [
        "# Visulalize the missing values in dataset \n",
        "sns.heatmap(df.isnull())"
      ],
      "execution_count": 5,
      "outputs": [
        {
          "output_type": "execute_result",
          "data": {
            "text/plain": [
              "<matplotlib.axes._subplots.AxesSubplot at 0x7ff98f3745c0>"
            ]
          },
          "metadata": {
            "tags": []
          },
          "execution_count": 5
        },
        {
          "output_type": "display_data",
          "data": {
            "image/png": "[encoded data removed]",
            "text/plain": [
              "<Figure size 432x288 with 2 Axes>"
            ]
          },
          "metadata": {
            "tags": [],
            "needs_background": "light"
          }
        }
      ]
    },
    {
      "cell_type": "markdown",
      "metadata": {
        "id": "4JIsdb87_P-s"
      },
      "source": [
        "'''No missing values are present in data set '''"
      ]
    },
    {
      "cell_type": "code",
      "metadata": {
        "id": "jn3ZM7ms_P-t",
        "outputId": "687a1793-b502-46c7-cd1c-8e9e1b62eb2c",
        "colab": {
          "base_uri": "https://localhost:8080/"
        }
      },
      "source": [
        "# Check the info\n",
        "df.info()"
      ],
      "execution_count": 6,
      "outputs": [
        {
          "output_type": "stream",
          "text": [
            "<class 'pandas.core.frame.DataFrame'>\n",
            "RangeIndex: 21643 entries, 0 to 21642\n",
            "Data columns (total 28 columns):\n",
            " #   Column                    Non-Null Count  Dtype  \n",
            "---  ------                    --------------  -----  \n",
            " 0   TimeElapsed               21643 non-null  int64  \n",
            " 1   time                      21643 non-null  object \n",
            " 2   territoryName             21643 non-null  object \n",
            " 3   totalMandates             21643 non-null  int64  \n",
            " 4   availableMandates         21643 non-null  int64  \n",
            " 5   numParishes               21643 non-null  int64  \n",
            " 6   numParishesApproved       21643 non-null  int64  \n",
            " 7   blankVotes                21643 non-null  int64  \n",
            " 8   blankVotesPercentage      21643 non-null  float64\n",
            " 9   nullVotes                 21643 non-null  int64  \n",
            " 10  nullVotesPercentage       21643 non-null  float64\n",
            " 11  votersPercentage          21643 non-null  float64\n",
            " 12  subscribedVoters          21643 non-null  int64  \n",
            " 13  totalVoters               21643 non-null  int64  \n",
            " 14  pre.blankVotes            21643 non-null  int64  \n",
            " 15  pre.blankVotesPercentage  21643 non-null  float64\n",
            " 16  pre.nullVotes             21643 non-null  int64  \n",
            " 17  pre.nullVotesPercentage   21643 non-null  float64\n",
            " 18  pre.votersPercentage      21643 non-null  float64\n",
            " 19  pre.subscribedVoters      21643 non-null  int64  \n",
            " 20  pre.totalVoters           21643 non-null  int64  \n",
            " 21  Party                     21643 non-null  object \n",
            " 22  Mandates                  21643 non-null  int64  \n",
            " 23  Percentage                21643 non-null  float64\n",
            " 24  validVotesPercentage      21643 non-null  float64\n",
            " 25  Votes                     21643 non-null  int64  \n",
            " 26  Hondt                     21643 non-null  int64  \n",
            " 27  FinalMandates             21643 non-null  int64  \n",
            "dtypes: float64(8), int64(17), object(3)\n",
            "memory usage: 4.6+ MB\n"
          ],
          "name": "stdout"
        }
      ]
    },
    {
      "cell_type": "code",
      "metadata": {
        "id": "bgH1CXvf_P-y",
        "outputId": "a1ad109e-4aca-4271-875e-133e7ace89b5",
        "colab": {
          "base_uri": "https://localhost:8080/"
        }
      },
      "source": [
        "# Check the uniqueness\n",
        "df.nunique()"
      ],
      "execution_count": 7,
      "outputs": [
        {
          "output_type": "execute_result",
          "data": {
            "text/plain": [
              "TimeElapsed                   54\n",
              "time                          54\n",
              "territoryName                 21\n",
              "totalMandates                 62\n",
              "availableMandates             69\n",
              "numParishes                   20\n",
              "numParishesApproved          219\n",
              "blankVotes                   329\n",
              "blankVotesPercentage         146\n",
              "nullVotes                    331\n",
              "nullVotesPercentage          107\n",
              "votersPercentage             282\n",
              "subscribedVoters             335\n",
              "totalVoters                  336\n",
              "pre.blankVotes               323\n",
              "pre.blankVotesPercentage     130\n",
              "pre.nullVotes                329\n",
              "pre.nullVotesPercentage       90\n",
              "pre.votersPercentage         278\n",
              "pre.subscribedVoters         331\n",
              "pre.totalVoters              331\n",
              "Party                         21\n",
              "Mandates                      67\n",
              "Percentage                  1363\n",
              "validVotesPercentage        1387\n",
              "Votes                       4029\n",
              "Hondt                         41\n",
              "FinalMandates                 17\n",
              "dtype: int64"
            ]
          },
          "metadata": {
            "tags": []
          },
          "execution_count": 7
        }
      ]
    },
    {
      "cell_type": "code",
      "metadata": {
        "id": "Kh_uF1EA_P-7",
        "outputId": "93da5406-b592-4442-9ef0-a25436202956",
        "colab": {
          "base_uri": "https://localhost:8080/",
          "height": 317
        }
      },
      "source": [
        "# Summary statistics\n",
        "df.describe()"
      ],
      "execution_count": 8,
      "outputs": [
        {
          "output_type": "execute_result",
          "data": {
            "text/html": [
              "<div>\n",
              "<style scoped>\n",
              "    .dataframe tbody tr th:only-of-type {\n",
              "        vertical-align: middle;\n",
              "    }\n",
              "\n",
              "    .dataframe tbody tr th {\n",
              "        vertical-align: top;\n",
              "    }\n",
              "\n",
              "    .dataframe thead th {\n",
              "        text-align: right;\n",
              "    }\n",
              "</style>\n",
              "<table border=\"1\" class=\"dataframe\">\n",
              "  <thead>\n",
              "    <tr style=\"text-align: right;\">\n",
              "      <th></th>\n",
              "      <th>TimeElapsed</th>\n",
              "      <th>totalMandates</th>\n",
              "      <th>availableMandates</th>\n",
              "      <th>numParishes</th>\n",
              "      <th>numParishesApproved</th>\n",
              "      <th>blankVotes</th>\n",
              "      <th>blankVotesPercentage</th>\n",
              "      <th>nullVotes</th>\n",
              "      <th>nullVotesPercentage</th>\n",
              "      <th>votersPercentage</th>\n",
              "      <th>subscribedVoters</th>\n",
              "      <th>totalVoters</th>\n",
              "      <th>pre.blankVotes</th>\n",
              "      <th>pre.blankVotesPercentage</th>\n",
              "      <th>pre.nullVotes</th>\n",
              "      <th>pre.nullVotesPercentage</th>\n",
              "      <th>pre.votersPercentage</th>\n",
              "      <th>pre.subscribedVoters</th>\n",
              "      <th>pre.totalVoters</th>\n",
              "      <th>Mandates</th>\n",
              "      <th>Percentage</th>\n",
              "      <th>validVotesPercentage</th>\n",
              "      <th>Votes</th>\n",
              "      <th>Hondt</th>\n",
              "      <th>FinalMandates</th>\n",
              "    </tr>\n",
              "  </thead>\n",
              "  <tbody>\n",
              "    <tr>\n",
              "      <th>count</th>\n",
              "      <td>21643.000000</td>\n",
              "      <td>21643.000000</td>\n",
              "      <td>21643.000000</td>\n",
              "      <td>21643.000000</td>\n",
              "      <td>21643.000000</td>\n",
              "      <td>21643.000000</td>\n",
              "      <td>21643.000000</td>\n",
              "      <td>21643.000000</td>\n",
              "      <td>21643.000000</td>\n",
              "      <td>21643.000000</td>\n",
              "      <td>2.164300e+04</td>\n",
              "      <td>2.164300e+04</td>\n",
              "      <td>21643.000000</td>\n",
              "      <td>21643.000000</td>\n",
              "      <td>21643.000000</td>\n",
              "      <td>21643.000000</td>\n",
              "      <td>21643.000000</td>\n",
              "      <td>2.164300e+04</td>\n",
              "      <td>2.164300e+04</td>\n",
              "      <td>21643.000000</td>\n",
              "      <td>21643.000000</td>\n",
              "      <td>21643.000000</td>\n",
              "      <td>2.164300e+04</td>\n",
              "      <td>21643.000000</td>\n",
              "      <td>21643.000000</td>\n",
              "    </tr>\n",
              "    <tr>\n",
              "      <th>mean</th>\n",
              "      <td>133.146052</td>\n",
              "      <td>11.544795</td>\n",
              "      <td>11.499284</td>\n",
              "      <td>309.956013</td>\n",
              "      <td>261.090237</td>\n",
              "      <td>8875.066673</td>\n",
              "      <td>2.621629</td>\n",
              "      <td>6148.068752</td>\n",
              "      <td>1.961471</td>\n",
              "      <td>51.983722</td>\n",
              "      <td>6.275367e+05</td>\n",
              "      <td>3.390741e+05</td>\n",
              "      <td>7608.001386</td>\n",
              "      <td>2.071985</td>\n",
              "      <td>5914.629950</td>\n",
              "      <td>1.777442</td>\n",
              "      <td>54.549372</td>\n",
              "      <td>6.378503e+05</td>\n",
              "      <td>3.594932e+05</td>\n",
              "      <td>0.565495</td>\n",
              "      <td>4.968484</td>\n",
              "      <td>5.207232</td>\n",
              "      <td>1.585209e+04</td>\n",
              "      <td>1.126138</td>\n",
              "      <td>1.126138</td>\n",
              "    </tr>\n",
              "    <tr>\n",
              "      <th>std</th>\n",
              "      <td>77.651193</td>\n",
              "      <td>31.314567</td>\n",
              "      <td>31.738783</td>\n",
              "      <td>659.055911</td>\n",
              "      <td>583.377428</td>\n",
              "      <td>21484.874088</td>\n",
              "      <td>0.795289</td>\n",
              "      <td>14735.469269</td>\n",
              "      <td>0.375250</td>\n",
              "      <td>4.854380</td>\n",
              "      <td>1.525590e+06</td>\n",
              "      <td>8.290404e+05</td>\n",
              "      <td>18493.107257</td>\n",
              "      <td>0.518025</td>\n",
              "      <td>14236.038023</td>\n",
              "      <td>0.388798</td>\n",
              "      <td>4.964948</td>\n",
              "      <td>1.544418e+06</td>\n",
              "      <td>8.763729e+05</td>\n",
              "      <td>4.421804</td>\n",
              "      <td>10.379967</td>\n",
              "      <td>10.881108</td>\n",
              "      <td>9.310605e+04</td>\n",
              "      <td>6.293552</td>\n",
              "      <td>6.872644</td>\n",
              "    </tr>\n",
              "    <tr>\n",
              "      <th>min</th>\n",
              "      <td>0.000000</td>\n",
              "      <td>0.000000</td>\n",
              "      <td>0.000000</td>\n",
              "      <td>54.000000</td>\n",
              "      <td>3.000000</td>\n",
              "      <td>19.000000</td>\n",
              "      <td>0.530000</td>\n",
              "      <td>39.000000</td>\n",
              "      <td>1.340000</td>\n",
              "      <td>35.980000</td>\n",
              "      <td>5.767000e+03</td>\n",
              "      <td>2.833000e+03</td>\n",
              "      <td>32.000000</td>\n",
              "      <td>0.800000</td>\n",
              "      <td>40.000000</td>\n",
              "      <td>1.140000</td>\n",
              "      <td>40.870000</td>\n",
              "      <td>6.383000e+03</td>\n",
              "      <td>3.215000e+03</td>\n",
              "      <td>0.000000</td>\n",
              "      <td>0.020000</td>\n",
              "      <td>0.020000</td>\n",
              "      <td>1.000000e+00</td>\n",
              "      <td>0.000000</td>\n",
              "      <td>0.000000</td>\n",
              "    </tr>\n",
              "    <tr>\n",
              "      <th>25%</th>\n",
              "      <td>65.000000</td>\n",
              "      <td>1.000000</td>\n",
              "      <td>0.000000</td>\n",
              "      <td>75.000000</td>\n",
              "      <td>67.000000</td>\n",
              "      <td>1188.000000</td>\n",
              "      <td>2.230000</td>\n",
              "      <td>1094.000000</td>\n",
              "      <td>1.720000</td>\n",
              "      <td>50.290000</td>\n",
              "      <td>1.229870e+05</td>\n",
              "      <td>6.267100e+04</td>\n",
              "      <td>1130.000000</td>\n",
              "      <td>1.740000</td>\n",
              "      <td>1124.000000</td>\n",
              "      <td>1.520000</td>\n",
              "      <td>51.210000</td>\n",
              "      <td>1.289260e+05</td>\n",
              "      <td>6.964400e+04</td>\n",
              "      <td>0.000000</td>\n",
              "      <td>0.220000</td>\n",
              "      <td>0.230000</td>\n",
              "      <td>2.360000e+02</td>\n",
              "      <td>0.000000</td>\n",
              "      <td>0.000000</td>\n",
              "    </tr>\n",
              "    <tr>\n",
              "      <th>50%</th>\n",
              "      <td>135.000000</td>\n",
              "      <td>4.000000</td>\n",
              "      <td>3.000000</td>\n",
              "      <td>147.000000</td>\n",
              "      <td>120.000000</td>\n",
              "      <td>2998.000000</td>\n",
              "      <td>2.640000</td>\n",
              "      <td>2232.000000</td>\n",
              "      <td>1.870000</td>\n",
              "      <td>53.130000</td>\n",
              "      <td>2.289540e+05</td>\n",
              "      <td>1.060120e+05</td>\n",
              "      <td>2595.000000</td>\n",
              "      <td>2.030000</td>\n",
              "      <td>2141.000000</td>\n",
              "      <td>1.690000</td>\n",
              "      <td>56.260000</td>\n",
              "      <td>2.284970e+05</td>\n",
              "      <td>1.102730e+05</td>\n",
              "      <td>0.000000</td>\n",
              "      <td>0.620000</td>\n",
              "      <td>0.650000</td>\n",
              "      <td>7.900000e+02</td>\n",
              "      <td>0.000000</td>\n",
              "      <td>0.000000</td>\n",
              "    </tr>\n",
              "    <tr>\n",
              "      <th>75%</th>\n",
              "      <td>200.000000</td>\n",
              "      <td>9.000000</td>\n",
              "      <td>9.000000</td>\n",
              "      <td>242.000000</td>\n",
              "      <td>208.000000</td>\n",
              "      <td>6889.000000</td>\n",
              "      <td>2.980000</td>\n",
              "      <td>4121.000000</td>\n",
              "      <td>2.230000</td>\n",
              "      <td>54.550000</td>\n",
              "      <td>3.804890e+05</td>\n",
              "      <td>2.069180e+05</td>\n",
              "      <td>5929.000000</td>\n",
              "      <td>2.370000</td>\n",
              "      <td>3967.000000</td>\n",
              "      <td>1.970000</td>\n",
              "      <td>58.220000</td>\n",
              "      <td>3.933140e+05</td>\n",
              "      <td>2.276200e+05</td>\n",
              "      <td>0.000000</td>\n",
              "      <td>3.010000</td>\n",
              "      <td>3.160000</td>\n",
              "      <td>4.510000e+03</td>\n",
              "      <td>0.000000</td>\n",
              "      <td>0.000000</td>\n",
              "    </tr>\n",
              "    <tr>\n",
              "      <th>max</th>\n",
              "      <td>265.000000</td>\n",
              "      <td>226.000000</td>\n",
              "      <td>226.000000</td>\n",
              "      <td>3092.000000</td>\n",
              "      <td>3092.000000</td>\n",
              "      <td>129599.000000</td>\n",
              "      <td>5.460000</td>\n",
              "      <td>88539.000000</td>\n",
              "      <td>3.350000</td>\n",
              "      <td>59.870000</td>\n",
              "      <td>9.343084e+06</td>\n",
              "      <td>5.092424e+06</td>\n",
              "      <td>112666.000000</td>\n",
              "      <td>3.660000</td>\n",
              "      <td>86473.000000</td>\n",
              "      <td>3.120000</td>\n",
              "      <td>62.580000</td>\n",
              "      <td>9.439701e+06</td>\n",
              "      <td>5.380451e+06</td>\n",
              "      <td>106.000000</td>\n",
              "      <td>49.110000</td>\n",
              "      <td>51.420000</td>\n",
              "      <td>1.866407e+06</td>\n",
              "      <td>94.000000</td>\n",
              "      <td>106.000000</td>\n",
              "    </tr>\n",
              "  </tbody>\n",
              "</table>\n",
              "</div>"
            ],
            "text/plain": [
              "        TimeElapsed  totalMandates  ...         Hondt  FinalMandates\n",
              "count  21643.000000   21643.000000  ...  21643.000000   21643.000000\n",
              "mean     133.146052      11.544795  ...      1.126138       1.126138\n",
              "std       77.651193      31.314567  ...      6.293552       6.872644\n",
              "min        0.000000       0.000000  ...      0.000000       0.000000\n",
              "25%       65.000000       1.000000  ...      0.000000       0.000000\n",
              "50%      135.000000       4.000000  ...      0.000000       0.000000\n",
              "75%      200.000000       9.000000  ...      0.000000       0.000000\n",
              "max      265.000000     226.000000  ...     94.000000     106.000000\n",
              "\n",
              "[8 rows x 25 columns]"
            ]
          },
          "metadata": {
            "tags": []
          },
          "execution_count": 8
        }
      ]
    },
    {
      "cell_type": "code",
      "metadata": {
        "id": "l7-blGbG_P_B",
        "outputId": "01622809-6321-4aaa-ee0d-b28e1dace9d4",
        "colab": {
          "base_uri": "https://localhost:8080/",
          "height": 313
        }
      },
      "source": [
        "# Dropping the TimeElapsed & the Time columns\n",
        "df = df.drop(['TimeElapsed','time'], axis = 1)\n",
        "\n",
        "# 1) Data Density Distribution Plots of Territory vs Voters\n",
        "d = df[df['Votes'] > 175000].sort_values('Votes', ascending=False)\n",
        "d = d.sample(frac = 1).reset_index(drop = True)\n",
        "d = d.head(30)\n",
        "\n",
        "plt.Figure(figsize = (20, 16))\n",
        "sns.set_style('darkgrid')\n",
        "\n",
        "p = sns.barplot(y = df['Votes'], x = df['territoryName'], data = df, palette = 'nipy_spectral')\n",
        "\n",
        "plt.ylabel('Votes')\n",
        "plt.xlabel('Territories')\n",
        "plt.xticks(rotation=90)\n",
        "plt.tight_layout()\n",
        "\n",
        "plt.title('Votes Distribution Plot')\n",
        "plt.show()"
      ],
      "execution_count": 9,
      "outputs": [
        {
          "output_type": "display_data",
          "data": {
            "image/png": "[encoded data removed]",
            "text/plain": [
              "<Figure size 432x288 with 1 Axes>"
            ]
          },
          "metadata": {
            "tags": []
          }
        }
      ]
    },
    {
      "cell_type": "markdown",
      "metadata": {
        "id": "woTBxWWk_P_J"
      },
      "source": [
        "# ENCODING"
      ]
    },
    {
      "cell_type": "code",
      "metadata": {
        "id": "2t_xd0cl_P_K"
      },
      "source": [
        "# Shuffling the dataframe\n",
        "df = df.sample(frac = 1).reset_index(drop = True)\n",
        "\n",
        "X = df.iloc[:, :-1].values\n",
        "y = df.iloc[:, -1].values\n",
        "\n",
        "# Encoding the territory column\n",
        "from sklearn.preprocessing import LabelEncoder, OneHotEncoder\n",
        "from sklearn.compose import ColumnTransformer\n",
        "\n",
        "lbl = LabelEncoder()\n",
        "\n",
        "X[:, 0] = lbl.fit_transform(X[:, 0])\n",
        "X[:, -6] = lbl.fit_transform(X[:, -6])\n",
        "\n",
        "ct = ColumnTransformer(transformers = [('one_hot_encoder', OneHotEncoder(categories = 'auto'), [0, -6])],\n",
        "                       remainder = 'passthrough')\n",
        "\n",
        "X = ct.fit_transform(X)\n",
        "\n",
        "X = X[:, 1:]"
      ],
      "execution_count": 10,
      "outputs": []
    },
    {
      "cell_type": "markdown",
      "metadata": {
        "id": "aAGUaDAf_P_O"
      },
      "source": [
        "### Spliting Train and Test for Machine Learning Models "
      ]
    },
    {
      "cell_type": "code",
      "metadata": {
        "id": "fJbvEpI1_P_P"
      },
      "source": [
        "# Splitting into training & testing datasets\n",
        "from sklearn.model_selection import train_test_split\n",
        "X_train, X_test, y_train, y_test = train_test_split(X, y, test_size = 0.2, random_state = 42)"
      ],
      "execution_count": 11,
      "outputs": []
    },
    {
      "cell_type": "markdown",
      "metadata": {
        "id": "wgxIb_5vB4S6"
      },
      "source": [
        "# **LINEAR REGRESSION**"
      ]
    },
    {
      "cell_type": "code",
      "metadata": {
        "id": "b-vtIz01B3AH",
        "outputId": "38665604-5305-43b3-e0ee-f9f55f1ecb6e",
        "colab": {
          "base_uri": "https://localhost:8080/"
        }
      },
      "source": [
        "from sklearn.metrics import mean_absolute_error\n",
        "from sklearn.metrics import mean_squared_error\n",
        "from sklearn.metrics import r2_score\n",
        "from sklearn import linear_model\n",
        "max_r_score = 0\n",
        "for r_state in range(42,100):\n",
        "    X_train,X_test,y_train,y_test = train_test_split(X,y,random_state = r_state,test_size = 0.20)\n",
        "    regr = linear_model.LinearRegression()\n",
        "    regr.fit(X_train,y_train)\n",
        "    y_pred = regr.predict(X_test)\n",
        "    r2_scr = r2_score(y_test,y_pred)\n",
        "    if r2_scr>max_r_score:\n",
        "        max_r_score = r2_scr\n",
        "        final_r_state = r_state \n",
        "print(\"max r2 score coressponding to\",final_r_state,\"is\",max_r_score)"
      ],
      "execution_count": 12,
      "outputs": [
        {
          "output_type": "stream",
          "text": [
            "max r2 score coressponding to 91 is 0.9947374458961362\n"
          ],
          "name": "stdout"
        }
      ]
    },
    {
      "cell_type": "markdown",
      "metadata": {
        "id": "4ZTbjCaLCje7"
      },
      "source": [
        "# Cross Validaton"
      ]
    },
    {
      "cell_type": "code",
      "metadata": {
        "id": "o9L3GcM1CbrM",
        "outputId": "5dee0bd2-5f0c-419a-e33c-08306c4eed3f",
        "colab": {
          "base_uri": "https://localhost:8080/"
        }
      },
      "source": [
        "from sklearn.model_selection import cross_val_score\n",
        "cross_val_score(linear_model.LinearRegression(),X,y,cv=10,scoring = \"r2\").mean()"
      ],
      "execution_count": 13,
      "outputs": [
        {
          "output_type": "execute_result",
          "data": {
            "text/plain": [
              "0.9928618765529565"
            ]
          },
          "metadata": {
            "tags": []
          },
          "execution_count": 13
        }
      ]
    },
    {
      "cell_type": "code",
      "metadata": {
        "id": "IDHILQLUCmfY"
      },
      "source": [
        "#max r2 score is 91\n",
        "X_train,X_test,y_train,y_test = train_test_split(X,y,random_state = 91,test_size=0.20)\n",
        "lreg = linear_model.LinearRegression()\n",
        "lreg.fit(X_train,y_train)\n",
        "y_pred = lreg.predict(X_test)"
      ],
      "execution_count": 25,
      "outputs": []
    },
    {
      "cell_type": "code",
      "metadata": {
        "id": "WrxMLBhSC5Qe",
        "outputId": "b08579e7-bd58-4177-f19f-2e82a214675d",
        "colab": {
          "base_uri": "https://localhost:8080/"
        }
      },
      "source": [
        "# Test Prediction \n",
        "from sklearn.metrics import r2_score\n",
        "from sklearn.metrics import mean_squared_error\n",
        "print(\"r2 score is : \",r2_score(y_test,y_pred))\n",
        "print(\"RMSE is :\",np.sqrt(mean_squared_error(y_test,y_pred)))"
      ],
      "execution_count": 26,
      "outputs": [
        {
          "output_type": "stream",
          "text": [
            "r2 score is :  0.9947374458961362\n",
            "RMSE is : 0.5405639744298114\n"
          ],
          "name": "stdout"
        }
      ]
    },
    {
      "cell_type": "markdown",
      "metadata": {
        "id": "cZ1BUgsQBrMz"
      },
      "source": [
        "## DECISION TREE REGRESSOR"
      ]
    },
    {
      "cell_type": "code",
      "metadata": {
        "id": "gKkaGQl-_P_T",
        "outputId": "d03c03fa-c7c6-4dc9-dc73-0bba1f243f8d",
        "colab": {
          "base_uri": "https://localhost:8080/"
        }
      },
      "source": [
        "from sklearn.tree import DecisionTreeRegressor\n",
        "regressor = DecisionTreeRegressor(random_state = 91)\n",
        "regressor.fit(X_train, y_train)"
      ],
      "execution_count": 27,
      "outputs": [
        {
          "output_type": "execute_result",
          "data": {
            "text/plain": [
              "DecisionTreeRegressor(ccp_alpha=0.0, criterion='mse', max_depth=None,\n",
              "                      max_features=None, max_leaf_nodes=None,\n",
              "                      min_impurity_decrease=0.0, min_impurity_split=None,\n",
              "                      min_samples_leaf=1, min_samples_split=2,\n",
              "                      min_weight_fraction_leaf=0.0, presort='deprecated',\n",
              "                      random_state=91, splitter='best')"
            ]
          },
          "metadata": {
            "tags": []
          },
          "execution_count": 27
        }
      ]
    },
    {
      "cell_type": "code",
      "metadata": {
        "id": "VF0Av_WrB0yd"
      },
      "source": [
        "# Predictions\n",
        "y_pred = regressor.predict(X_test)"
      ],
      "execution_count": 28,
      "outputs": []
    },
    {
      "cell_type": "code",
      "metadata": {
        "id": "hsISjv1REJ8l",
        "outputId": "f2b12582-e364-4859-da0f-7772f6132630",
        "colab": {
          "base_uri": "https://localhost:8080/"
        }
      },
      "source": [
        "from sklearn.metrics import mean_squared_error, r2_score, explained_variance_score\n",
        "r2_score = r2_score(y_test, y_pred)\n",
        "explained_variance_score = explained_variance_score(y_test, y_pred)\n",
        "mse = mean_squared_error(y_test, y_pred)\n",
        "\n",
        "print(\"\\nMean Squared Error: \", mse)\n",
        "print(\"\\nR2 Score: \", r2_score)\n",
        "print(\"\\nExplained Variance Score: \", explained_variance_score)"
      ],
      "execution_count": 29,
      "outputs": [
        {
          "output_type": "stream",
          "text": [
            "\n",
            "Mean Squared Error:  0.001155001155001155\n",
            "\n",
            "R2 Score:  0.9999791989722069\n",
            "\n",
            "Explained Variance Score:  0.9999792076212829\n"
          ],
          "name": "stdout"
        }
      ]
    },
    {
      "cell_type": "markdown",
      "metadata": {
        "id": "u9G5A4l6FGN4"
      },
      "source": [
        "## **RANDOM FOREST REGRESSOR**"
      ]
    },
    {
      "cell_type": "code",
      "metadata": {
        "id": "DJVwZv6oEQNB",
        "outputId": "e0150ee6-8900-4710-a6e4-6807353e1884",
        "colab": {
          "base_uri": "https://localhost:8080/"
        }
      },
      "source": [
        "#Build random forest using RandomForestRegressor\n",
        "from sklearn.ensemble import RandomForestRegressor\n",
        "rf_model = RandomForestRegressor(n_estimators = 500, random_state = 91).fit(X_train,y_train)\n",
        "\n",
        "#Perdict for test cases\n",
        "rf_predictions = rf_model.predict(X_test)\n",
        "\n",
        "#Create data frame for actual and predicted values\n",
        "df_rf = pd.DataFrame({'actual': y_test, 'pred': rf_predictions})\n",
        "print(df_rf.head())\n",
        "\n",
        "#Define function to calculate RMSE\n",
        "def RMSE(y_actual,y_predicted):\n",
        "    rmse = np.sqrt(mean_squared_error(y_actual,y_predicted))\n",
        "    return rmse\n",
        "\n",
        "#Calculate RMSE and R-squared value\n",
        "print(\"RMSE is :\",np.sqrt(mean_squared_error(y_test, rf_predictions)))\n",
        "print(\"\\nR2 Score: \", r2_score)"
      ],
      "execution_count": 30,
      "outputs": [
        {
          "output_type": "stream",
          "text": [
            "   actual  pred\n",
            "0       0   0.0\n",
            "1       0   0.0\n",
            "2       1   1.0\n",
            "3       0   0.0\n",
            "4       2   2.0\n",
            "RMSE is : 0.03860981075733844\n",
            "\n",
            "R2 Score:  0.9999791989722069\n"
          ],
          "name": "stdout"
        }
      ]
    },
    {
      "cell_type": "markdown",
      "metadata": {
        "id": "lZ8KsTmiHSrV"
      },
      "source": [
        "# **CONCLUSION**"
      ]
    },
    {
      "cell_type": "markdown",
      "metadata": {
        "id": "pfml7KHCHj_o"
      },
      "source": [
        "After doing Analysis it is clear  that Random Forest Regressor is best because R2 score is 99% and RMSE is 0.3 comparing to other models."
      ]
    },
    {
      "cell_type": "code",
      "metadata": {
        "id": "OUZ7zHqYFRt8",
        "outputId": "952aa9fa-1366-4b68-d7ca-930899296172",
        "colab": {
          "base_uri": "https://localhost:8080/"
        }
      },
      "source": [
        "# Save the model\n",
        "import joblib\n",
        "joblib.dump(rf_model,'election.pkl')"
      ],
      "execution_count": 31,
      "outputs": [
        {
          "output_type": "execute_result",
          "data": {
            "text/plain": [
              "['election.pkl']"
            ]
          },
          "metadata": {
            "tags": []
          },
          "execution_count": 31
        }
      ]
    }
  ]
}