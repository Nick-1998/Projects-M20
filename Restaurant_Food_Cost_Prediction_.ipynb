{
  "nbformat": 4,
  "nbformat_minor": 0,
  "metadata": {
    "kernelspec": {
      "display_name": "Python 3",
      "language": "python",
      "name": "python3"
    },
    "language_info": {
      "codemirror_mode": {
        "name": "ipython",
        "version": 3
      },
      "file_extension": ".py",
      "mimetype": "text/x-python",
      "name": "python",
      "nbconvert_exporter": "python",
      "pygments_lexer": "ipython3",
      "version": "3.8.3"
    },
    "colab": {
      "name": "Restaurant Food Cost Prediction .ipynb",
      "provenance": []
    }
  },
  "cells": [
    {
      "cell_type": "markdown",
      "metadata": {
        "id": "L2YsB5irt0E2"
      },
      "source": [
        "# Prediction of Restaurant Food Cost"
      ]
    },
    {
      "cell_type": "code",
      "metadata": {
        "id": "er44ua0Jt0E6"
      },
      "source": [
        "# Importing libarieries\n",
        "import pandas as pd\n",
        "import numpy as np\n",
        "import matplotlib.pyplot as plt\n",
        "import seaborn as sns\n",
        "import re\n",
        "from sklearn.metrics import mean_squared_error \n",
        "from sklearn.metrics import mean_absolute_error\n",
        "from sklearn.metrics import r2_score\n",
        "from sklearn import linear_model\n",
        "from sklearn.model_selection import GridSearchCV\n",
        "from sklearn.model_selection import RandomizedSearchCV\n",
        "from sklearn.neighbors import KNeighborsRegressor\n",
        "from sklearn.tree import DecisionTreeRegressor\n",
        "from sklearn.ensemble import RandomForestRegressor\n",
        "import lightgbm as lgb\n",
        "from sklearn.linear_model import Ridge\n",
        "from math import sqrt \n",
        "from sklearn.metrics import mean_squared_log_error\n",
        "import warnings\n",
        "warnings.filterwarnings('ignore')"
      ],
      "execution_count": 57,
      "outputs": []
    },
    {
      "cell_type": "code",
      "metadata": {
        "id": "qVPy5ibAwAcJ",
        "outputId": "6e5e6afd-d734-47e4-ba91-c321e05c05c3",
        "colab": {
          "resources": {
            "http://localhost:8080/nbextensions/google.colab/files.js": {
              "data": "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",
              "ok": true,
              "headers": [
                [
                  "content-type",
                  "application/javascript"
                ]
              ],
              "status": 200,
              "status_text": ""
            }
          },
          "base_uri": "https://localhost:8080/",
          "height": 107
        }
      },
      "source": [
        "from google.colab import files\n",
        "uploaded = files.upload()"
      ],
      "execution_count": 58,
      "outputs": [
        {
          "output_type": "display_data",
          "data": {
            "text/html": [
              "\n",
              "     <input type=\"file\" id=\"files-0a64773e-0e24-408c-9c5d-a41dd09aca93\" name=\"files[]\" multiple disabled\n",
              "        style=\"border:none\" />\n",
              "     <output id=\"result-0a64773e-0e24-408c-9c5d-a41dd09aca93\">\n",
              "      Upload widget is only available when the cell has been executed in the\n",
              "      current browser session. Please rerun this cell to enable.\n",
              "      </output>\n",
              "      <script src=\"/nbextensions/google.colab/files.js\"></script> "
            ],
            "text/plain": [
              "<IPython.core.display.HTML object>"
            ]
          },
          "metadata": {
            "tags": []
          }
        },
        {
          "output_type": "stream",
          "text": [
            "Saving food_test.csv to food_test (2).csv\n",
            "Saving food_train.csv to food_train (2).csv\n"
          ],
          "name": "stdout"
        }
      ]
    },
    {
      "cell_type": "code",
      "metadata": {
        "id": "EZoSUAF6t0Fp"
      },
      "source": [
        "# Read the data\n",
        "train = pd.read_csv('food_train.csv')\n",
        "test = pd.read_csv('food_test.csv')"
      ],
      "execution_count": 59,
      "outputs": []
    },
    {
      "cell_type": "code",
      "metadata": {
        "id": "a3sicMMit0F6",
        "outputId": "11628498-b8fe-4106-877b-8ace8a3d087e",
        "colab": {
          "base_uri": "https://localhost:8080/",
          "height": 221
        }
      },
      "source": [
        "display(train.head())\n",
        "display(train.shape)"
      ],
      "execution_count": 60,
      "outputs": [
        {
          "output_type": "display_data",
          "data": {
            "text/html": [
              "<div>\n",
              "<style scoped>\n",
              "    .dataframe tbody tr th:only-of-type {\n",
              "        vertical-align: middle;\n",
              "    }\n",
              "\n",
              "    .dataframe tbody tr th {\n",
              "        vertical-align: top;\n",
              "    }\n",
              "\n",
              "    .dataframe thead th {\n",
              "        text-align: right;\n",
              "    }\n",
              "</style>\n",
              "<table border=\"1\" class=\"dataframe\">\n",
              "  <thead>\n",
              "    <tr style=\"text-align: right;\">\n",
              "      <th></th>\n",
              "      <th>TITLE</th>\n",
              "      <th>RESTAURANT_ID</th>\n",
              "      <th>CUISINES</th>\n",
              "      <th>TIME</th>\n",
              "      <th>CITY</th>\n",
              "      <th>LOCALITY</th>\n",
              "      <th>RATING</th>\n",
              "      <th>VOTES</th>\n",
              "      <th>COST</th>\n",
              "    </tr>\n",
              "  </thead>\n",
              "  <tbody>\n",
              "    <tr>\n",
              "      <th>0</th>\n",
              "      <td>CASUAL DINING</td>\n",
              "      <td>9438</td>\n",
              "      <td>Malwani, Goan, North Indian</td>\n",
              "      <td>11am – 4pm, 7:30pm – 11:30pm (Mon-Sun)</td>\n",
              "      <td>Thane</td>\n",
              "      <td>Dombivali East</td>\n",
              "      <td>3.6</td>\n",
              "      <td>49 votes</td>\n",
              "      <td>1200</td>\n",
              "    </tr>\n",
              "    <tr>\n",
              "      <th>1</th>\n",
              "      <td>CASUAL DINING,BAR</td>\n",
              "      <td>13198</td>\n",
              "      <td>Asian, Modern Indian, Japanese</td>\n",
              "      <td>6pm – 11pm (Mon-Sun)</td>\n",
              "      <td>Chennai</td>\n",
              "      <td>Ramapuram</td>\n",
              "      <td>4.2</td>\n",
              "      <td>30 votes</td>\n",
              "      <td>1500</td>\n",
              "    </tr>\n",
              "    <tr>\n",
              "      <th>2</th>\n",
              "      <td>CASUAL DINING</td>\n",
              "      <td>10915</td>\n",
              "      <td>North Indian, Chinese, Biryani, Hyderabadi</td>\n",
              "      <td>11am – 3:30pm, 7pm – 11pm (Mon-Sun)</td>\n",
              "      <td>Chennai</td>\n",
              "      <td>Saligramam</td>\n",
              "      <td>3.8</td>\n",
              "      <td>221 votes</td>\n",
              "      <td>800</td>\n",
              "    </tr>\n",
              "    <tr>\n",
              "      <th>3</th>\n",
              "      <td>QUICK BITES</td>\n",
              "      <td>6346</td>\n",
              "      <td>Tibetan, Chinese</td>\n",
              "      <td>11:30am – 1am (Mon-Sun)</td>\n",
              "      <td>Mumbai</td>\n",
              "      <td>Bandra West</td>\n",
              "      <td>4.1</td>\n",
              "      <td>24 votes</td>\n",
              "      <td>800</td>\n",
              "    </tr>\n",
              "    <tr>\n",
              "      <th>4</th>\n",
              "      <td>DESSERT PARLOR</td>\n",
              "      <td>15387</td>\n",
              "      <td>Desserts</td>\n",
              "      <td>11am – 1am (Mon-Sun)</td>\n",
              "      <td>Mumbai</td>\n",
              "      <td>Lower Parel</td>\n",
              "      <td>3.8</td>\n",
              "      <td>165 votes</td>\n",
              "      <td>300</td>\n",
              "    </tr>\n",
              "  </tbody>\n",
              "</table>\n",
              "</div>"
            ],
            "text/plain": [
              "               TITLE  RESTAURANT_ID  ...      VOTES  COST\n",
              "0      CASUAL DINING           9438  ...   49 votes  1200\n",
              "1  CASUAL DINING,BAR          13198  ...   30 votes  1500\n",
              "2      CASUAL DINING          10915  ...  221 votes   800\n",
              "3        QUICK BITES           6346  ...   24 votes   800\n",
              "4     DESSERT PARLOR          15387  ...  165 votes   300\n",
              "\n",
              "[5 rows x 9 columns]"
            ]
          },
          "metadata": {
            "tags": []
          }
        },
        {
          "output_type": "display_data",
          "data": {
            "text/plain": [
              "(12690, 9)"
            ]
          },
          "metadata": {
            "tags": []
          }
        }
      ]
    },
    {
      "cell_type": "code",
      "metadata": {
        "id": "TQlDVBF2t0Gh",
        "outputId": "eab02a9b-013c-43d6-867a-d54b050a2b0f",
        "colab": {
          "base_uri": "https://localhost:8080/"
        }
      },
      "source": [
        "train.duplicated().sum(), test.duplicated().sum()"
      ],
      "execution_count": 61,
      "outputs": [
        {
          "output_type": "execute_result",
          "data": {
            "text/plain": [
              "(25, 1)"
            ]
          },
          "metadata": {
            "tags": []
          },
          "execution_count": 61
        }
      ]
    },
    {
      "cell_type": "code",
      "metadata": {
        "id": "TP6pzYFrt0Gs",
        "outputId": "b3380330-4d97-418a-fb98-c5f2f1151a7c",
        "colab": {
          "base_uri": "https://localhost:8080/",
          "height": 306
        }
      },
      "source": [
        "display(test.head())\n",
        "display(test.shape)"
      ],
      "execution_count": 62,
      "outputs": [
        {
          "output_type": "display_data",
          "data": {
            "text/html": [
              "<div>\n",
              "<style scoped>\n",
              "    .dataframe tbody tr th:only-of-type {\n",
              "        vertical-align: middle;\n",
              "    }\n",
              "\n",
              "    .dataframe tbody tr th {\n",
              "        vertical-align: top;\n",
              "    }\n",
              "\n",
              "    .dataframe thead th {\n",
              "        text-align: right;\n",
              "    }\n",
              "</style>\n",
              "<table border=\"1\" class=\"dataframe\">\n",
              "  <thead>\n",
              "    <tr style=\"text-align: right;\">\n",
              "      <th></th>\n",
              "      <th>TITLE</th>\n",
              "      <th>RESTAURANT_ID</th>\n",
              "      <th>CUISINES</th>\n",
              "      <th>TIME</th>\n",
              "      <th>CITY</th>\n",
              "      <th>LOCALITY</th>\n",
              "      <th>RATING</th>\n",
              "      <th>VOTES</th>\n",
              "    </tr>\n",
              "  </thead>\n",
              "  <tbody>\n",
              "    <tr>\n",
              "      <th>0</th>\n",
              "      <td>CASUAL DINING</td>\n",
              "      <td>4085</td>\n",
              "      <td>North Indian, Chinese, Mughlai, Kebab</td>\n",
              "      <td>12noon – 12midnight (Mon-Sun)</td>\n",
              "      <td>Noida</td>\n",
              "      <td>Sector 18</td>\n",
              "      <td>4.3</td>\n",
              "      <td>564 votes</td>\n",
              "    </tr>\n",
              "    <tr>\n",
              "      <th>1</th>\n",
              "      <td>QUICK BITES</td>\n",
              "      <td>12680</td>\n",
              "      <td>South Indian, Fast Food, Pizza, North Indian</td>\n",
              "      <td>7am – 12:30AM (Mon-Sun)</td>\n",
              "      <td>Mumbai</td>\n",
              "      <td>Grant Road</td>\n",
              "      <td>4.2</td>\n",
              "      <td>61 votes</td>\n",
              "    </tr>\n",
              "    <tr>\n",
              "      <th>2</th>\n",
              "      <td>CASUAL DINING</td>\n",
              "      <td>1411</td>\n",
              "      <td>North Indian, Seafood, Biryani, Chinese</td>\n",
              "      <td>11am – 11:30pm (Mon-Sun)</td>\n",
              "      <td>Mumbai</td>\n",
              "      <td>Marine Lines</td>\n",
              "      <td>3.8</td>\n",
              "      <td>350 votes</td>\n",
              "    </tr>\n",
              "    <tr>\n",
              "      <th>3</th>\n",
              "      <td>None</td>\n",
              "      <td>204</td>\n",
              "      <td>Biryani</td>\n",
              "      <td>9am – 10pm (Mon, Wed, Thu, Fri, Sat, Sun), 10:...</td>\n",
              "      <td>Faridabad</td>\n",
              "      <td>NIT</td>\n",
              "      <td>3.8</td>\n",
              "      <td>1445 votes</td>\n",
              "    </tr>\n",
              "    <tr>\n",
              "      <th>4</th>\n",
              "      <td>QUICK BITES</td>\n",
              "      <td>13453</td>\n",
              "      <td>South Indian, Kerala</td>\n",
              "      <td>11am – 10pm (Mon-Sun)</td>\n",
              "      <td>Kochi</td>\n",
              "      <td>Kaloor</td>\n",
              "      <td>3.6</td>\n",
              "      <td>23 votes</td>\n",
              "    </tr>\n",
              "  </tbody>\n",
              "</table>\n",
              "</div>"
            ],
            "text/plain": [
              "           TITLE  RESTAURANT_ID  ... RATING       VOTES\n",
              "0  CASUAL DINING           4085  ...    4.3   564 votes\n",
              "1    QUICK BITES          12680  ...    4.2    61 votes\n",
              "2  CASUAL DINING           1411  ...    3.8   350 votes\n",
              "3           None            204  ...    3.8  1445 votes\n",
              "4    QUICK BITES          13453  ...    3.6    23 votes\n",
              "\n",
              "[5 rows x 8 columns]"
            ]
          },
          "metadata": {
            "tags": []
          }
        },
        {
          "output_type": "display_data",
          "data": {
            "text/plain": [
              "(4231, 8)"
            ]
          },
          "metadata": {
            "tags": []
          }
        }
      ]
    },
    {
      "cell_type": "code",
      "metadata": {
        "id": "yWF8dv2Tt0G1",
        "outputId": "10612df3-3991-4b78-bb09-44b7fb63ed2e",
        "colab": {
          "base_uri": "https://localhost:8080/",
          "height": 221
        }
      },
      "source": [
        "# Combining the data\n",
        "df = train.append(test,ignore_index=True)\n",
        "display(df.head())\n",
        "display(df.shape)"
      ],
      "execution_count": 63,
      "outputs": [
        {
          "output_type": "display_data",
          "data": {
            "text/html": [
              "<div>\n",
              "<style scoped>\n",
              "    .dataframe tbody tr th:only-of-type {\n",
              "        vertical-align: middle;\n",
              "    }\n",
              "\n",
              "    .dataframe tbody tr th {\n",
              "        vertical-align: top;\n",
              "    }\n",
              "\n",
              "    .dataframe thead th {\n",
              "        text-align: right;\n",
              "    }\n",
              "</style>\n",
              "<table border=\"1\" class=\"dataframe\">\n",
              "  <thead>\n",
              "    <tr style=\"text-align: right;\">\n",
              "      <th></th>\n",
              "      <th>TITLE</th>\n",
              "      <th>RESTAURANT_ID</th>\n",
              "      <th>CUISINES</th>\n",
              "      <th>TIME</th>\n",
              "      <th>CITY</th>\n",
              "      <th>LOCALITY</th>\n",
              "      <th>RATING</th>\n",
              "      <th>VOTES</th>\n",
              "      <th>COST</th>\n",
              "    </tr>\n",
              "  </thead>\n",
              "  <tbody>\n",
              "    <tr>\n",
              "      <th>0</th>\n",
              "      <td>CASUAL DINING</td>\n",
              "      <td>9438</td>\n",
              "      <td>Malwani, Goan, North Indian</td>\n",
              "      <td>11am – 4pm, 7:30pm – 11:30pm (Mon-Sun)</td>\n",
              "      <td>Thane</td>\n",
              "      <td>Dombivali East</td>\n",
              "      <td>3.6</td>\n",
              "      <td>49 votes</td>\n",
              "      <td>1200.0</td>\n",
              "    </tr>\n",
              "    <tr>\n",
              "      <th>1</th>\n",
              "      <td>CASUAL DINING,BAR</td>\n",
              "      <td>13198</td>\n",
              "      <td>Asian, Modern Indian, Japanese</td>\n",
              "      <td>6pm – 11pm (Mon-Sun)</td>\n",
              "      <td>Chennai</td>\n",
              "      <td>Ramapuram</td>\n",
              "      <td>4.2</td>\n",
              "      <td>30 votes</td>\n",
              "      <td>1500.0</td>\n",
              "    </tr>\n",
              "    <tr>\n",
              "      <th>2</th>\n",
              "      <td>CASUAL DINING</td>\n",
              "      <td>10915</td>\n",
              "      <td>North Indian, Chinese, Biryani, Hyderabadi</td>\n",
              "      <td>11am – 3:30pm, 7pm – 11pm (Mon-Sun)</td>\n",
              "      <td>Chennai</td>\n",
              "      <td>Saligramam</td>\n",
              "      <td>3.8</td>\n",
              "      <td>221 votes</td>\n",
              "      <td>800.0</td>\n",
              "    </tr>\n",
              "    <tr>\n",
              "      <th>3</th>\n",
              "      <td>QUICK BITES</td>\n",
              "      <td>6346</td>\n",
              "      <td>Tibetan, Chinese</td>\n",
              "      <td>11:30am – 1am (Mon-Sun)</td>\n",
              "      <td>Mumbai</td>\n",
              "      <td>Bandra West</td>\n",
              "      <td>4.1</td>\n",
              "      <td>24 votes</td>\n",
              "      <td>800.0</td>\n",
              "    </tr>\n",
              "    <tr>\n",
              "      <th>4</th>\n",
              "      <td>DESSERT PARLOR</td>\n",
              "      <td>15387</td>\n",
              "      <td>Desserts</td>\n",
              "      <td>11am – 1am (Mon-Sun)</td>\n",
              "      <td>Mumbai</td>\n",
              "      <td>Lower Parel</td>\n",
              "      <td>3.8</td>\n",
              "      <td>165 votes</td>\n",
              "      <td>300.0</td>\n",
              "    </tr>\n",
              "  </tbody>\n",
              "</table>\n",
              "</div>"
            ],
            "text/plain": [
              "               TITLE  RESTAURANT_ID  ...      VOTES    COST\n",
              "0      CASUAL DINING           9438  ...   49 votes  1200.0\n",
              "1  CASUAL DINING,BAR          13198  ...   30 votes  1500.0\n",
              "2      CASUAL DINING          10915  ...  221 votes   800.0\n",
              "3        QUICK BITES           6346  ...   24 votes   800.0\n",
              "4     DESSERT PARLOR          15387  ...  165 votes   300.0\n",
              "\n",
              "[5 rows x 9 columns]"
            ]
          },
          "metadata": {
            "tags": []
          }
        },
        {
          "output_type": "display_data",
          "data": {
            "text/plain": [
              "(16921, 9)"
            ]
          },
          "metadata": {
            "tags": []
          }
        }
      ]
    },
    {
      "cell_type": "code",
      "metadata": {
        "id": "ASodlO_bt0HB",
        "outputId": "2457ca28-e0fd-453d-ad43-c18b851c00dc",
        "colab": {
          "base_uri": "https://localhost:8080/",
          "height": 204
        }
      },
      "source": [
        "# Rename the columns\n",
        "df = df.rename(columns={'TITLE':'title','RESTAURANT_ID':'id','CUISINES':'cuisines','TIME':'time','CITY':'city','LOCALITY':'locality','RATING':'rating','VOTES':'votes','COST':'cost'})\n",
        "df.head()"
      ],
      "execution_count": 64,
      "outputs": [
        {
          "output_type": "execute_result",
          "data": {
            "text/html": [
              "<div>\n",
              "<style scoped>\n",
              "    .dataframe tbody tr th:only-of-type {\n",
              "        vertical-align: middle;\n",
              "    }\n",
              "\n",
              "    .dataframe tbody tr th {\n",
              "        vertical-align: top;\n",
              "    }\n",
              "\n",
              "    .dataframe thead th {\n",
              "        text-align: right;\n",
              "    }\n",
              "</style>\n",
              "<table border=\"1\" class=\"dataframe\">\n",
              "  <thead>\n",
              "    <tr style=\"text-align: right;\">\n",
              "      <th></th>\n",
              "      <th>title</th>\n",
              "      <th>id</th>\n",
              "      <th>cuisines</th>\n",
              "      <th>time</th>\n",
              "      <th>city</th>\n",
              "      <th>locality</th>\n",
              "      <th>rating</th>\n",
              "      <th>votes</th>\n",
              "      <th>cost</th>\n",
              "    </tr>\n",
              "  </thead>\n",
              "  <tbody>\n",
              "    <tr>\n",
              "      <th>0</th>\n",
              "      <td>CASUAL DINING</td>\n",
              "      <td>9438</td>\n",
              "      <td>Malwani, Goan, North Indian</td>\n",
              "      <td>11am – 4pm, 7:30pm – 11:30pm (Mon-Sun)</td>\n",
              "      <td>Thane</td>\n",
              "      <td>Dombivali East</td>\n",
              "      <td>3.6</td>\n",
              "      <td>49 votes</td>\n",
              "      <td>1200.0</td>\n",
              "    </tr>\n",
              "    <tr>\n",
              "      <th>1</th>\n",
              "      <td>CASUAL DINING,BAR</td>\n",
              "      <td>13198</td>\n",
              "      <td>Asian, Modern Indian, Japanese</td>\n",
              "      <td>6pm – 11pm (Mon-Sun)</td>\n",
              "      <td>Chennai</td>\n",
              "      <td>Ramapuram</td>\n",
              "      <td>4.2</td>\n",
              "      <td>30 votes</td>\n",
              "      <td>1500.0</td>\n",
              "    </tr>\n",
              "    <tr>\n",
              "      <th>2</th>\n",
              "      <td>CASUAL DINING</td>\n",
              "      <td>10915</td>\n",
              "      <td>North Indian, Chinese, Biryani, Hyderabadi</td>\n",
              "      <td>11am – 3:30pm, 7pm – 11pm (Mon-Sun)</td>\n",
              "      <td>Chennai</td>\n",
              "      <td>Saligramam</td>\n",
              "      <td>3.8</td>\n",
              "      <td>221 votes</td>\n",
              "      <td>800.0</td>\n",
              "    </tr>\n",
              "    <tr>\n",
              "      <th>3</th>\n",
              "      <td>QUICK BITES</td>\n",
              "      <td>6346</td>\n",
              "      <td>Tibetan, Chinese</td>\n",
              "      <td>11:30am – 1am (Mon-Sun)</td>\n",
              "      <td>Mumbai</td>\n",
              "      <td>Bandra West</td>\n",
              "      <td>4.1</td>\n",
              "      <td>24 votes</td>\n",
              "      <td>800.0</td>\n",
              "    </tr>\n",
              "    <tr>\n",
              "      <th>4</th>\n",
              "      <td>DESSERT PARLOR</td>\n",
              "      <td>15387</td>\n",
              "      <td>Desserts</td>\n",
              "      <td>11am – 1am (Mon-Sun)</td>\n",
              "      <td>Mumbai</td>\n",
              "      <td>Lower Parel</td>\n",
              "      <td>3.8</td>\n",
              "      <td>165 votes</td>\n",
              "      <td>300.0</td>\n",
              "    </tr>\n",
              "  </tbody>\n",
              "</table>\n",
              "</div>"
            ],
            "text/plain": [
              "               title     id  ...      votes    cost\n",
              "0      CASUAL DINING   9438  ...   49 votes  1200.0\n",
              "1  CASUAL DINING,BAR  13198  ...   30 votes  1500.0\n",
              "2      CASUAL DINING  10915  ...  221 votes   800.0\n",
              "3        QUICK BITES   6346  ...   24 votes   800.0\n",
              "4     DESSERT PARLOR  15387  ...  165 votes   300.0\n",
              "\n",
              "[5 rows x 9 columns]"
            ]
          },
          "metadata": {
            "tags": []
          },
          "execution_count": 64
        }
      ]
    },
    {
      "cell_type": "code",
      "metadata": {
        "id": "DvmGGe_St0Hk",
        "outputId": "4dff3066-4075-4393-f056-8fa7b1bce329",
        "colab": {
          "base_uri": "https://localhost:8080/"
        }
      },
      "source": [
        "# Check the data types\n",
        "df.dtypes"
      ],
      "execution_count": 65,
      "outputs": [
        {
          "output_type": "execute_result",
          "data": {
            "text/plain": [
              "title        object\n",
              "id            int64\n",
              "cuisines     object\n",
              "time         object\n",
              "city         object\n",
              "locality     object\n",
              "rating       object\n",
              "votes        object\n",
              "cost        float64\n",
              "dtype: object"
            ]
          },
          "metadata": {
            "tags": []
          },
          "execution_count": 65
        }
      ]
    },
    {
      "cell_type": "code",
      "metadata": {
        "id": "U0B1Oa4Wt0Hu",
        "outputId": "b2665e45-b755-47df-fa8c-9076954282df",
        "colab": {
          "base_uri": "https://localhost:8080/",
          "height": 297
        }
      },
      "source": [
        "# Summary Statisitics\n",
        "df.describe()"
      ],
      "execution_count": 66,
      "outputs": [
        {
          "output_type": "execute_result",
          "data": {
            "text/html": [
              "<div>\n",
              "<style scoped>\n",
              "    .dataframe tbody tr th:only-of-type {\n",
              "        vertical-align: middle;\n",
              "    }\n",
              "\n",
              "    .dataframe tbody tr th {\n",
              "        vertical-align: top;\n",
              "    }\n",
              "\n",
              "    .dataframe thead th {\n",
              "        text-align: right;\n",
              "    }\n",
              "</style>\n",
              "<table border=\"1\" class=\"dataframe\">\n",
              "  <thead>\n",
              "    <tr style=\"text-align: right;\">\n",
              "      <th></th>\n",
              "      <th>id</th>\n",
              "      <th>cost</th>\n",
              "    </tr>\n",
              "  </thead>\n",
              "  <tbody>\n",
              "    <tr>\n",
              "      <th>count</th>\n",
              "      <td>16921.000000</td>\n",
              "      <td>12690.000000</td>\n",
              "    </tr>\n",
              "    <tr>\n",
              "      <th>mean</th>\n",
              "      <td>7767.211631</td>\n",
              "      <td>655.252246</td>\n",
              "    </tr>\n",
              "    <tr>\n",
              "      <th>std</th>\n",
              "      <td>4493.287626</td>\n",
              "      <td>627.003540</td>\n",
              "    </tr>\n",
              "    <tr>\n",
              "      <th>min</th>\n",
              "      <td>0.000000</td>\n",
              "      <td>20.000000</td>\n",
              "    </tr>\n",
              "    <tr>\n",
              "      <th>25%</th>\n",
              "      <td>3873.000000</td>\n",
              "      <td>300.000000</td>\n",
              "    </tr>\n",
              "    <tr>\n",
              "      <th>50%</th>\n",
              "      <td>7751.000000</td>\n",
              "      <td>500.000000</td>\n",
              "    </tr>\n",
              "    <tr>\n",
              "      <th>75%</th>\n",
              "      <td>11672.000000</td>\n",
              "      <td>800.000000</td>\n",
              "    </tr>\n",
              "    <tr>\n",
              "      <th>max</th>\n",
              "      <td>15573.000000</td>\n",
              "      <td>14000.000000</td>\n",
              "    </tr>\n",
              "  </tbody>\n",
              "</table>\n",
              "</div>"
            ],
            "text/plain": [
              "                 id          cost\n",
              "count  16921.000000  12690.000000\n",
              "mean    7767.211631    655.252246\n",
              "std     4493.287626    627.003540\n",
              "min        0.000000     20.000000\n",
              "25%     3873.000000    300.000000\n",
              "50%     7751.000000    500.000000\n",
              "75%    11672.000000    800.000000\n",
              "max    15573.000000  14000.000000"
            ]
          },
          "metadata": {
            "tags": []
          },
          "execution_count": 66
        }
      ]
    },
    {
      "cell_type": "code",
      "metadata": {
        "id": "qD1CK0Gdt0H1",
        "outputId": "4f5e9884-c2e6-4e1a-a3ce-a4e0357c69cb",
        "colab": {
          "base_uri": "https://localhost:8080/",
          "height": 173
        }
      },
      "source": [
        "df.describe(include = ['O'])"
      ],
      "execution_count": 67,
      "outputs": [
        {
          "output_type": "execute_result",
          "data": {
            "text/html": [
              "<div>\n",
              "<style scoped>\n",
              "    .dataframe tbody tr th:only-of-type {\n",
              "        vertical-align: middle;\n",
              "    }\n",
              "\n",
              "    .dataframe tbody tr th {\n",
              "        vertical-align: top;\n",
              "    }\n",
              "\n",
              "    .dataframe thead th {\n",
              "        text-align: right;\n",
              "    }\n",
              "</style>\n",
              "<table border=\"1\" class=\"dataframe\">\n",
              "  <thead>\n",
              "    <tr style=\"text-align: right;\">\n",
              "      <th></th>\n",
              "      <th>title</th>\n",
              "      <th>cuisines</th>\n",
              "      <th>time</th>\n",
              "      <th>city</th>\n",
              "      <th>locality</th>\n",
              "      <th>rating</th>\n",
              "      <th>votes</th>\n",
              "    </tr>\n",
              "  </thead>\n",
              "  <tbody>\n",
              "    <tr>\n",
              "      <th>count</th>\n",
              "      <td>16921</td>\n",
              "      <td>16921</td>\n",
              "      <td>16921</td>\n",
              "      <td>16774</td>\n",
              "      <td>16793</td>\n",
              "      <td>16917</td>\n",
              "      <td>15315</td>\n",
              "    </tr>\n",
              "    <tr>\n",
              "      <th>unique</th>\n",
              "      <td>123</td>\n",
              "      <td>5183</td>\n",
              "      <td>3295</td>\n",
              "      <td>450</td>\n",
              "      <td>1636</td>\n",
              "      <td>32</td>\n",
              "      <td>2075</td>\n",
              "    </tr>\n",
              "    <tr>\n",
              "      <th>top</th>\n",
              "      <td>QUICK BITES</td>\n",
              "      <td>North Indian</td>\n",
              "      <td>11am – 11pm (Mon-Sun)</td>\n",
              "      <td>Chennai</td>\n",
              "      <td>Gachibowli</td>\n",
              "      <td>3.9</td>\n",
              "      <td>44 votes</td>\n",
              "    </tr>\n",
              "    <tr>\n",
              "      <th>freq</th>\n",
              "      <td>5634</td>\n",
              "      <td>716</td>\n",
              "      <td>1862</td>\n",
              "      <td>2855</td>\n",
              "      <td>216</td>\n",
              "      <td>1643</td>\n",
              "      <td>92</td>\n",
              "    </tr>\n",
              "  </tbody>\n",
              "</table>\n",
              "</div>"
            ],
            "text/plain": [
              "              title      cuisines  ... rating     votes\n",
              "count         16921         16921  ...  16917     15315\n",
              "unique          123          5183  ...     32      2075\n",
              "top     QUICK BITES  North Indian  ...    3.9  44 votes\n",
              "freq           5634           716  ...   1643        92\n",
              "\n",
              "[4 rows x 7 columns]"
            ]
          },
          "metadata": {
            "tags": []
          },
          "execution_count": 67
        }
      ]
    },
    {
      "cell_type": "code",
      "metadata": {
        "id": "SQSk1nXozG02",
        "outputId": "7b1a265e-5585-4cc0-c679-3e7b509aa2f4",
        "colab": {
          "base_uri": "https://localhost:8080/",
          "height": 111
        }
      },
      "source": [
        "# Correaltion \n",
        "df.corr()"
      ],
      "execution_count": 68,
      "outputs": [
        {
          "output_type": "execute_result",
          "data": {
            "text/html": [
              "<div>\n",
              "<style scoped>\n",
              "    .dataframe tbody tr th:only-of-type {\n",
              "        vertical-align: middle;\n",
              "    }\n",
              "\n",
              "    .dataframe tbody tr th {\n",
              "        vertical-align: top;\n",
              "    }\n",
              "\n",
              "    .dataframe thead th {\n",
              "        text-align: right;\n",
              "    }\n",
              "</style>\n",
              "<table border=\"1\" class=\"dataframe\">\n",
              "  <thead>\n",
              "    <tr style=\"text-align: right;\">\n",
              "      <th></th>\n",
              "      <th>id</th>\n",
              "      <th>cost</th>\n",
              "    </tr>\n",
              "  </thead>\n",
              "  <tbody>\n",
              "    <tr>\n",
              "      <th>id</th>\n",
              "      <td>1.00000</td>\n",
              "      <td>0.04071</td>\n",
              "    </tr>\n",
              "    <tr>\n",
              "      <th>cost</th>\n",
              "      <td>0.04071</td>\n",
              "      <td>1.00000</td>\n",
              "    </tr>\n",
              "  </tbody>\n",
              "</table>\n",
              "</div>"
            ],
            "text/plain": [
              "           id     cost\n",
              "id    1.00000  0.04071\n",
              "cost  0.04071  1.00000"
            ]
          },
          "metadata": {
            "tags": []
          },
          "execution_count": 68
        }
      ]
    },
    {
      "cell_type": "code",
      "metadata": {
        "id": "ACq1d-6Rt0IB"
      },
      "source": [
        "# Data preprocessing"
      ],
      "execution_count": 69,
      "outputs": []
    },
    {
      "cell_type": "code",
      "metadata": {
        "id": "55YMVLKvt0Ih"
      },
      "source": [
        "df = df[['title', 'cuisines', 'time', 'city', 'locality', 'rating', 'votes', 'cost']]"
      ],
      "execution_count": 70,
      "outputs": []
    },
    {
      "cell_type": "code",
      "metadata": {
        "id": "S2ltBCj8t0Is"
      },
      "source": [
        "def extract_closed(time):\n",
        "    a = re.findall('Closed \\(.*?\\)', time)\n",
        "    if a != []:\n",
        "        return a[0]\n",
        "    else:\n",
        "        return 'NA'\n",
        "\n",
        "df['closed'] = df['time'].apply(extract_closed)"
      ],
      "execution_count": 71,
      "outputs": []
    },
    {
      "cell_type": "code",
      "metadata": {
        "id": "b1jSUa5bt0I0"
      },
      "source": [
        "df['time'] = df['time'].str.replace(r'Closed \\(.*?\\)','')"
      ],
      "execution_count": 72,
      "outputs": []
    },
    {
      "cell_type": "code",
      "metadata": {
        "id": "HFZBWnk_t0I-"
      },
      "source": [
        "df['rating'] = df['rating'].str.replace('NEW', '1')\n",
        "df['rating'] = df['rating'].str.replace('-', '1').astype(float)"
      ],
      "execution_count": 73,
      "outputs": []
    },
    {
      "cell_type": "code",
      "metadata": {
        "id": "_CHazFket0Jt"
      },
      "source": [
        "df['votes'] = df['votes'].str.replace(' votes', '').astype(float)"
      ],
      "execution_count": 74,
      "outputs": []
    },
    {
      "cell_type": "code",
      "metadata": {
        "id": "pWXBm1UHt0J3"
      },
      "source": [
        "df['city'].fillna('Missing', inplace=True)  \n",
        "df['locality'].fillna('Missing', inplace=True)  \n",
        "df['rating'].fillna(3.8, inplace=True)  \n",
        "df['votes'].fillna(0.0, inplace=True)"
      ],
      "execution_count": 75,
      "outputs": []
    },
    {
      "cell_type": "code",
      "metadata": {
        "id": "BlXXOkKdt0J-"
      },
      "source": [
        "df['cost'] = df['cost'].astype(float)"
      ],
      "execution_count": 76,
      "outputs": []
    },
    {
      "cell_type": "code",
      "metadata": {
        "id": "xmajncoat0KI",
        "outputId": "aeda327e-3645-4710-fb04-8ec809eac919",
        "colab": {
          "base_uri": "https://localhost:8080/",
          "height": 145
        }
      },
      "source": [
        "df.head(2)"
      ],
      "execution_count": 77,
      "outputs": [
        {
          "output_type": "execute_result",
          "data": {
            "text/html": [
              "<div>\n",
              "<style scoped>\n",
              "    .dataframe tbody tr th:only-of-type {\n",
              "        vertical-align: middle;\n",
              "    }\n",
              "\n",
              "    .dataframe tbody tr th {\n",
              "        vertical-align: top;\n",
              "    }\n",
              "\n",
              "    .dataframe thead th {\n",
              "        text-align: right;\n",
              "    }\n",
              "</style>\n",
              "<table border=\"1\" class=\"dataframe\">\n",
              "  <thead>\n",
              "    <tr style=\"text-align: right;\">\n",
              "      <th></th>\n",
              "      <th>title</th>\n",
              "      <th>cuisines</th>\n",
              "      <th>time</th>\n",
              "      <th>city</th>\n",
              "      <th>locality</th>\n",
              "      <th>rating</th>\n",
              "      <th>votes</th>\n",
              "      <th>cost</th>\n",
              "      <th>closed</th>\n",
              "    </tr>\n",
              "  </thead>\n",
              "  <tbody>\n",
              "    <tr>\n",
              "      <th>0</th>\n",
              "      <td>CASUAL DINING</td>\n",
              "      <td>Malwani, Goan, North Indian</td>\n",
              "      <td>11am – 4pm, 7:30pm – 11:30pm (Mon-Sun)</td>\n",
              "      <td>Thane</td>\n",
              "      <td>Dombivali East</td>\n",
              "      <td>3.6</td>\n",
              "      <td>49.0</td>\n",
              "      <td>1200.0</td>\n",
              "      <td>NA</td>\n",
              "    </tr>\n",
              "    <tr>\n",
              "      <th>1</th>\n",
              "      <td>CASUAL DINING,BAR</td>\n",
              "      <td>Asian, Modern Indian, Japanese</td>\n",
              "      <td>6pm – 11pm (Mon-Sun)</td>\n",
              "      <td>Chennai</td>\n",
              "      <td>Ramapuram</td>\n",
              "      <td>4.2</td>\n",
              "      <td>30.0</td>\n",
              "      <td>1500.0</td>\n",
              "      <td>NA</td>\n",
              "    </tr>\n",
              "  </tbody>\n",
              "</table>\n",
              "</div>"
            ],
            "text/plain": [
              "               title                        cuisines  ...    cost closed\n",
              "0      CASUAL DINING     Malwani, Goan, North Indian  ...  1200.0     NA\n",
              "1  CASUAL DINING,BAR  Asian, Modern Indian, Japanese  ...  1500.0     NA\n",
              "\n",
              "[2 rows x 9 columns]"
            ]
          },
          "metadata": {
            "tags": []
          },
          "execution_count": 77
        }
      ]
    },
    {
      "cell_type": "code",
      "metadata": {
        "id": "N_3N7zz1t0Kq",
        "outputId": "e3b57eb5-5529-4423-806f-025f194afc42",
        "colab": {
          "base_uri": "https://localhost:8080/"
        }
      },
      "source": [
        "df['title'].nunique(), df['cuisines'].nunique()"
      ],
      "execution_count": 78,
      "outputs": [
        {
          "output_type": "execute_result",
          "data": {
            "text/plain": [
              "(123, 5183)"
            ]
          },
          "metadata": {
            "tags": []
          },
          "execution_count": 78
        }
      ]
    },
    {
      "cell_type": "code",
      "metadata": {
        "id": "2VbW3D-At0K7"
      },
      "source": [
        "calc_mean = df.groupby(['city'], axis=0).agg({'rating': 'mean'}).reset_index()\n",
        "calc_mean.columns = ['city','city_mean_rating']\n",
        "df = df.merge(calc_mean, on=['city'],how='left')\n",
        "\n",
        "calc_mean = df.groupby(['locality'], axis=0).agg({'rating': 'mean'}).reset_index()\n",
        "calc_mean.columns = ['locality','locality_mean_rating']\n",
        "df = df.merge(calc_mean, on=['locality'],how='left')"
      ],
      "execution_count": 79,
      "outputs": []
    },
    {
      "cell_type": "code",
      "metadata": {
        "id": "Y8M8nLqdt0LC",
        "outputId": "4c7e60f1-df0f-4fb7-c744-e1db7c1626c5",
        "colab": {
          "base_uri": "https://localhost:8080/",
          "height": 289
        }
      },
      "source": [
        "df.head()"
      ],
      "execution_count": 80,
      "outputs": [
        {
          "output_type": "execute_result",
          "data": {
            "text/html": [
              "<div>\n",
              "<style scoped>\n",
              "    .dataframe tbody tr th:only-of-type {\n",
              "        vertical-align: middle;\n",
              "    }\n",
              "\n",
              "    .dataframe tbody tr th {\n",
              "        vertical-align: top;\n",
              "    }\n",
              "\n",
              "    .dataframe thead th {\n",
              "        text-align: right;\n",
              "    }\n",
              "</style>\n",
              "<table border=\"1\" class=\"dataframe\">\n",
              "  <thead>\n",
              "    <tr style=\"text-align: right;\">\n",
              "      <th></th>\n",
              "      <th>title</th>\n",
              "      <th>cuisines</th>\n",
              "      <th>time</th>\n",
              "      <th>city</th>\n",
              "      <th>locality</th>\n",
              "      <th>rating</th>\n",
              "      <th>votes</th>\n",
              "      <th>cost</th>\n",
              "      <th>closed</th>\n",
              "      <th>city_mean_rating</th>\n",
              "      <th>locality_mean_rating</th>\n",
              "    </tr>\n",
              "  </thead>\n",
              "  <tbody>\n",
              "    <tr>\n",
              "      <th>0</th>\n",
              "      <td>CASUAL DINING</td>\n",
              "      <td>Malwani, Goan, North Indian</td>\n",
              "      <td>11am – 4pm, 7:30pm – 11:30pm (Mon-Sun)</td>\n",
              "      <td>Thane</td>\n",
              "      <td>Dombivali East</td>\n",
              "      <td>3.6</td>\n",
              "      <td>49.0</td>\n",
              "      <td>1200.0</td>\n",
              "      <td>NA</td>\n",
              "      <td>3.376271</td>\n",
              "      <td>3.388889</td>\n",
              "    </tr>\n",
              "    <tr>\n",
              "      <th>1</th>\n",
              "      <td>CASUAL DINING,BAR</td>\n",
              "      <td>Asian, Modern Indian, Japanese</td>\n",
              "      <td>6pm – 11pm (Mon-Sun)</td>\n",
              "      <td>Chennai</td>\n",
              "      <td>Ramapuram</td>\n",
              "      <td>4.2</td>\n",
              "      <td>30.0</td>\n",
              "      <td>1500.0</td>\n",
              "      <td>NA</td>\n",
              "      <td>3.584588</td>\n",
              "      <td>3.472222</td>\n",
              "    </tr>\n",
              "    <tr>\n",
              "      <th>2</th>\n",
              "      <td>CASUAL DINING</td>\n",
              "      <td>North Indian, Chinese, Biryani, Hyderabadi</td>\n",
              "      <td>11am – 3:30pm, 7pm – 11pm (Mon-Sun)</td>\n",
              "      <td>Chennai</td>\n",
              "      <td>Saligramam</td>\n",
              "      <td>3.8</td>\n",
              "      <td>221.0</td>\n",
              "      <td>800.0</td>\n",
              "      <td>NA</td>\n",
              "      <td>3.584588</td>\n",
              "      <td>3.550000</td>\n",
              "    </tr>\n",
              "    <tr>\n",
              "      <th>3</th>\n",
              "      <td>QUICK BITES</td>\n",
              "      <td>Tibetan, Chinese</td>\n",
              "      <td>11:30am – 1am (Mon-Sun)</td>\n",
              "      <td>Mumbai</td>\n",
              "      <td>Bandra West</td>\n",
              "      <td>4.1</td>\n",
              "      <td>24.0</td>\n",
              "      <td>800.0</td>\n",
              "      <td>NA</td>\n",
              "      <td>3.697880</td>\n",
              "      <td>3.721622</td>\n",
              "    </tr>\n",
              "    <tr>\n",
              "      <th>4</th>\n",
              "      <td>DESSERT PARLOR</td>\n",
              "      <td>Desserts</td>\n",
              "      <td>11am – 1am (Mon-Sun)</td>\n",
              "      <td>Mumbai</td>\n",
              "      <td>Lower Parel</td>\n",
              "      <td>3.8</td>\n",
              "      <td>165.0</td>\n",
              "      <td>300.0</td>\n",
              "      <td>NA</td>\n",
              "      <td>3.697880</td>\n",
              "      <td>3.986420</td>\n",
              "    </tr>\n",
              "  </tbody>\n",
              "</table>\n",
              "</div>"
            ],
            "text/plain": [
              "               title  ... locality_mean_rating\n",
              "0      CASUAL DINING  ...             3.388889\n",
              "1  CASUAL DINING,BAR  ...             3.472222\n",
              "2      CASUAL DINING  ...             3.550000\n",
              "3        QUICK BITES  ...             3.721622\n",
              "4     DESSERT PARLOR  ...             3.986420\n",
              "\n",
              "[5 rows x 11 columns]"
            ]
          },
          "metadata": {
            "tags": []
          },
          "execution_count": 80
        }
      ]
    },
    {
      "cell_type": "code",
      "metadata": {
        "id": "DBz5BD4Yt0LL",
        "outputId": "b54da243-6a6a-4d03-8079-a9f5070938b6",
        "colab": {
          "base_uri": "https://localhost:8080/",
          "height": 296
        }
      },
      "source": [
        "# Check theoutliers\n",
        "sns.boxplot(df['cost'])"
      ],
      "execution_count": 81,
      "outputs": [
        {
          "output_type": "execute_result",
          "data": {
            "text/plain": [
              "<matplotlib.axes._subplots.AxesSubplot at 0x7f385d346278>"
            ]
          },
          "metadata": {
            "tags": []
          },
          "execution_count": 81
        },
        {
          "output_type": "display_data",
          "data": {
            "image/png": "[encoded data removed]",
            "text/plain": [
              "<Figure size 432x288 with 1 Axes>"
            ]
          },
          "metadata": {
            "tags": [],
            "needs_background": "light"
          }
        }
      ]
    },
    {
      "cell_type": "code",
      "metadata": {
        "id": "jVYY0shXt0L0"
      },
      "source": [
        "from sklearn.feature_extraction.text import TfidfVectorizer\n",
        "tf1 = TfidfVectorizer(ngram_range=(1, 1), lowercase=True)\n",
        "df_title = tf1.fit_transform(df['title'])\n",
        "df_title = pd.DataFrame(data=df_title.toarray(), columns=tf1.get_feature_names())\n",
        "\n",
        "tf2 = TfidfVectorizer(ngram_range=(1, 1), lowercase=True)\n",
        "df_cuisines = tf2.fit_transform(df['cuisines'])\n",
        "df_cuisines = pd.DataFrame(data=df_cuisines.toarray(), columns=tf2.get_feature_names())\n",
        "\n",
        "tf3 = TfidfVectorizer(ngram_range=(1, 1), lowercase=True)\n",
        "df_city = tf3.fit_transform(df['city'])\n",
        "df_city = pd.DataFrame(data=df_city.toarray(), columns=tf3.get_feature_names())\n",
        "\n",
        "tf4 = TfidfVectorizer(ngram_range=(1, 1), lowercase=True)\n",
        "df_locality = tf4.fit_transform(df['locality'])\n",
        "df_locality = pd.DataFrame(data=df_locality.toarray(), columns=tf4.get_feature_names())\n",
        "\n",
        "tf5 = TfidfVectorizer(ngram_range=(1, 1), lowercase=True)\n",
        "df_time = tf5.fit_transform(df['time'])\n",
        "df_time = pd.DataFrame(data=df_time.toarray(), columns=tf5.get_feature_names())"
      ],
      "execution_count": 82,
      "outputs": []
    },
    {
      "cell_type": "code",
      "metadata": {
        "id": "BQTxsoEXt0L_",
        "outputId": "df3bae7b-f9f4-4731-bdfc-697ca0e88580",
        "colab": {
          "base_uri": "https://localhost:8080/",
          "height": 289
        }
      },
      "source": [
        "df.head()"
      ],
      "execution_count": 83,
      "outputs": [
        {
          "output_type": "execute_result",
          "data": {
            "text/html": [
              "<div>\n",
              "<style scoped>\n",
              "    .dataframe tbody tr th:only-of-type {\n",
              "        vertical-align: middle;\n",
              "    }\n",
              "\n",
              "    .dataframe tbody tr th {\n",
              "        vertical-align: top;\n",
              "    }\n",
              "\n",
              "    .dataframe thead th {\n",
              "        text-align: right;\n",
              "    }\n",
              "</style>\n",
              "<table border=\"1\" class=\"dataframe\">\n",
              "  <thead>\n",
              "    <tr style=\"text-align: right;\">\n",
              "      <th></th>\n",
              "      <th>title</th>\n",
              "      <th>cuisines</th>\n",
              "      <th>time</th>\n",
              "      <th>city</th>\n",
              "      <th>locality</th>\n",
              "      <th>rating</th>\n",
              "      <th>votes</th>\n",
              "      <th>cost</th>\n",
              "      <th>closed</th>\n",
              "      <th>city_mean_rating</th>\n",
              "      <th>locality_mean_rating</th>\n",
              "    </tr>\n",
              "  </thead>\n",
              "  <tbody>\n",
              "    <tr>\n",
              "      <th>0</th>\n",
              "      <td>CASUAL DINING</td>\n",
              "      <td>Malwani, Goan, North Indian</td>\n",
              "      <td>11am – 4pm, 7:30pm – 11:30pm (Mon-Sun)</td>\n",
              "      <td>Thane</td>\n",
              "      <td>Dombivali East</td>\n",
              "      <td>3.6</td>\n",
              "      <td>49.0</td>\n",
              "      <td>1200.0</td>\n",
              "      <td>NA</td>\n",
              "      <td>3.376271</td>\n",
              "      <td>3.388889</td>\n",
              "    </tr>\n",
              "    <tr>\n",
              "      <th>1</th>\n",
              "      <td>CASUAL DINING,BAR</td>\n",
              "      <td>Asian, Modern Indian, Japanese</td>\n",
              "      <td>6pm – 11pm (Mon-Sun)</td>\n",
              "      <td>Chennai</td>\n",
              "      <td>Ramapuram</td>\n",
              "      <td>4.2</td>\n",
              "      <td>30.0</td>\n",
              "      <td>1500.0</td>\n",
              "      <td>NA</td>\n",
              "      <td>3.584588</td>\n",
              "      <td>3.472222</td>\n",
              "    </tr>\n",
              "    <tr>\n",
              "      <th>2</th>\n",
              "      <td>CASUAL DINING</td>\n",
              "      <td>North Indian, Chinese, Biryani, Hyderabadi</td>\n",
              "      <td>11am – 3:30pm, 7pm – 11pm (Mon-Sun)</td>\n",
              "      <td>Chennai</td>\n",
              "      <td>Saligramam</td>\n",
              "      <td>3.8</td>\n",
              "      <td>221.0</td>\n",
              "      <td>800.0</td>\n",
              "      <td>NA</td>\n",
              "      <td>3.584588</td>\n",
              "      <td>3.550000</td>\n",
              "    </tr>\n",
              "    <tr>\n",
              "      <th>3</th>\n",
              "      <td>QUICK BITES</td>\n",
              "      <td>Tibetan, Chinese</td>\n",
              "      <td>11:30am – 1am (Mon-Sun)</td>\n",
              "      <td>Mumbai</td>\n",
              "      <td>Bandra West</td>\n",
              "      <td>4.1</td>\n",
              "      <td>24.0</td>\n",
              "      <td>800.0</td>\n",
              "      <td>NA</td>\n",
              "      <td>3.697880</td>\n",
              "      <td>3.721622</td>\n",
              "    </tr>\n",
              "    <tr>\n",
              "      <th>4</th>\n",
              "      <td>DESSERT PARLOR</td>\n",
              "      <td>Desserts</td>\n",
              "      <td>11am – 1am (Mon-Sun)</td>\n",
              "      <td>Mumbai</td>\n",
              "      <td>Lower Parel</td>\n",
              "      <td>3.8</td>\n",
              "      <td>165.0</td>\n",
              "      <td>300.0</td>\n",
              "      <td>NA</td>\n",
              "      <td>3.697880</td>\n",
              "      <td>3.986420</td>\n",
              "    </tr>\n",
              "  </tbody>\n",
              "</table>\n",
              "</div>"
            ],
            "text/plain": [
              "               title  ... locality_mean_rating\n",
              "0      CASUAL DINING  ...             3.388889\n",
              "1  CASUAL DINING,BAR  ...             3.472222\n",
              "2      CASUAL DINING  ...             3.550000\n",
              "3        QUICK BITES  ...             3.721622\n",
              "4     DESSERT PARLOR  ...             3.986420\n",
              "\n",
              "[5 rows x 11 columns]"
            ]
          },
          "metadata": {
            "tags": []
          },
          "execution_count": 83
        }
      ]
    },
    {
      "cell_type": "code",
      "metadata": {
        "id": "g8GI_er2t0MK"
      },
      "source": [
        "# Remove unused columns"
      ],
      "execution_count": 84,
      "outputs": []
    },
    {
      "cell_type": "code",
      "metadata": {
        "id": "w8_6QfFGt0MU"
      },
      "source": [
        "df = pd.concat([df, df_title, df_cuisines, df_city, df_locality, df_time], axis=1) \n",
        "df.drop(['title', 'cuisines', 'city', 'locality', 'time'], axis=1, inplace=True)"
      ],
      "execution_count": 85,
      "outputs": []
    },
    {
      "cell_type": "code",
      "metadata": {
        "id": "GrHTL8-Wt0M3"
      },
      "source": [
        "df = pd.get_dummies(df, columns=['closed'], drop_first=True)"
      ],
      "execution_count": 86,
      "outputs": []
    },
    {
      "cell_type": "code",
      "metadata": {
        "id": "YktCVJqVt0M-",
        "outputId": "c9e0bdf7-6d70-4bec-c046-24d05d640577",
        "colab": {
          "base_uri": "https://localhost:8080/"
        }
      },
      "source": [
        "df.shape"
      ],
      "execution_count": 87,
      "outputs": [
        {
          "output_type": "execute_result",
          "data": {
            "text/plain": [
              "(16921, 2339)"
            ]
          },
          "metadata": {
            "tags": []
          },
          "execution_count": 87
        }
      ]
    },
    {
      "cell_type": "code",
      "metadata": {
        "id": "9VJFK667t0NE"
      },
      "source": [
        "train_df = df[df['cost'].isnull()!=True]\n",
        "test_df = df[df['cost'].isnull()==True]\n",
        "test_df.drop('cost', axis=1, inplace=True)"
      ],
      "execution_count": 88,
      "outputs": []
    },
    {
      "cell_type": "code",
      "metadata": {
        "id": "zObvUXP8t0NM",
        "outputId": "df3bd472-6060-45e6-8c59-57ae11d8304d",
        "colab": {
          "base_uri": "https://localhost:8080/"
        }
      },
      "source": [
        "train_df.shape, test_df.shape"
      ],
      "execution_count": 89,
      "outputs": [
        {
          "output_type": "execute_result",
          "data": {
            "text/plain": [
              "((12690, 2339), (4231, 2338))"
            ]
          },
          "metadata": {
            "tags": []
          },
          "execution_count": 89
        }
      ]
    },
    {
      "cell_type": "code",
      "metadata": {
        "id": "OqMZ3II9t0N3",
        "outputId": "402c1062-e990-42a2-8820-866c083a78c7",
        "colab": {
          "base_uri": "https://localhost:8080/"
        }
      },
      "source": [
        "# Check the skewwness \n",
        "train_df.skew()"
      ],
      "execution_count": 90,
      "outputs": [
        {
          "output_type": "execute_result",
          "data": {
            "text/plain": [
              "rating                        -1.875624\n",
              "votes                         14.522617\n",
              "cost                           3.978801\n",
              "city_mean_rating              -2.382833\n",
              "locality_mean_rating          -2.040968\n",
              "                                ...    \n",
              "closed_0.6065625780328759    112.649900\n",
              "closed_0.6229996528200331    112.649900\n",
              "closed_0.6395373422060688    112.649900\n",
              "closed_0.6693094597549367    112.649900\n",
              "closed_0.6778722496514116    112.649900\n",
              "Length: 2339, dtype: float64"
            ]
          },
          "metadata": {
            "tags": []
          },
          "execution_count": 90
        }
      ]
    },
    {
      "cell_type": "code",
      "metadata": {
        "id": "jQZ-dsNut0N-"
      },
      "source": [
        "# Remove the skewness\n",
        "train_df['cost'] = np.log1p(train_df['cost'])"
      ],
      "execution_count": 91,
      "outputs": []
    },
    {
      "cell_type": "code",
      "metadata": {
        "id": "7Vc_GTott0OI"
      },
      "source": [
        "train_df['votes'] = np.log1p(train_df['votes'])"
      ],
      "execution_count": 92,
      "outputs": []
    },
    {
      "cell_type": "code",
      "metadata": {
        "id": "I2kjApykt0OQ",
        "outputId": "d2adecac-0758-4536-b2eb-73811b05a178",
        "colab": {
          "base_uri": "https://localhost:8080/"
        }
      },
      "source": [
        "train_df['cost'].skew()"
      ],
      "execution_count": 93,
      "outputs": [
        {
          "output_type": "execute_result",
          "data": {
            "text/plain": [
              "0.39714937830985364"
            ]
          },
          "metadata": {
            "tags": []
          },
          "execution_count": 93
        }
      ]
    },
    {
      "cell_type": "markdown",
      "metadata": {
        "id": "awbSjdhJt0OY"
      },
      "source": [
        "# Train Test split "
      ]
    },
    {
      "cell_type": "code",
      "metadata": {
        "id": "6Fg6uPRst0OZ"
      },
      "source": [
        "X = train_df.drop(labels=['cost'], axis=1)\n",
        "y = train_df['cost'].values\n",
        "\n",
        "from sklearn.model_selection import train_test_split\n",
        "X_train, X_test, y_train, y_test = train_test_split(X, y, test_size=0.25, random_state=42)"
      ],
      "execution_count": 94,
      "outputs": []
    },
    {
      "cell_type": "code",
      "metadata": {
        "id": "NRJu2FGmt0O2"
      },
      "source": [
        "from sklearn.preprocessing import StandardScaler\n",
        "s = StandardScaler()\n",
        "X = s.fit_transform(X)"
      ],
      "execution_count": 95,
      "outputs": []
    },
    {
      "cell_type": "code",
      "metadata": {
        "id": "vqnd5hJ-t0O9",
        "outputId": "5275e26a-e618-454f-8115-f3446cfa81c5",
        "colab": {
          "base_uri": "https://localhost:8080/"
        }
      },
      "source": [
        "X_train.shape, y_train.shape, X_test.shape, y_test.shape"
      ],
      "execution_count": 96,
      "outputs": [
        {
          "output_type": "execute_result",
          "data": {
            "text/plain": [
              "((9517, 2338), (9517,), (3173, 2338), (3173,))"
            ]
          },
          "metadata": {
            "tags": []
          },
          "execution_count": 96
        }
      ]
    },
    {
      "cell_type": "markdown",
      "metadata": {
        "id": "Ndw3lm9at0PE"
      },
      "source": [
        "# Models "
      ]
    },
    {
      "cell_type": "markdown",
      "metadata": {
        "id": "6sCzSJp8t0PF"
      },
      "source": [
        "## Bagging Regressor "
      ]
    },
    {
      "cell_type": "code",
      "metadata": {
        "id": "5tjMvaPLxcED",
        "outputId": "196df4a0-3fa9-4912-cbcb-7da010a3f836",
        "colab": {
          "base_uri": "https://localhost:8080/"
        }
      },
      "source": [
        "from sklearn.ensemble import BaggingRegressor\n",
        "br = BaggingRegressor(base_estimator=None, \n",
        "                      n_estimators=80,  \n",
        "                      max_samples=1.0, \n",
        "                      max_features=1.0, \n",
        "                      bootstrap=True, \n",
        "                      bootstrap_features=True,\n",
        "                      oob_score=True,\n",
        "                      n_jobs=None, \n",
        "                      random_state=13, \n",
        "                      verbose=0)\n",
        "br.fit(X_train, y_train)\n",
        "y_pred3 = br.predict(X_test)\n",
        "print('RMSLE:', sqrt(mean_squared_log_error(y_test, y_pred3)))\n",
        "print('RMSE:', sqrt(mean_squared_error(y_test, y_pred3)))"
      ],
      "execution_count": 97,
      "outputs": [
        {
          "output_type": "stream",
          "text": [
            "RMSLE: 0.05113807968972529\n",
            "RMSE: 0.356140195791174\n"
          ],
          "name": "stdout"
        }
      ]
    },
    {
      "cell_type": "markdown",
      "metadata": {
        "id": "mjJpLPz8t0PI"
      },
      "source": [
        "# Random Forest Regressor "
      ]
    },
    {
      "cell_type": "code",
      "metadata": {
        "id": "kO6xLeoTt0PL",
        "outputId": "4ae61188-bdda-47b3-c4c5-a9e521edfc9b",
        "colab": {
          "base_uri": "https://localhost:8080/"
        }
      },
      "source": [
        "from sklearn.ensemble import RandomForestRegressor\n",
        "rf = RandomForestRegressor(n_estimators=29,  \n",
        "                           criterion='mse', \n",
        "                           max_depth=58,  \n",
        "                           min_samples_split=5, \n",
        "                           min_samples_leaf=2, \n",
        "                           min_weight_fraction_leaf=0.0, \n",
        "                           max_features='auto', \n",
        "                           max_leaf_nodes=None, \n",
        "                           min_impurity_decrease=0.20,  \n",
        "                           bootstrap=True, \n",
        "                           oob_score=True, \n",
        "                           n_jobs=-1, \n",
        "                           random_state=11)  \n",
        "rf.fit(X_train, y_train)\n",
        "y_pred4 = rf.predict(X_test)\n",
        "print('RMSLE:', sqrt(mean_squared_log_error(y_test, y_pred4)))\n",
        "print('RMSE:', sqrt(mean_squared_error(y_test, y_pred4)))"
      ],
      "execution_count": 98,
      "outputs": [
        {
          "output_type": "stream",
          "text": [
            "RMSLE: 0.09889588087731874\n",
            "RMSE: 0.714260540109632\n"
          ],
          "name": "stdout"
        }
      ]
    },
    {
      "cell_type": "markdown",
      "metadata": {
        "id": "gr7Q4_bHt0Qg"
      },
      "source": [
        "# Gradient Boosting Regressor"
      ]
    },
    {
      "cell_type": "code",
      "metadata": {
        "id": "5L9tE1mRt0Qg",
        "outputId": "6dec78a3-78dc-4310-9cba-e8c44cb46485",
        "colab": {
          "base_uri": "https://localhost:8080/"
        }
      },
      "source": [
        "from sklearn.ensemble import GradientBoostingRegressor\n",
        "gb = GradientBoostingRegressor(loss='lad', \n",
        "                               learning_rate=0.2,  \n",
        "                               random_state=10, \n",
        "                               n_estimators=92,   \n",
        "                               max_depth=11,  \n",
        "                               subsample=1.0, \n",
        "                               min_samples_split=40, \n",
        "                               min_samples_leaf=1,\n",
        "                               max_features='auto')\n",
        "gb.fit(X_train, y_train)\n",
        "y_pred2 = gb.predict(X_test)\n",
        "print('RMSLE:', sqrt(mean_squared_log_error(y_test, y_pred2)))\n",
        "print('RMSE:', sqrt(mean_squared_error(y_test, y_pred4)))"
      ],
      "execution_count": 99,
      "outputs": [
        {
          "output_type": "stream",
          "text": [
            "RMSLE: 0.05196636657588763\n",
            "RMSE: 0.714260540109632\n"
          ],
          "name": "stdout"
        }
      ]
    },
    {
      "cell_type": "markdown",
      "metadata": {
        "id": "58xhwAJVt0Sd"
      },
      "source": [
        "# Light Gradient Boostin Machine \n",
        "\n",
        "\n"
      ]
    },
    {
      "cell_type": "code",
      "metadata": {
        "id": "htbGvD7St0Si",
        "outputId": "e7a530ed-bc57-45de-ef72-efa8f6a941d5",
        "colab": {
          "base_uri": "https://localhost:8080/"
        }
      },
      "source": [
        "train_data = lgb.Dataset(X_train, label=y_train)\n",
        "test_data = lgb.Dataset(X_test, label=y_test)\n",
        "\n",
        "param = {'objective': 'regression',\n",
        "         'boosting': 'dart',\n",
        "         'num_iterations': 152,   \n",
        "         'learning_rate': 0.1,  \n",
        "         'num_leaves': 52, \n",
        "         'max_depth': 28, \n",
        "         'min_data_in_leaf': 3, \n",
        "         'feature_fraction': 0.66,  \n",
        "         'feature_fraction_seed': 10,\n",
        "         'drop_seed': 4,\n",
        "         'alpha': 100,\n",
        "         'max_bin': 7,\n",
        "         'min_data_in_bin': 45,   \n",
        "         'metric': 'l2_root'\n",
        "         }\n",
        "\n",
        "lgbm = lgb.train(params=param,\n",
        "                 verbose_eval=0,\n",
        "                 train_set=train_data,\n",
        "                 valid_sets=[test_data])\n",
        "\n",
        "y_pred1 = lgbm.predict(X_test)\n",
        "print('RMSLE:', sqrt(mean_squared_log_error(y_test, y_pred1)))\n",
        "print('RMSE:', sqrt(mean_squared_error(y_test, y_pred1)))"
      ],
      "execution_count": 108,
      "outputs": [
        {
          "output_type": "stream",
          "text": [
            "RMSLE: 0.12684719587389384\n",
            "RMSE: 0.875367414357291\n"
          ],
          "name": "stdout"
        }
      ]
    },
    {
      "cell_type": "markdown",
      "metadata": {
        "id": "TlLOhXHQ4iCA"
      },
      "source": [
        "# Conclusion \n",
        "After observing all the models you can conlude that LIght Gradient Boosting machine is the best model for train and test.And even Random Forest too."
      ]
    },
    {
      "cell_type": "code",
      "metadata": {
        "id": "vVuTJ52y45zT",
        "outputId": "8e464bf6-0166-4f92-b860-cd3ac671b7f1",
        "colab": {
          "base_uri": "https://localhost:8080/"
        }
      },
      "source": [
        "import joblib\n",
        "joblib.dump(y_pred1,'food_cost.pkl')"
      ],
      "execution_count": 109,
      "outputs": [
        {
          "output_type": "execute_result",
          "data": {
            "text/plain": [
              "['food_cost.pkl']"
            ]
          },
          "metadata": {
            "tags": []
          },
          "execution_count": 109
        }
      ]
    }
  ]
}